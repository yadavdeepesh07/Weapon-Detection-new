{
 "cells": [
  {
   "cell_type": "code",
   "execution_count": 5,
   "id": "4c251177",
   "metadata": {},
   "outputs": [],
   "source": [
    "from ultralytics import YOLO\n",
    "\n",
    "# Load the YOLOv8n model (you can use 'yolov8s.pt', 'yolov8m.pt', etc., for better accuracy on stronger hardware)\n",
    "model = YOLO('yolov8s.pt')\n",
    "\n",
    "\n"
   ]
  },
  {
   "cell_type": "code",
   "execution_count": null,
   "id": "7d846a21",
   "metadata": {},
   "outputs": [
    {
     "name": "stdout",
     "output_type": "stream",
     "text": [
      "Using device: GPU\n",
      "Ultralytics 8.3.126  Python-3.10.16 torch-2.5.1+cu121 CUDA:0 (NVIDIA GeForce RTX 3050 Laptop GPU, 4096MiB)\n",
      "\u001b[34m\u001b[1mengine\\trainer: \u001b[0magnostic_nms=False, amp=True, augment=True, auto_augment=randaugment, batch=32, bgr=0.0, box=7.5, cache=False, cfg=None, classes=None, close_mosaic=10, cls=0.5, conf=None, copy_paste=0.0, copy_paste_mode=flip, cos_lr=False, cutmix=0.0, data=C:\\Users\\dsy92\\OneDrive\\Desktop\\Weapon-Detection\\enhance_image\\weapon_data.yaml, degrees=0.0, deterministic=True, device=cuda:0, dfl=1.5, dnn=False, dropout=0.2, dynamic=False, embed=None, epochs=100, erasing=0.4, exist_ok=False, fliplr=0.5, flipud=0.0, format=torchscript, fraction=1.0, freeze=None, half=False, hsv_h=0.015, hsv_s=0.7, hsv_v=0.4, imgsz=416, int8=False, iou=0.7, keras=False, kobj=1.0, line_width=None, lr0=0.01, lrf=0.01, mask_ratio=4, max_det=300, mixup=0.0, mode=train, model=yolov8s.pt, momentum=0.937, mosaic=1.0, multi_scale=False, name=weapon-detector27, nbs=64, nms=False, opset=None, optimize=False, optimizer=auto, overlap_mask=True, patience=5, perspective=0.0, plots=True, pose=12.0, pretrained=True, profile=False, project=runs/train, rect=False, resume=False, retina_masks=False, save=True, save_conf=False, save_crop=False, save_dir=runs\\train\\weapon-detector27, save_frames=False, save_json=False, save_period=5, save_txt=False, scale=0.5, seed=0, shear=0.0, show=False, show_boxes=True, show_conf=True, show_labels=True, simplify=True, single_cls=False, source=None, split=val, stream_buffer=False, task=detect, time=None, tracker=botsort.yaml, translate=0.1, val=True, verbose=True, vid_stride=1, visualize=False, warmup_bias_lr=0.1, warmup_epochs=3.0, warmup_momentum=0.8, weight_decay=0.0005, workers=6, workspace=None\n",
      "WARNING:tensorflow:From c:\\Users\\dsy92\\OneDrive\\Desktop\\Weapon-Detection\\new_env\\lib\\site-packages\\keras\\src\\losses.py:2976: The name tf.losses.sparse_softmax_cross_entropy is deprecated. Please use tf.compat.v1.losses.sparse_softmax_cross_entropy instead.\n",
      "\n",
      "Overriding model.yaml nc=80 with nc=10\n",
      "\n",
      "                   from  n    params  module                                       arguments                     \n",
      "  0                  -1  1       928  ultralytics.nn.modules.conv.Conv             [3, 32, 3, 2]                 \n",
      "  1                  -1  1     18560  ultralytics.nn.modules.conv.Conv             [32, 64, 3, 2]                \n",
      "  2                  -1  1     29056  ultralytics.nn.modules.block.C2f             [64, 64, 1, True]             \n",
      "  3                  -1  1     73984  ultralytics.nn.modules.conv.Conv             [64, 128, 3, 2]               \n",
      "  4                  -1  2    197632  ultralytics.nn.modules.block.C2f             [128, 128, 2, True]           \n",
      "  5                  -1  1    295424  ultralytics.nn.modules.conv.Conv             [128, 256, 3, 2]              \n",
      "  6                  -1  2    788480  ultralytics.nn.modules.block.C2f             [256, 256, 2, True]           \n",
      "  7                  -1  1   1180672  ultralytics.nn.modules.conv.Conv             [256, 512, 3, 2]              \n",
      "  8                  -1  1   1838080  ultralytics.nn.modules.block.C2f             [512, 512, 1, True]           \n",
      "  9                  -1  1    656896  ultralytics.nn.modules.block.SPPF            [512, 512, 5]                 \n",
      " 10                  -1  1         0  torch.nn.modules.upsampling.Upsample         [None, 2, 'nearest']          \n",
      " 11             [-1, 6]  1         0  ultralytics.nn.modules.conv.Concat           [1]                           \n",
      " 12                  -1  1    591360  ultralytics.nn.modules.block.C2f             [768, 256, 1]                 \n",
      " 13                  -1  1         0  torch.nn.modules.upsampling.Upsample         [None, 2, 'nearest']          \n",
      " 14             [-1, 4]  1         0  ultralytics.nn.modules.conv.Concat           [1]                           \n",
      " 15                  -1  1    148224  ultralytics.nn.modules.block.C2f             [384, 128, 1]                 \n",
      " 16                  -1  1    147712  ultralytics.nn.modules.conv.Conv             [128, 128, 3, 2]              \n",
      " 17            [-1, 12]  1         0  ultralytics.nn.modules.conv.Concat           [1]                           \n",
      " 18                  -1  1    493056  ultralytics.nn.modules.block.C2f             [384, 256, 1]                 \n",
      " 19                  -1  1    590336  ultralytics.nn.modules.conv.Conv             [256, 256, 3, 2]              \n",
      " 20             [-1, 9]  1         0  ultralytics.nn.modules.conv.Concat           [1]                           \n",
      " 21                  -1  1   1969152  ultralytics.nn.modules.block.C2f             [768, 512, 1]                 \n",
      " 22        [15, 18, 21]  1   2119918  ultralytics.nn.modules.head.Detect           [10, [128, 256, 512]]         \n",
      "Model summary: 129 layers, 11,139,470 parameters, 11,139,454 gradients, 28.7 GFLOPs\n",
      "\n",
      "Transferred 349/355 items from pretrained weights\n",
      "\u001b[34m\u001b[1mTensorBoard: \u001b[0mStart with 'tensorboard --logdir runs\\train\\weapon-detector27', view at http://localhost:6006/\n",
      "Freezing layer 'model.22.dfl.conv.weight'\n",
      "\u001b[34m\u001b[1mAMP: \u001b[0mrunning Automatic Mixed Precision (AMP) checks...\n",
      "\u001b[34m\u001b[1mAMP: \u001b[0mchecks passed \n",
      "\u001b[34m\u001b[1mtrain: \u001b[0mFast image access  (ping: 0.30.2 ms, read: 261.3249.8 MB/s, size: 81.7 KB)\n"
     ]
    },
    {
     "name": "stderr",
     "output_type": "stream",
     "text": [
      "\u001b[34m\u001b[1mtrain: \u001b[0mScanning C:\\Users\\dsy92\\OneDrive\\Desktop\\Weapon-Detection\\enhance_image\\train\\labels.cache... 36963 images, 18483 backgrounds, 0 corrupt: 100%|██████████| 36963/36963 [00:00<?, ?it/s]\n"
     ]
    },
    {
     "name": "stdout",
     "output_type": "stream",
     "text": [
      "\u001b[34m\u001b[1mval: \u001b[0mFast image access  (ping: 1.20.8 ms, read: 5.20.5 MB/s, size: 99.2 KB)\n"
     ]
    },
    {
     "name": "stderr",
     "output_type": "stream",
     "text": [
      "\u001b[34m\u001b[1mval: \u001b[0mScanning C:\\Users\\dsy92\\OneDrive\\Desktop\\Weapon-Detection\\enhance_image\\valid\\labels.cache... 1994 images, 0 backgrounds, 99 corrupt: 100%|██████████| 1994/1994 [00:00<?, ?it/s]"
     ]
    },
    {
     "name": "stdout",
     "output_type": "stream",
     "text": [
      "\u001b[34m\u001b[1mval: \u001b[0mWARNING  C:\\Users\\dsy92\\OneDrive\\Desktop\\Weapon-Detection\\enhance_image\\valid\\images\\Automatic-Rifle_14_jpeg.rf.d1b052df545821703eb696283d0aeda1.jpg: ignoring corrupt image/label: Label class 1 exceeds dataset class count 1. Possible class labels are 0-0\n",
      "\u001b[34m\u001b[1mval: \u001b[0mWARNING  C:\\Users\\dsy92\\OneDrive\\Desktop\\Weapon-Detection\\enhance_image\\valid\\images\\Automatic-Rifle_17_jpeg.rf.5e3c19e03c7ce71cc125f0f8da9733a8.jpg: ignoring corrupt image/label: Label class 1 exceeds dataset class count 1. Possible class labels are 0-0\n",
      "\u001b[34m\u001b[1mval: \u001b[0mWARNING  C:\\Users\\dsy92\\OneDrive\\Desktop\\Weapon-Detection\\enhance_image\\valid\\images\\Automatic-Rifle_19_jpeg.rf.f921a5163c595ced0f9042a214c2ba60.jpg: ignoring corrupt image/label: Label class 1 exceeds dataset class count 1. Possible class labels are 0-0\n",
      "\u001b[34m\u001b[1mval: \u001b[0mWARNING  C:\\Users\\dsy92\\OneDrive\\Desktop\\Weapon-Detection\\enhance_image\\valid\\images\\Automatic-Rifle_44_jpeg.rf.9698c0a0303dbfbf97165e24c5c6b068.jpg: ignoring corrupt image/label: Label class 1 exceeds dataset class count 1. Possible class labels are 0-0\n",
      "\u001b[34m\u001b[1mval: \u001b[0mWARNING  C:\\Users\\dsy92\\OneDrive\\Desktop\\Weapon-Detection\\enhance_image\\valid\\images\\Automatic-Rifle_48_png.rf.a0b3894f4f86f1b3b34767146fc2a466.jpg: ignoring corrupt image/label: Label class 1 exceeds dataset class count 1. Possible class labels are 0-0\n",
      "\u001b[34m\u001b[1mval: \u001b[0mWARNING  C:\\Users\\dsy92\\OneDrive\\Desktop\\Weapon-Detection\\enhance_image\\valid\\images\\Automatic-Rifle_51_jpeg.rf.b283ae5fa659eb9f7a2de4d9f2610c84.jpg: ignoring corrupt image/label: Label class 1 exceeds dataset class count 1. Possible class labels are 0-0\n",
      "\u001b[34m\u001b[1mval: \u001b[0mWARNING  C:\\Users\\dsy92\\OneDrive\\Desktop\\Weapon-Detection\\enhance_image\\valid\\images\\Bazooka_10_png.rf.6c07a43bd134a7f316b0a2f7bec400d4.jpg: ignoring corrupt image/label: Label class 2 exceeds dataset class count 1. Possible class labels are 0-0\n",
      "\u001b[34m\u001b[1mval: \u001b[0mWARNING  C:\\Users\\dsy92\\OneDrive\\Desktop\\Weapon-Detection\\enhance_image\\valid\\images\\Bazooka_12_jpeg.rf.aa5a0014a670f4913374a9fb2cf1c8d9.jpg: ignoring corrupt image/label: Label class 2 exceeds dataset class count 1. Possible class labels are 0-0\n",
      "\u001b[34m\u001b[1mval: \u001b[0mWARNING  C:\\Users\\dsy92\\OneDrive\\Desktop\\Weapon-Detection\\enhance_image\\valid\\images\\Bazooka_19_jpeg.rf.d5b8757467969249ceb89c5afda9c005.jpg: ignoring corrupt image/label: Label class 2 exceeds dataset class count 1. Possible class labels are 0-0\n",
      "\u001b[34m\u001b[1mval: \u001b[0mWARNING  C:\\Users\\dsy92\\OneDrive\\Desktop\\Weapon-Detection\\enhance_image\\valid\\images\\Bazooka_30_jpeg.rf.7f9dc762f1cdbe4133d9b2afa2190bcf.jpg: ignoring corrupt image/label: Label class 2 exceeds dataset class count 1. Possible class labels are 0-0\n",
      "\u001b[34m\u001b[1mval: \u001b[0mWARNING  C:\\Users\\dsy92\\OneDrive\\Desktop\\Weapon-Detection\\enhance_image\\valid\\images\\Bazooka_33_jpeg.rf.5cc04b3aa0e1c84b28a38f650697b353.jpg: ignoring corrupt image/label: Label class 2 exceeds dataset class count 1. Possible class labels are 0-0\n",
      "\u001b[34m\u001b[1mval: \u001b[0mWARNING  C:\\Users\\dsy92\\OneDrive\\Desktop\\Weapon-Detection\\enhance_image\\valid\\images\\Bazooka_39_jpeg.rf.7220aa166480679cb5447e4f143e328d.jpg: ignoring corrupt image/label: Label class 2 exceeds dataset class count 1. Possible class labels are 0-0\n",
      "\u001b[34m\u001b[1mval: \u001b[0mWARNING  C:\\Users\\dsy92\\OneDrive\\Desktop\\Weapon-Detection\\enhance_image\\valid\\images\\Bazooka_50_png.rf.cb00741a758b1aa31f693b8cc0c2d58c.jpg: ignoring corrupt image/label: Label class 2 exceeds dataset class count 1. Possible class labels are 0-0\n",
      "\u001b[34m\u001b[1mval: \u001b[0mWARNING  C:\\Users\\dsy92\\OneDrive\\Desktop\\Weapon-Detection\\enhance_image\\valid\\images\\Bazooka_59_jpeg.rf.6f6b4c3f5dc44bed68136ab3873415ec.jpg: ignoring corrupt image/label: Label class 2 exceeds dataset class count 1. Possible class labels are 0-0\n",
      "\u001b[34m\u001b[1mval: \u001b[0mWARNING  C:\\Users\\dsy92\\OneDrive\\Desktop\\Weapon-Detection\\enhance_image\\valid\\images\\Bazooka_6_jpeg.rf.6aac66a4dd47a200a1ef487f1f1b4674.jpg: ignoring corrupt image/label: Label class 2 exceeds dataset class count 1. Possible class labels are 0-0\n",
      "\u001b[34m\u001b[1mval: \u001b[0mWARNING  C:\\Users\\dsy92\\OneDrive\\Desktop\\Weapon-Detection\\enhance_image\\valid\\images\\Bazooka_76_png.rf.0ff8e59108f2e047c883d37c58923bfb.jpg: ignoring corrupt image/label: Label class 2 exceeds dataset class count 1. Possible class labels are 0-0\n",
      "\u001b[34m\u001b[1mval: \u001b[0mWARNING  C:\\Users\\dsy92\\OneDrive\\Desktop\\Weapon-Detection\\enhance_image\\valid\\images\\Bazooka_86_jpeg.rf.950fba708fcf6b9d8c6635b539658b9b.jpg: ignoring corrupt image/label: Label class 2 exceeds dataset class count 1. Possible class labels are 0-0\n",
      "\u001b[34m\u001b[1mval: \u001b[0mWARNING  C:\\Users\\dsy92\\OneDrive\\Desktop\\Weapon-Detection\\enhance_image\\valid\\images\\Bazooka_87_jpeg.rf.f26436fb124e52274618b5d4776920cb.jpg: ignoring corrupt image/label: Label class 2 exceeds dataset class count 1. Possible class labels are 0-0\n",
      "\u001b[34m\u001b[1mval: \u001b[0mWARNING  C:\\Users\\dsy92\\OneDrive\\Desktop\\Weapon-Detection\\enhance_image\\valid\\images\\Grenade-Launcher_11_jpeg.rf.61abcdd6664129bef77a9842019e75d7.jpg: ignoring corrupt image/label: Label class 3 exceeds dataset class count 1. Possible class labels are 0-0\n",
      "\u001b[34m\u001b[1mval: \u001b[0mWARNING  C:\\Users\\dsy92\\OneDrive\\Desktop\\Weapon-Detection\\enhance_image\\valid\\images\\Grenade-Launcher_16_jpeg.rf.cd98cee7c369e03c4a6d980e1cbb0005.jpg: ignoring corrupt image/label: Label class 3 exceeds dataset class count 1. Possible class labels are 0-0\n",
      "\u001b[34m\u001b[1mval: \u001b[0mWARNING  C:\\Users\\dsy92\\OneDrive\\Desktop\\Weapon-Detection\\enhance_image\\valid\\images\\Grenade-Launcher_30_jpeg.rf.aa03863ba8c804bde4f5099b5c4d728c.jpg: ignoring corrupt image/label: Label class 3 exceeds dataset class count 1. Possible class labels are 0-0\n",
      "\u001b[34m\u001b[1mval: \u001b[0mWARNING  C:\\Users\\dsy92\\OneDrive\\Desktop\\Weapon-Detection\\enhance_image\\valid\\images\\Grenade-Launcher_34_jpeg.rf.b73d32e978c7fae4ee7f5033cd72db7b.jpg: ignoring corrupt image/label: Label class 3 exceeds dataset class count 1. Possible class labels are 0-0\n",
      "\u001b[34m\u001b[1mval: \u001b[0mWARNING  C:\\Users\\dsy92\\OneDrive\\Desktop\\Weapon-Detection\\enhance_image\\valid\\images\\Grenade-Launcher_36_jpeg.rf.1710c97fc8f9e9c03b02a6ae44ea45f7.jpg: ignoring corrupt image/label: Label class 3 exceeds dataset class count 1. Possible class labels are 0-0\n",
      "\u001b[34m\u001b[1mval: \u001b[0mWARNING  C:\\Users\\dsy92\\OneDrive\\Desktop\\Weapon-Detection\\enhance_image\\valid\\images\\Grenade-Launcher_48_jpeg.rf.851b68dec26909f59b5979157edc6d42.jpg: ignoring corrupt image/label: Label class 3 exceeds dataset class count 1. Possible class labels are 0-0\n",
      "\u001b[34m\u001b[1mval: \u001b[0mWARNING  C:\\Users\\dsy92\\OneDrive\\Desktop\\Weapon-Detection\\enhance_image\\valid\\images\\Grenade-Launcher_50_jpeg.rf.053548e4db52c25dc5a420fb4eec6cb7.jpg: ignoring corrupt image/label: Label class 3 exceeds dataset class count 1. Possible class labels are 0-0\n",
      "\u001b[34m\u001b[1mval: \u001b[0mWARNING  C:\\Users\\dsy92\\OneDrive\\Desktop\\Weapon-Detection\\enhance_image\\valid\\images\\Grenade-Launcher_5_png.rf.1442905e51cf0ef6b4d5247e437f78bc.jpg: ignoring corrupt image/label: Label class 1 exceeds dataset class count 1. Possible class labels are 0-0\n",
      "\u001b[34m\u001b[1mval: \u001b[0mWARNING  C:\\Users\\dsy92\\OneDrive\\Desktop\\Weapon-Detection\\enhance_image\\valid\\images\\Grenade-Launcher_85_jpeg.rf.23bb34bc70e4d737268febd00c4edd4a.jpg: ignoring corrupt image/label: Label class 3 exceeds dataset class count 1. Possible class labels are 0-0\n",
      "\u001b[34m\u001b[1mval: \u001b[0mWARNING  C:\\Users\\dsy92\\OneDrive\\Desktop\\Weapon-Detection\\enhance_image\\valid\\images\\Handgun_11_jpeg.rf.8ececa00471c0ef768405f314abd8cac.jpg: ignoring corrupt image/label: Label class 4 exceeds dataset class count 1. Possible class labels are 0-0\n",
      "\u001b[34m\u001b[1mval: \u001b[0mWARNING  C:\\Users\\dsy92\\OneDrive\\Desktop\\Weapon-Detection\\enhance_image\\valid\\images\\Handgun_12_jpeg.rf.9068c3ab2fcfdb06ac077b7c41c33d3f.jpg: ignoring corrupt image/label: Label class 4 exceeds dataset class count 1. Possible class labels are 0-0\n",
      "\u001b[34m\u001b[1mval: \u001b[0mWARNING  C:\\Users\\dsy92\\OneDrive\\Desktop\\Weapon-Detection\\enhance_image\\valid\\images\\Handgun_14_jpeg.rf.4f751b44f3f7cdf2cf724981a7f60f10.jpg: ignoring corrupt image/label: Label class 4 exceeds dataset class count 1. Possible class labels are 0-0\n",
      "\u001b[34m\u001b[1mval: \u001b[0mWARNING  C:\\Users\\dsy92\\OneDrive\\Desktop\\Weapon-Detection\\enhance_image\\valid\\images\\Handgun_19_jpeg.rf.c7c4b2e6c5180ab03fd2ab241337fc83.jpg: ignoring corrupt image/label: Label class 4 exceeds dataset class count 1. Possible class labels are 0-0\n",
      "\u001b[34m\u001b[1mval: \u001b[0mWARNING  C:\\Users\\dsy92\\OneDrive\\Desktop\\Weapon-Detection\\enhance_image\\valid\\images\\Handgun_22_jpeg.rf.d5fb79585840d74ea6b2aac3c93e0694.jpg: ignoring corrupt image/label: Label class 1 exceeds dataset class count 1. Possible class labels are 0-0\n",
      "\u001b[34m\u001b[1mval: \u001b[0mWARNING  C:\\Users\\dsy92\\OneDrive\\Desktop\\Weapon-Detection\\enhance_image\\valid\\images\\Handgun_29_jpeg.rf.439c9bf812c21975a67f189d23730963.jpg: ignoring corrupt image/label: Label class 4 exceeds dataset class count 1. Possible class labels are 0-0\n",
      "\u001b[34m\u001b[1mval: \u001b[0mWARNING  C:\\Users\\dsy92\\OneDrive\\Desktop\\Weapon-Detection\\enhance_image\\valid\\images\\Handgun_30_jpeg.rf.921b9e04e718ec76eca73562e4fbfb98.jpg: ignoring corrupt image/label: Label class 4 exceeds dataset class count 1. Possible class labels are 0-0\n",
      "\u001b[34m\u001b[1mval: \u001b[0mWARNING  C:\\Users\\dsy92\\OneDrive\\Desktop\\Weapon-Detection\\enhance_image\\valid\\images\\Handgun_41_jpeg.rf.48d043d785b8563c35efd5196bbad5ef.jpg: ignoring corrupt image/label: Label class 4 exceeds dataset class count 1. Possible class labels are 0-0\n",
      "\u001b[34m\u001b[1mval: \u001b[0mWARNING  C:\\Users\\dsy92\\OneDrive\\Desktop\\Weapon-Detection\\enhance_image\\valid\\images\\Handgun_45_jpeg.rf.9c43610fe54d3c503c4371539162c401.jpg: ignoring corrupt image/label: Label class 4 exceeds dataset class count 1. Possible class labels are 0-0\n",
      "\u001b[34m\u001b[1mval: \u001b[0mWARNING  C:\\Users\\dsy92\\OneDrive\\Desktop\\Weapon-Detection\\enhance_image\\valid\\images\\Knife_14_jpeg.rf.293dfedf37deff6835484d15514eee5f.jpg: ignoring corrupt image/label: Label class 5 exceeds dataset class count 1. Possible class labels are 0-0\n",
      "\u001b[34m\u001b[1mval: \u001b[0mWARNING  C:\\Users\\dsy92\\OneDrive\\Desktop\\Weapon-Detection\\enhance_image\\valid\\images\\Knife_15_jpeg.rf.e25e5906b10adaa6b6542fbbbfb08347.jpg: ignoring corrupt image/label: Label class 5 exceeds dataset class count 1. Possible class labels are 0-0\n",
      "\u001b[34m\u001b[1mval: \u001b[0mWARNING  C:\\Users\\dsy92\\OneDrive\\Desktop\\Weapon-Detection\\enhance_image\\valid\\images\\Knife_30_jpeg.rf.b5f641c049b8360c92ba94a19f51d3f5.jpg: ignoring corrupt image/label: Label class 5 exceeds dataset class count 1. Possible class labels are 0-0\n",
      "\u001b[34m\u001b[1mval: \u001b[0mWARNING  C:\\Users\\dsy92\\OneDrive\\Desktop\\Weapon-Detection\\enhance_image\\valid\\images\\Knife_44_jpeg.rf.12dc4a721242ab32458b184219eb5abf.jpg: ignoring corrupt image/label: Label class 5 exceeds dataset class count 1. Possible class labels are 0-0\n",
      "\u001b[34m\u001b[1mval: \u001b[0mWARNING  C:\\Users\\dsy92\\OneDrive\\Desktop\\Weapon-Detection\\enhance_image\\valid\\images\\Knife_51_jpeg.rf.4c3a3984641e1eaf1670b2ba93591747.jpg: ignoring corrupt image/label: Label class 5 exceeds dataset class count 1. Possible class labels are 0-0\n",
      "\u001b[34m\u001b[1mval: \u001b[0mWARNING  C:\\Users\\dsy92\\OneDrive\\Desktop\\Weapon-Detection\\enhance_image\\valid\\images\\Knife_52_jpeg.rf.6e7627f1a722e4d410176fec43d9945e.jpg: ignoring corrupt image/label: Label class 5 exceeds dataset class count 1. Possible class labels are 0-0\n",
      "\u001b[34m\u001b[1mval: \u001b[0mWARNING  C:\\Users\\dsy92\\OneDrive\\Desktop\\Weapon-Detection\\enhance_image\\valid\\images\\Knife_56_png.rf.07c3a473fb56ea0f704411a417e53379.jpg: ignoring corrupt image/label: Label class 5 exceeds dataset class count 1. Possible class labels are 0-0\n",
      "\u001b[34m\u001b[1mval: \u001b[0mWARNING  C:\\Users\\dsy92\\OneDrive\\Desktop\\Weapon-Detection\\enhance_image\\valid\\images\\Knife_5_jpeg.rf.a1344eed2749eee891e89c44cdf159a9.jpg: ignoring corrupt image/label: Label class 5 exceeds dataset class count 1. Possible class labels are 0-0\n",
      "\u001b[34m\u001b[1mval: \u001b[0mWARNING  C:\\Users\\dsy92\\OneDrive\\Desktop\\Weapon-Detection\\enhance_image\\valid\\images\\Knife_75_jpeg.rf.a3fe23d3336d306c981fecd6342ac8f0.jpg: ignoring corrupt image/label: Label class 5 exceeds dataset class count 1. Possible class labels are 0-0\n",
      "\u001b[34m\u001b[1mval: \u001b[0mWARNING  C:\\Users\\dsy92\\OneDrive\\Desktop\\Weapon-Detection\\enhance_image\\valid\\images\\Knife_7_jpeg.rf.34d92d25f96356cfcabe6105d9086a44.jpg: ignoring corrupt image/label: Label class 5 exceeds dataset class count 1. Possible class labels are 0-0\n",
      "\u001b[34m\u001b[1mval: \u001b[0mWARNING  C:\\Users\\dsy92\\OneDrive\\Desktop\\Weapon-Detection\\enhance_image\\valid\\images\\Knife_83_jpeg.rf.ec819906c00b04b61ece106207191512.jpg: ignoring corrupt image/label: Label class 5 exceeds dataset class count 1. Possible class labels are 0-0\n",
      "\u001b[34m\u001b[1mval: \u001b[0mWARNING  C:\\Users\\dsy92\\OneDrive\\Desktop\\Weapon-Detection\\enhance_image\\valid\\images\\Knife_90_jpeg.rf.7231b39752b007d43673fd4e1dbbb35d.jpg: ignoring corrupt image/label: Label class 5 exceeds dataset class count 1. Possible class labels are 0-0\n",
      "\u001b[34m\u001b[1mval: \u001b[0mWARNING  C:\\Users\\dsy92\\OneDrive\\Desktop\\Weapon-Detection\\enhance_image\\valid\\images\\SMG_10_jpeg.rf.c9956cac8a1bf6069b95442bf463d19c.jpg: ignoring corrupt image/label: Label class 6 exceeds dataset class count 1. Possible class labels are 0-0\n",
      "\u001b[34m\u001b[1mval: \u001b[0mWARNING  C:\\Users\\dsy92\\OneDrive\\Desktop\\Weapon-Detection\\enhance_image\\valid\\images\\SMG_18_png.rf.213eac3e930ab92e87f56d3f611bd6b5.jpg: ignoring corrupt image/label: Label class 6 exceeds dataset class count 1. Possible class labels are 0-0\n",
      "\u001b[34m\u001b[1mval: \u001b[0mWARNING  C:\\Users\\dsy92\\OneDrive\\Desktop\\Weapon-Detection\\enhance_image\\valid\\images\\SMG_22_jpeg.rf.aacc07bde0f9d949319751170fcf01b1.jpg: ignoring corrupt image/label: Label class 6 exceeds dataset class count 1. Possible class labels are 0-0\n",
      "\u001b[34m\u001b[1mval: \u001b[0mWARNING  C:\\Users\\dsy92\\OneDrive\\Desktop\\Weapon-Detection\\enhance_image\\valid\\images\\SMG_28_jpeg.rf.c0f492a2490539b869dcaba526f5874b.jpg: ignoring corrupt image/label: Label class 6 exceeds dataset class count 1. Possible class labels are 0-0\n",
      "\u001b[34m\u001b[1mval: \u001b[0mWARNING  C:\\Users\\dsy92\\OneDrive\\Desktop\\Weapon-Detection\\enhance_image\\valid\\images\\SMG_3_jpeg.rf.a92b011d29a7996786b98d26a27ddf9f.jpg: ignoring corrupt image/label: Label class 6 exceeds dataset class count 1. Possible class labels are 0-0\n",
      "\u001b[34m\u001b[1mval: \u001b[0mWARNING  C:\\Users\\dsy92\\OneDrive\\Desktop\\Weapon-Detection\\enhance_image\\valid\\images\\SMG_40_jpeg.rf.dff6719de30964c00769cfc132ec8860.jpg: ignoring corrupt image/label: Label class 6 exceeds dataset class count 1. Possible class labels are 0-0\n",
      "\u001b[34m\u001b[1mval: \u001b[0mWARNING  C:\\Users\\dsy92\\OneDrive\\Desktop\\Weapon-Detection\\enhance_image\\valid\\images\\SMG_48_jpeg.rf.27370e0c27d5b590e11b6d5fd1ac1169.jpg: ignoring corrupt image/label: Label class 6 exceeds dataset class count 1. Possible class labels are 0-0\n",
      "\u001b[34m\u001b[1mval: \u001b[0mWARNING  C:\\Users\\dsy92\\OneDrive\\Desktop\\Weapon-Detection\\enhance_image\\valid\\images\\SMG_53_jpeg.rf.ba24ec3a282a3753b585307367a91253.jpg: ignoring corrupt image/label: Label class 6 exceeds dataset class count 1. Possible class labels are 0-0\n",
      "\u001b[34m\u001b[1mval: \u001b[0mWARNING  C:\\Users\\dsy92\\OneDrive\\Desktop\\Weapon-Detection\\enhance_image\\valid\\images\\SMG_58_png.rf.17c295d41b949362c35854619b3708c6.jpg: ignoring corrupt image/label: Label class 6 exceeds dataset class count 1. Possible class labels are 0-0\n",
      "\u001b[34m\u001b[1mval: \u001b[0mWARNING  C:\\Users\\dsy92\\OneDrive\\Desktop\\Weapon-Detection\\enhance_image\\valid\\images\\SMG_6_jpeg.rf.604e21b93e097571c627bd8b76d3c46f.jpg: ignoring corrupt image/label: Label class 6 exceeds dataset class count 1. Possible class labels are 0-0\n",
      "\u001b[34m\u001b[1mval: \u001b[0mWARNING  C:\\Users\\dsy92\\OneDrive\\Desktop\\Weapon-Detection\\enhance_image\\valid\\images\\SMG_76_jpeg.rf.31e4b83996d610bc05da6fe5ce1f34a5.jpg: ignoring corrupt image/label: Label class 6 exceeds dataset class count 1. Possible class labels are 0-0\n",
      "\u001b[34m\u001b[1mval: \u001b[0mWARNING  C:\\Users\\dsy92\\OneDrive\\Desktop\\Weapon-Detection\\enhance_image\\valid\\images\\SMG_7_jpeg.rf.ac5195ec62c0a835dd6710a89f59fa26.jpg: ignoring corrupt image/label: Label class 9 exceeds dataset class count 1. Possible class labels are 0-0\n",
      "\u001b[34m\u001b[1mval: \u001b[0mWARNING  C:\\Users\\dsy92\\OneDrive\\Desktop\\Weapon-Detection\\enhance_image\\valid\\images\\SMG_82_jpeg.rf.9a42b6a3157990a5efcc239f1bb998de.jpg: ignoring corrupt image/label: Label class 6 exceeds dataset class count 1. Possible class labels are 0-0\n",
      "\u001b[34m\u001b[1mval: \u001b[0mWARNING  C:\\Users\\dsy92\\OneDrive\\Desktop\\Weapon-Detection\\enhance_image\\valid\\images\\SMG_86_jpeg.rf.487cc25f0288a9c6beb9e62247c7db65.jpg: ignoring corrupt image/label: Label class 6 exceeds dataset class count 1. Possible class labels are 0-0\n",
      "\u001b[34m\u001b[1mval: \u001b[0mWARNING  C:\\Users\\dsy92\\OneDrive\\Desktop\\Weapon-Detection\\enhance_image\\valid\\images\\SMG_95_jpeg.rf.f03e138efe6a767af0416f2f460fa118.jpg: ignoring corrupt image/label: Label class 6 exceeds dataset class count 1. Possible class labels are 0-0\n",
      "\u001b[34m\u001b[1mval: \u001b[0mWARNING  C:\\Users\\dsy92\\OneDrive\\Desktop\\Weapon-Detection\\enhance_image\\valid\\images\\Shotgun_11_jpeg.rf.0302b75392f2fba1df59182f74626162.jpg: ignoring corrupt image/label: Label class 7 exceeds dataset class count 1. Possible class labels are 0-0\n",
      "\u001b[34m\u001b[1mval: \u001b[0mWARNING  C:\\Users\\dsy92\\OneDrive\\Desktop\\Weapon-Detection\\enhance_image\\valid\\images\\Shotgun_13_jpeg.rf.e30ef8a3e0fd93508f8a15454727b6cd.jpg: ignoring corrupt image/label: Label class 7 exceeds dataset class count 1. Possible class labels are 0-0\n",
      "\u001b[34m\u001b[1mval: \u001b[0mWARNING  C:\\Users\\dsy92\\OneDrive\\Desktop\\Weapon-Detection\\enhance_image\\valid\\images\\Shotgun_16_jpeg.rf.fbe86641ec2dcf010c930f808b29cca5.jpg: ignoring corrupt image/label: Label class 7 exceeds dataset class count 1. Possible class labels are 0-0\n",
      "\u001b[34m\u001b[1mval: \u001b[0mWARNING  C:\\Users\\dsy92\\OneDrive\\Desktop\\Weapon-Detection\\enhance_image\\valid\\images\\Shotgun_28_jpeg.rf.582c025458fab1f4afa3841db91527c0.jpg: ignoring corrupt image/label: Label class 7 exceeds dataset class count 1. Possible class labels are 0-0\n",
      "\u001b[34m\u001b[1mval: \u001b[0mWARNING  C:\\Users\\dsy92\\OneDrive\\Desktop\\Weapon-Detection\\enhance_image\\valid\\images\\Shotgun_37_jpeg.rf.82918e0823343a2f18bf5dd1c55707e4.jpg: ignoring corrupt image/label: Label class 7 exceeds dataset class count 1. Possible class labels are 0-0\n",
      "\u001b[34m\u001b[1mval: \u001b[0mWARNING  C:\\Users\\dsy92\\OneDrive\\Desktop\\Weapon-Detection\\enhance_image\\valid\\images\\Shotgun_4_jpeg.rf.b899e3583fd77353fcf75d6bd58d941f.jpg: ignoring corrupt image/label: Label class 7 exceeds dataset class count 1. Possible class labels are 0-0\n",
      "\u001b[34m\u001b[1mval: \u001b[0mWARNING  C:\\Users\\dsy92\\OneDrive\\Desktop\\Weapon-Detection\\enhance_image\\valid\\images\\Shotgun_50_jpeg.rf.5eafbe85bfb3de0baf63c03a072f0ac4.jpg: ignoring corrupt image/label: Label class 7 exceeds dataset class count 1. Possible class labels are 0-0\n",
      "\u001b[34m\u001b[1mval: \u001b[0mWARNING  C:\\Users\\dsy92\\OneDrive\\Desktop\\Weapon-Detection\\enhance_image\\valid\\images\\Shotgun_58_jpeg.rf.77a18ec0ae6890ad0ecb372ee5554db0.jpg: ignoring corrupt image/label: Label class 7 exceeds dataset class count 1. Possible class labels are 0-0\n",
      "\u001b[34m\u001b[1mval: \u001b[0mWARNING  C:\\Users\\dsy92\\OneDrive\\Desktop\\Weapon-Detection\\enhance_image\\valid\\images\\Shotgun_5_jpeg.rf.978bb1e5e62f63e7563ba7dc0232216d.jpg: ignoring corrupt image/label: Label class 7 exceeds dataset class count 1. Possible class labels are 0-0\n",
      "\u001b[34m\u001b[1mval: \u001b[0mWARNING  C:\\Users\\dsy92\\OneDrive\\Desktop\\Weapon-Detection\\enhance_image\\valid\\images\\Shotgun_9_jpeg.rf.555768e7babe3f0409ec47fabac66a78.jpg: ignoring corrupt image/label: Label class 7 exceeds dataset class count 1. Possible class labels are 0-0\n",
      "\u001b[34m\u001b[1mval: \u001b[0mWARNING  C:\\Users\\dsy92\\OneDrive\\Desktop\\Weapon-Detection\\enhance_image\\valid\\images\\Sniper_10_jpeg.rf.4e26b2dc23608e26514ccc04dde0afed.jpg: ignoring corrupt image/label: Label class 8 exceeds dataset class count 1. Possible class labels are 0-0\n",
      "\u001b[34m\u001b[1mval: \u001b[0mWARNING  C:\\Users\\dsy92\\OneDrive\\Desktop\\Weapon-Detection\\enhance_image\\valid\\images\\Sniper_12_jpeg.rf.d45d814876ed839cd5523afd3a75c776.jpg: ignoring corrupt image/label: Label class 8 exceeds dataset class count 1. Possible class labels are 0-0\n",
      "\u001b[34m\u001b[1mval: \u001b[0mWARNING  C:\\Users\\dsy92\\OneDrive\\Desktop\\Weapon-Detection\\enhance_image\\valid\\images\\Sniper_20_jpeg.rf.f1885814c001584b63f0e49d699511ef.jpg: ignoring corrupt image/label: Label class 8 exceeds dataset class count 1. Possible class labels are 0-0\n",
      "\u001b[34m\u001b[1mval: \u001b[0mWARNING  C:\\Users\\dsy92\\OneDrive\\Desktop\\Weapon-Detection\\enhance_image\\valid\\images\\Sniper_38_jpeg.rf.b8e7489c04c046ca0e6b1ed44e1fd9b7.jpg: ignoring corrupt image/label: Label class 8 exceeds dataset class count 1. Possible class labels are 0-0\n",
      "\u001b[34m\u001b[1mval: \u001b[0mWARNING  C:\\Users\\dsy92\\OneDrive\\Desktop\\Weapon-Detection\\enhance_image\\valid\\images\\Sniper_40_jpeg.rf.d52749cd69fa9370e0d57e30ae63ab76.jpg: ignoring corrupt image/label: Label class 8 exceeds dataset class count 1. Possible class labels are 0-0\n",
      "\u001b[34m\u001b[1mval: \u001b[0mWARNING  C:\\Users\\dsy92\\OneDrive\\Desktop\\Weapon-Detection\\enhance_image\\valid\\images\\Sniper_46_jpeg.rf.2346e94b5503c5c9897c2b4104166f23.jpg: ignoring corrupt image/label: Label class 8 exceeds dataset class count 1. Possible class labels are 0-0\n",
      "\u001b[34m\u001b[1mval: \u001b[0mWARNING  C:\\Users\\dsy92\\OneDrive\\Desktop\\Weapon-Detection\\enhance_image\\valid\\images\\Sniper_53_jpeg.rf.06a9ce8f6c13e957549f0db271b09d20.jpg: ignoring corrupt image/label: Label class 8 exceeds dataset class count 1. Possible class labels are 0-0\n",
      "\u001b[34m\u001b[1mval: \u001b[0mWARNING  C:\\Users\\dsy92\\OneDrive\\Desktop\\Weapon-Detection\\enhance_image\\valid\\images\\Sniper_64_jpeg.rf.053ec00e73de6240719329e84207a3ec.jpg: ignoring corrupt image/label: Label class 8 exceeds dataset class count 1. Possible class labels are 0-0\n",
      "\u001b[34m\u001b[1mval: \u001b[0mWARNING  C:\\Users\\dsy92\\OneDrive\\Desktop\\Weapon-Detection\\enhance_image\\valid\\images\\Sniper_65_jpeg.rf.d7281657f97d68328ac425b0211be2ba.jpg: ignoring corrupt image/label: Label class 8 exceeds dataset class count 1. Possible class labels are 0-0\n",
      "\u001b[34m\u001b[1mval: \u001b[0mWARNING  C:\\Users\\dsy92\\OneDrive\\Desktop\\Weapon-Detection\\enhance_image\\valid\\images\\Sniper_72_jpeg.rf.5d963d271d808a9567050b46e56aee1c.jpg: ignoring corrupt image/label: Label class 9 exceeds dataset class count 1. Possible class labels are 0-0\n",
      "\u001b[34m\u001b[1mval: \u001b[0mWARNING  C:\\Users\\dsy92\\OneDrive\\Desktop\\Weapon-Detection\\enhance_image\\valid\\images\\Sniper_88_png.rf.8e9cad7cd83fd4839276b6d3f429a59a.jpg: ignoring corrupt image/label: Label class 8 exceeds dataset class count 1. Possible class labels are 0-0\n",
      "\u001b[34m\u001b[1mval: \u001b[0mWARNING  C:\\Users\\dsy92\\OneDrive\\Desktop\\Weapon-Detection\\enhance_image\\valid\\images\\Sword_12_jpeg.rf.9d09325f8c22918356c748c3e78c15b8.jpg: ignoring corrupt image/label: Label class 9 exceeds dataset class count 1. Possible class labels are 0-0\n",
      "\u001b[34m\u001b[1mval: \u001b[0mWARNING  C:\\Users\\dsy92\\OneDrive\\Desktop\\Weapon-Detection\\enhance_image\\valid\\images\\Sword_18_jpeg.rf.d8c682ee0e909434783cbc0bb7157421.jpg: ignoring corrupt image/label: Label class 9 exceeds dataset class count 1. Possible class labels are 0-0\n",
      "\u001b[34m\u001b[1mval: \u001b[0mWARNING  C:\\Users\\dsy92\\OneDrive\\Desktop\\Weapon-Detection\\enhance_image\\valid\\images\\Sword_25_jpeg.rf.de4017a598038119ae2f13c6d28b611e.jpg: ignoring corrupt image/label: Label class 9 exceeds dataset class count 1. Possible class labels are 0-0\n",
      "\u001b[34m\u001b[1mval: \u001b[0mWARNING  C:\\Users\\dsy92\\OneDrive\\Desktop\\Weapon-Detection\\enhance_image\\valid\\images\\Sword_31_jpeg.rf.c9b63585bae06c557a8815a86d6b313a.jpg: ignoring corrupt image/label: Label class 9 exceeds dataset class count 1. Possible class labels are 0-0\n",
      "\u001b[34m\u001b[1mval: \u001b[0mWARNING  C:\\Users\\dsy92\\OneDrive\\Desktop\\Weapon-Detection\\enhance_image\\valid\\images\\Sword_36_jpeg.rf.f0770c85971b484779fb6cbe3b46fd67.jpg: ignoring corrupt image/label: Label class 9 exceeds dataset class count 1. Possible class labels are 0-0\n",
      "\u001b[34m\u001b[1mval: \u001b[0mWARNING  C:\\Users\\dsy92\\OneDrive\\Desktop\\Weapon-Detection\\enhance_image\\valid\\images\\Sword_38_jpeg.rf.1ba82debc13d1e3560656145c52ab186.jpg: ignoring corrupt image/label: Label class 9 exceeds dataset class count 1. Possible class labels are 0-0\n",
      "\u001b[34m\u001b[1mval: \u001b[0mWARNING  C:\\Users\\dsy92\\OneDrive\\Desktop\\Weapon-Detection\\enhance_image\\valid\\images\\Sword_4_jpeg.rf.acb8529f9488c35c467468a8f45fb7e8.jpg: ignoring corrupt image/label: Label class 9 exceeds dataset class count 1. Possible class labels are 0-0\n",
      "\u001b[34m\u001b[1mval: \u001b[0mWARNING  C:\\Users\\dsy92\\OneDrive\\Desktop\\Weapon-Detection\\enhance_image\\valid\\images\\Sword_50_jpeg.rf.5fa4896e29132536341e8c3fe340bd89.jpg: ignoring corrupt image/label: Label class 9 exceeds dataset class count 1. Possible class labels are 0-0\n",
      "\u001b[34m\u001b[1mval: \u001b[0mWARNING  C:\\Users\\dsy92\\OneDrive\\Desktop\\Weapon-Detection\\enhance_image\\valid\\images\\Sword_54_jpeg.rf.fbb3f0de06df5a9013fe5bdea43ec762.jpg: ignoring corrupt image/label: Label class 9 exceeds dataset class count 1. Possible class labels are 0-0\n",
      "\u001b[34m\u001b[1mval: \u001b[0mWARNING  C:\\Users\\dsy92\\OneDrive\\Desktop\\Weapon-Detection\\enhance_image\\valid\\images\\Sword_59_png.rf.9dcb8625219ccb1678abaf0bad65dd5b.jpg: ignoring corrupt image/label: Label class 9 exceeds dataset class count 1. Possible class labels are 0-0\n",
      "\u001b[34m\u001b[1mval: \u001b[0mWARNING  C:\\Users\\dsy92\\OneDrive\\Desktop\\Weapon-Detection\\enhance_image\\valid\\images\\Sword_62_jpeg.rf.679bdd68dd2c42c987de1b472fe74572.jpg: ignoring corrupt image/label: Label class 9 exceeds dataset class count 1. Possible class labels are 0-0\n",
      "\u001b[34m\u001b[1mval: \u001b[0mWARNING  C:\\Users\\dsy92\\OneDrive\\Desktop\\Weapon-Detection\\enhance_image\\valid\\images\\Sword_64_jpeg.rf.b3b48fa5cec6b81e99af57f0d320c9ab.jpg: ignoring corrupt image/label: Label class 9 exceeds dataset class count 1. Possible class labels are 0-0\n",
      "\u001b[34m\u001b[1mval: \u001b[0mWARNING  C:\\Users\\dsy92\\OneDrive\\Desktop\\Weapon-Detection\\enhance_image\\valid\\images\\Sword_81_jpeg.rf.23f232ebc27bcfe9f3aaa18ecb827e07.jpg: ignoring corrupt image/label: Label class 9 exceeds dataset class count 1. Possible class labels are 0-0\n",
      "\u001b[34m\u001b[1mval: \u001b[0mWARNING  C:\\Users\\dsy92\\OneDrive\\Desktop\\Weapon-Detection\\enhance_image\\valid\\images\\Sword_83_jpeg.rf.bdbfa7df65d00e856b05c885f8803fd0.jpg: ignoring corrupt image/label: Label class 9 exceeds dataset class count 1. Possible class labels are 0-0\n",
      "\u001b[34m\u001b[1mval: \u001b[0mWARNING  C:\\Users\\dsy92\\OneDrive\\Desktop\\Weapon-Detection\\enhance_image\\valid\\images\\Sword_99_jpeg.rf.1b4d9dc9f5eba8a9b5748addc8e1cc44.jpg: ignoring corrupt image/label: Label class 9 exceeds dataset class count 1. Possible class labels are 0-0\n"
     ]
    },
    {
     "name": "stderr",
     "output_type": "stream",
     "text": [
      "\n"
     ]
    },
    {
     "name": "stdout",
     "output_type": "stream",
     "text": [
      "Plotting labels to runs\\train\\weapon-detector27\\labels.jpg... \n",
      "\u001b[34m\u001b[1moptimizer:\u001b[0m 'optimizer=auto' found, ignoring 'lr0=0.01' and 'momentum=0.937' and determining best 'optimizer', 'lr0' and 'momentum' automatically... \n",
      "\u001b[34m\u001b[1moptimizer:\u001b[0m SGD(lr=0.01, momentum=0.9) with parameter groups 57 weight(decay=0.0), 64 weight(decay=0.0005), 63 bias(decay=0.0)\n",
      "\u001b[34m\u001b[1mTensorBoard: \u001b[0mmodel graph visualization added \n",
      "Image sizes 416 train, 416 val\n",
      "Using 6 dataloader workers\n",
      "Logging results to \u001b[1mruns\\train\\weapon-detector27\u001b[0m\n",
      "Starting training for 100 epochs...\n",
      "\n",
      "      Epoch    GPU_mem   box_loss   cls_loss   dfl_loss  Instances       Size\n"
     ]
    },
    {
     "name": "stderr",
     "output_type": "stream",
     "text": [
      "      1/100       3.1G      1.647      2.285      1.401          1        416: 100%|██████████| 1156/1156 [5:27:56<00:00, 17.02s/it] \n",
      "                 Class     Images  Instances      Box(P          R      mAP50  mAP50-95): 100%|██████████| 30/30 [03:40<00:00,  7.34s/it]\n"
     ]
    },
    {
     "name": "stdout",
     "output_type": "stream",
     "text": [
      "                   all       1895       2292     0.0482     0.0292    0.00393    0.00183\n",
      "\n",
      "      Epoch    GPU_mem   box_loss   cls_loss   dfl_loss  Instances       Size\n"
     ]
    },
    {
     "name": "stderr",
     "output_type": "stream",
     "text": [
      "      2/100      3.09G      1.555      1.285      1.307          4        416: 100%|██████████| 1156/1156 [4:42:45<00:00, 14.68s/it] \n",
      "                 Class     Images  Instances      Box(P          R      mAP50  mAP50-95): 100%|██████████| 30/30 [08:56<00:00, 17.89s/it]\n"
     ]
    },
    {
     "name": "stdout",
     "output_type": "stream",
     "text": [
      "                   all       1895       2292     0.0439     0.0362    0.00371    0.00175\n",
      "\n",
      "      Epoch    GPU_mem   box_loss   cls_loss   dfl_loss  Instances       Size\n"
     ]
    },
    {
     "name": "stderr",
     "output_type": "stream",
     "text": [
      "      3/100       3.1G      1.687      1.481        1.4          4        416: 100%|██████████| 1156/1156 [5:48:57<00:00, 18.11s/it] \n",
      "                 Class     Images  Instances      Box(P          R      mAP50  mAP50-95): 100%|██████████| 30/30 [06:22<00:00, 12.75s/it]\n"
     ]
    },
    {
     "name": "stdout",
     "output_type": "stream",
     "text": [
      "                   all       1895       2292     0.0274     0.0201    0.00672    0.00497\n",
      "\n",
      "      Epoch    GPU_mem   box_loss   cls_loss   dfl_loss  Instances       Size\n"
     ]
    },
    {
     "name": "stderr",
     "output_type": "stream",
     "text": [
      "      4/100       3.1G      1.757      1.591      1.484          0        416: 100%|██████████| 1156/1156 [5:57:47<00:00, 18.57s/it] \n",
      "                 Class     Images  Instances      Box(P          R      mAP50  mAP50-95): 100%|██████████| 30/30 [08:53<00:00, 17.79s/it]\n"
     ]
    },
    {
     "name": "stdout",
     "output_type": "stream",
     "text": [
      "                   all       1895       2292     0.0283     0.0353    0.00384    0.00226\n",
      "\n",
      "      Epoch    GPU_mem   box_loss   cls_loss   dfl_loss  Instances       Size\n"
     ]
    },
    {
     "name": "stderr",
     "output_type": "stream",
     "text": [
      "      5/100       3.1G       1.65      1.387      1.426          1        416: 100%|██████████| 1156/1156 [6:52:23<00:00, 21.40s/it]    \n",
      "                 Class     Images  Instances      Box(P          R      mAP50  mAP50-95): 100%|██████████| 30/30 [00:50<00:00,  1.69s/it]"
     ]
    },
    {
     "name": "stdout",
     "output_type": "stream",
     "text": [
      "                   all       1895       2292     0.0373     0.0462    0.00432     0.0022\n"
     ]
    },
    {
     "name": "stderr",
     "output_type": "stream",
     "text": [
      "\n"
     ]
    },
    {
     "name": "stdout",
     "output_type": "stream",
     "text": [
      "\n",
      "      Epoch    GPU_mem   box_loss   cls_loss   dfl_loss  Instances       Size\n"
     ]
    },
    {
     "name": "stderr",
     "output_type": "stream",
     "text": [
      "      6/100      3.09G      1.594      1.279      1.389          2        416: 100%|██████████| 1156/1156 [06:24<00:00,  3.00it/s]\n",
      "                 Class     Images  Instances      Box(P          R      mAP50  mAP50-95): 100%|██████████| 30/30 [00:46<00:00,  1.53s/it]"
     ]
    },
    {
     "name": "stdout",
     "output_type": "stream",
     "text": [
      "                   all       1895       2292     0.0461     0.0445    0.00486    0.00232\n"
     ]
    },
    {
     "name": "stderr",
     "output_type": "stream",
     "text": [
      "\n"
     ]
    },
    {
     "name": "stdout",
     "output_type": "stream",
     "text": [
      "\n",
      "      Epoch    GPU_mem   box_loss   cls_loss   dfl_loss  Instances       Size\n"
     ]
    },
    {
     "name": "stderr",
     "output_type": "stream",
     "text": [
      "      7/100      3.09G      1.542      1.199      1.351          2        416: 100%|██████████| 1156/1156 [06:11<00:00,  3.11it/s]\n",
      "                 Class     Images  Instances      Box(P          R      mAP50  mAP50-95): 100%|██████████| 30/30 [00:15<00:00,  1.94it/s]"
     ]
    },
    {
     "name": "stdout",
     "output_type": "stream",
     "text": [
      "                   all       1895       2292     0.0437     0.0554    0.00544    0.00254\n"
     ]
    },
    {
     "name": "stderr",
     "output_type": "stream",
     "text": [
      "\n"
     ]
    },
    {
     "name": "stdout",
     "output_type": "stream",
     "text": [
      "\n",
      "      Epoch    GPU_mem   box_loss   cls_loss   dfl_loss  Instances       Size\n"
     ]
    },
    {
     "name": "stderr",
     "output_type": "stream",
     "text": [
      "      8/100      3.09G      1.498      1.147      1.327          3        416: 100%|██████████| 1156/1156 [06:09<00:00,  3.13it/s]\n",
      "                 Class     Images  Instances      Box(P          R      mAP50  mAP50-95): 100%|██████████| 30/30 [00:14<00:00,  2.06it/s]"
     ]
    },
    {
     "name": "stdout",
     "output_type": "stream",
     "text": [
      "                   all       1895       2292     0.0486      0.051    0.00541    0.00303\n",
      "\u001b[34m\u001b[1mEarlyStopping: \u001b[0mTraining stopped early as no improvement observed in last 5 epochs. Best results observed at epoch 3, best model saved as best.pt.\n",
      "To update EarlyStopping(patience=5) pass a new patience value, i.e. `patience=300` or use `patience=0` to disable EarlyStopping.\n"
     ]
    },
    {
     "name": "stderr",
     "output_type": "stream",
     "text": [
      "\n"
     ]
    },
    {
     "name": "stdout",
     "output_type": "stream",
     "text": [
      "\n",
      "8 epochs completed in 29.656 hours.\n",
      "Optimizer stripped from runs\\train\\weapon-detector27\\weights\\last.pt, 22.5MB\n",
      "Optimizer stripped from runs\\train\\weapon-detector27\\weights\\best.pt, 22.5MB\n",
      "\n",
      "Validating runs\\train\\weapon-detector27\\weights\\best.pt...\n",
      "Ultralytics 8.3.126  Python-3.10.16 torch-2.5.1+cu121 CUDA:0 (NVIDIA GeForce RTX 3050 Laptop GPU, 4096MiB)\n",
      "Model summary (fused): 72 layers, 11,129,454 parameters, 0 gradients, 28.5 GFLOPs\n"
     ]
    },
    {
     "name": "stderr",
     "output_type": "stream",
     "text": [
      "                 Class     Images  Instances      Box(P          R      mAP50  mAP50-95): 100%|██████████| 30/30 [00:23<00:00,  1.28it/s]\n"
     ]
    },
    {
     "name": "stdout",
     "output_type": "stream",
     "text": [
      "                   all       1895       2292     0.0287     0.0353    0.00361    0.00118\n",
      "       Automatic-Rifle       1895       2292     0.0287     0.0353    0.00361    0.00118\n",
      "Speed: 0.2ms preprocess, 7.1ms inference, 0.0ms loss, 1.5ms postprocess per image\n",
      "Results saved to \u001b[1mruns\\train\\weapon-detector27\u001b[0m\n",
      "✅ Training completed successfully!\n"
     ]
    }
   ],
   "source": [
    "from ultralytics import YOLO\n",
    "import torch\n",
    "import os\n",
    "\n",
    "# Check if CUDA (GPU) is available\n",
    "device = '0' if torch.cuda.is_available() else 'cpu'\n",
    "print(f\"Using device: {'GPU' if device == '0' else 'CPU'}\")\n",
    "\n",
    "# Verify YAML file exists\n",
    "yaml_path = r'C:\\Users\\dsy92\\OneDrive\\Desktop\\Weapon-Detection\\enhance_image\\weapon_data.yaml'\n",
    "if not os.path.exists(yaml_path):\n",
    "    raise FileNotFoundError(f\"YAML file not found at: {yaml_path}\")\n",
    "\n",
    "# Load YOLOv8 model\n",
    "model = YOLO('yolov8s.pt')  # or 'yolov8n.pt' for a smaller model\n",
    "\n",
    "# Training parameters (adjust batch size based on device)\n",
    "batch_size = 32 if device == '0' else 16  # Smaller batch for CPU\n",
    "\n",
    "try:\n",
    "    # Train the model\n",
    "    results = model.train(\n",
    "        data=yaml_path,\n",
    "        imgsz=416,          # Higher resolution = better accuracy\n",
    "        epochs=100,\n",
    "        batch=batch_size,\n",
    "        workers=6 if device == '0' else 4,  # Fewer workers for CPU\n",
    "        device=device,      # Auto GPU/CPU selection\n",
    "        name='weapon-detector',\n",
    "        project='runs/train',\n",
    "        amp=True,           # Mixed precision (faster training on GPU)\n",
    "        augment=True,       # Data augmentation\n",
    "        patience=5,        # Early stopping if no improvement\n",
    "        save=True,\n",
    "        save_period=5,      # Save every 5 epochs\n",
    "        optimizer='auto',   # Best optimizer selection\n",
    "        lr0=0.01,          # Initial learning rate\n",
    "        lrf=0.01,          # Final learning rate\n",
    "        dropout=0.2        # Prevent overfitting\n",
    "    )\n",
    "\n",
    "    # Save the trained model\n",
    "    model.save(r'C:\\Users\\dsy92\\OneDrive\\Desktop\\Weapon-Detection\\model\\yolov1.pt')\n",
    "    print(\"✅ Training completed successfully!\")\n",
    "\n",
    "except Exception as e:\n",
    "    print(f\"❌ Training failed: {e}\")"
   ]
  },
  {
   "cell_type": "code",
   "execution_count": 11,
   "id": "cab972a4",
   "metadata": {},
   "outputs": [
    {
     "name": "stdout",
     "output_type": "stream",
     "text": [
      "Using device: GPU\n",
      "🚀 Starting fine-tuning...\n",
      "New https://pypi.org/project/ultralytics/8.3.127 available  Update with 'pip install -U ultralytics'\n",
      "Ultralytics 8.3.126  Python-3.10.16 torch-2.5.1+cu121 CUDA:0 (NVIDIA GeForce RTX 3050 Laptop GPU, 4096MiB)\n",
      "\u001b[34m\u001b[1mengine\\trainer: \u001b[0magnostic_nms=False, amp=True, augment=True, auto_augment=randaugment, batch=32, bgr=0.0, box=7.5, cache=False, cfg=None, classes=None, close_mosaic=10, cls=0.3, conf=None, copy_paste=0.1, copy_paste_mode=flip, cos_lr=False, cutmix=0.0, data=C:\\Users\\dsy92\\OneDrive\\Desktop\\Weapon-Detection\\enhance_image\\weapon_data.yaml, degrees=5.0, deterministic=True, device=cuda:0, dfl=1.5, dnn=False, dropout=0.1, dynamic=False, embed=None, epochs=50, erasing=0.4, exist_ok=False, fliplr=0.3, flipud=0.0, format=torchscript, fraction=1.0, freeze=None, half=False, hsv_h=0.01, hsv_s=0.6, hsv_v=0.4, imgsz=416, int8=False, iou=0.7, keras=False, kobj=1.0, line_width=None, lr0=0.0001, lrf=5e-05, mask_ratio=4, max_det=300, mixup=0.0, mode=train, model=C:\\Users\\dsy92\\OneDrive\\Desktop\\Weapon-Detection\\model\\yolov1.pt, momentum=0.937, mosaic=0.3, multi_scale=False, name=gun-detector-final3, nbs=64, nms=False, opset=None, optimize=False, optimizer=AdamW, overlap_mask=True, patience=10, perspective=0.0005, plots=True, pose=12.0, pretrained=True, profile=False, project=runs/train, rect=False, resume=False, retina_masks=False, save=True, save_conf=False, save_crop=False, save_dir=runs\\train\\gun-detector-final3, save_frames=False, save_json=False, save_period=5, save_txt=False, scale=0.3, seed=0, shear=1.0, show=False, show_boxes=True, show_conf=True, show_labels=True, simplify=True, single_cls=True, source=None, split=val, stream_buffer=False, task=detect, time=None, tracker=botsort.yaml, translate=0.05, val=True, verbose=True, vid_stride=1, visualize=False, warmup_bias_lr=0.1, warmup_epochs=3, warmup_momentum=0.8, weight_decay=0.0001, workers=8, workspace=None\n",
      "Overriding class names with single class.\n",
      "Overriding model.yaml nc=10 with nc=1\n",
      "\n",
      "                   from  n    params  module                                       arguments                     \n",
      "  0                  -1  1       928  ultralytics.nn.modules.conv.Conv             [3, 32, 3, 2]                 \n",
      "  1                  -1  1     18560  ultralytics.nn.modules.conv.Conv             [32, 64, 3, 2]                \n",
      "  2                  -1  1     29056  ultralytics.nn.modules.block.C2f             [64, 64, 1, True]             \n",
      "  3                  -1  1     73984  ultralytics.nn.modules.conv.Conv             [64, 128, 3, 2]               \n",
      "  4                  -1  2    197632  ultralytics.nn.modules.block.C2f             [128, 128, 2, True]           \n",
      "  5                  -1  1    295424  ultralytics.nn.modules.conv.Conv             [128, 256, 3, 2]              \n",
      "  6                  -1  2    788480  ultralytics.nn.modules.block.C2f             [256, 256, 2, True]           \n",
      "  7                  -1  1   1180672  ultralytics.nn.modules.conv.Conv             [256, 512, 3, 2]              \n",
      "  8                  -1  1   1838080  ultralytics.nn.modules.block.C2f             [512, 512, 1, True]           \n",
      "  9                  -1  1    656896  ultralytics.nn.modules.block.SPPF            [512, 512, 5]                 \n",
      " 10                  -1  1         0  torch.nn.modules.upsampling.Upsample         [None, 2, 'nearest']          \n",
      " 11             [-1, 6]  1         0  ultralytics.nn.modules.conv.Concat           [1]                           \n",
      " 12                  -1  1    591360  ultralytics.nn.modules.block.C2f             [768, 256, 1]                 \n",
      " 13                  -1  1         0  torch.nn.modules.upsampling.Upsample         [None, 2, 'nearest']          \n",
      " 14             [-1, 4]  1         0  ultralytics.nn.modules.conv.Concat           [1]                           \n",
      " 15                  -1  1    148224  ultralytics.nn.modules.block.C2f             [384, 128, 1]                 \n",
      " 16                  -1  1    147712  ultralytics.nn.modules.conv.Conv             [128, 128, 3, 2]              \n",
      " 17            [-1, 12]  1         0  ultralytics.nn.modules.conv.Concat           [1]                           \n",
      " 18                  -1  1    493056  ultralytics.nn.modules.block.C2f             [384, 256, 1]                 \n",
      " 19                  -1  1    590336  ultralytics.nn.modules.conv.Conv             [256, 256, 3, 2]              \n",
      " 20             [-1, 9]  1         0  ultralytics.nn.modules.conv.Concat           [1]                           \n",
      " 21                  -1  1   1969152  ultralytics.nn.modules.block.C2f             [768, 512, 1]                 \n",
      " 22        [15, 18, 21]  1   2116435  ultralytics.nn.modules.head.Detect           [1, [128, 256, 512]]          \n",
      "Model summary: 129 layers, 11,135,987 parameters, 11,135,971 gradients, 28.6 GFLOPs\n",
      "\n",
      "Transferred 349/355 items from pretrained weights\n",
      "\u001b[34m\u001b[1mTensorBoard: \u001b[0mStart with 'tensorboard --logdir runs\\train\\gun-detector-final3', view at http://localhost:6006/\n",
      "Freezing layer 'model.22.dfl.conv.weight'\n",
      "\u001b[34m\u001b[1mAMP: \u001b[0mrunning Automatic Mixed Precision (AMP) checks...\n",
      "\u001b[34m\u001b[1mAMP: \u001b[0mchecks passed \n",
      "\u001b[34m\u001b[1mtrain: \u001b[0mFast image access  (ping: 0.40.2 ms, read: 163.2157.6 MB/s, size: 81.7 KB)\n"
     ]
    },
    {
     "name": "stderr",
     "output_type": "stream",
     "text": [
      "\u001b[34m\u001b[1mtrain: \u001b[0mScanning C:\\Users\\dsy92\\OneDrive\\Desktop\\Weapon-Detection\\enhance_image\\train\\labels.cache... 36963 images, 18483 backgrounds, 0 corrupt: 100%|██████████| 36963/36963 [00:00<?, ?it/s]\n"
     ]
    },
    {
     "name": "stdout",
     "output_type": "stream",
     "text": [
      "\u001b[34m\u001b[1mval: \u001b[0mFast image access  (ping: 0.80.4 ms, read: 66.023.6 MB/s, size: 99.2 KB)\n"
     ]
    },
    {
     "name": "stderr",
     "output_type": "stream",
     "text": [
      "\u001b[34m\u001b[1mval: \u001b[0mScanning C:\\Users\\dsy92\\OneDrive\\Desktop\\Weapon-Detection\\enhance_image\\valid\\labels.cache... 1994 images, 0 backgrounds, 99 corrupt: 100%|██████████| 1994/1994 [00:00<?, ?it/s]"
     ]
    },
    {
     "name": "stdout",
     "output_type": "stream",
     "text": [
      "\u001b[34m\u001b[1mval: \u001b[0mWARNING  C:\\Users\\dsy92\\OneDrive\\Desktop\\Weapon-Detection\\enhance_image\\valid\\images\\Automatic-Rifle_14_jpeg.rf.d1b052df545821703eb696283d0aeda1.jpg: ignoring corrupt image/label: Label class 1 exceeds dataset class count 1. Possible class labels are 0-0\n",
      "\u001b[34m\u001b[1mval: \u001b[0mWARNING  C:\\Users\\dsy92\\OneDrive\\Desktop\\Weapon-Detection\\enhance_image\\valid\\images\\Automatic-Rifle_17_jpeg.rf.5e3c19e03c7ce71cc125f0f8da9733a8.jpg: ignoring corrupt image/label: Label class 1 exceeds dataset class count 1. Possible class labels are 0-0\n",
      "\u001b[34m\u001b[1mval: \u001b[0mWARNING  C:\\Users\\dsy92\\OneDrive\\Desktop\\Weapon-Detection\\enhance_image\\valid\\images\\Automatic-Rifle_19_jpeg.rf.f921a5163c595ced0f9042a214c2ba60.jpg: ignoring corrupt image/label: Label class 1 exceeds dataset class count 1. Possible class labels are 0-0\n",
      "\u001b[34m\u001b[1mval: \u001b[0mWARNING  C:\\Users\\dsy92\\OneDrive\\Desktop\\Weapon-Detection\\enhance_image\\valid\\images\\Automatic-Rifle_44_jpeg.rf.9698c0a0303dbfbf97165e24c5c6b068.jpg: ignoring corrupt image/label: Label class 1 exceeds dataset class count 1. Possible class labels are 0-0\n",
      "\u001b[34m\u001b[1mval: \u001b[0mWARNING  C:\\Users\\dsy92\\OneDrive\\Desktop\\Weapon-Detection\\enhance_image\\valid\\images\\Automatic-Rifle_48_png.rf.a0b3894f4f86f1b3b34767146fc2a466.jpg: ignoring corrupt image/label: Label class 1 exceeds dataset class count 1. Possible class labels are 0-0\n",
      "\u001b[34m\u001b[1mval: \u001b[0mWARNING  C:\\Users\\dsy92\\OneDrive\\Desktop\\Weapon-Detection\\enhance_image\\valid\\images\\Automatic-Rifle_51_jpeg.rf.b283ae5fa659eb9f7a2de4d9f2610c84.jpg: ignoring corrupt image/label: Label class 1 exceeds dataset class count 1. Possible class labels are 0-0\n",
      "\u001b[34m\u001b[1mval: \u001b[0mWARNING  C:\\Users\\dsy92\\OneDrive\\Desktop\\Weapon-Detection\\enhance_image\\valid\\images\\Bazooka_10_png.rf.6c07a43bd134a7f316b0a2f7bec400d4.jpg: ignoring corrupt image/label: Label class 2 exceeds dataset class count 1. Possible class labels are 0-0\n",
      "\u001b[34m\u001b[1mval: \u001b[0mWARNING  C:\\Users\\dsy92\\OneDrive\\Desktop\\Weapon-Detection\\enhance_image\\valid\\images\\Bazooka_12_jpeg.rf.aa5a0014a670f4913374a9fb2cf1c8d9.jpg: ignoring corrupt image/label: Label class 2 exceeds dataset class count 1. Possible class labels are 0-0\n",
      "\u001b[34m\u001b[1mval: \u001b[0mWARNING  C:\\Users\\dsy92\\OneDrive\\Desktop\\Weapon-Detection\\enhance_image\\valid\\images\\Bazooka_19_jpeg.rf.d5b8757467969249ceb89c5afda9c005.jpg: ignoring corrupt image/label: Label class 2 exceeds dataset class count 1. Possible class labels are 0-0\n",
      "\u001b[34m\u001b[1mval: \u001b[0mWARNING  C:\\Users\\dsy92\\OneDrive\\Desktop\\Weapon-Detection\\enhance_image\\valid\\images\\Bazooka_30_jpeg.rf.7f9dc762f1cdbe4133d9b2afa2190bcf.jpg: ignoring corrupt image/label: Label class 2 exceeds dataset class count 1. Possible class labels are 0-0\n",
      "\u001b[34m\u001b[1mval: \u001b[0mWARNING  C:\\Users\\dsy92\\OneDrive\\Desktop\\Weapon-Detection\\enhance_image\\valid\\images\\Bazooka_33_jpeg.rf.5cc04b3aa0e1c84b28a38f650697b353.jpg: ignoring corrupt image/label: Label class 2 exceeds dataset class count 1. Possible class labels are 0-0\n",
      "\u001b[34m\u001b[1mval: \u001b[0mWARNING  C:\\Users\\dsy92\\OneDrive\\Desktop\\Weapon-Detection\\enhance_image\\valid\\images\\Bazooka_39_jpeg.rf.7220aa166480679cb5447e4f143e328d.jpg: ignoring corrupt image/label: Label class 2 exceeds dataset class count 1. Possible class labels are 0-0\n",
      "\u001b[34m\u001b[1mval: \u001b[0mWARNING  C:\\Users\\dsy92\\OneDrive\\Desktop\\Weapon-Detection\\enhance_image\\valid\\images\\Bazooka_50_png.rf.cb00741a758b1aa31f693b8cc0c2d58c.jpg: ignoring corrupt image/label: Label class 2 exceeds dataset class count 1. Possible class labels are 0-0\n",
      "\u001b[34m\u001b[1mval: \u001b[0mWARNING  C:\\Users\\dsy92\\OneDrive\\Desktop\\Weapon-Detection\\enhance_image\\valid\\images\\Bazooka_59_jpeg.rf.6f6b4c3f5dc44bed68136ab3873415ec.jpg: ignoring corrupt image/label: Label class 2 exceeds dataset class count 1. Possible class labels are 0-0\n",
      "\u001b[34m\u001b[1mval: \u001b[0mWARNING  C:\\Users\\dsy92\\OneDrive\\Desktop\\Weapon-Detection\\enhance_image\\valid\\images\\Bazooka_6_jpeg.rf.6aac66a4dd47a200a1ef487f1f1b4674.jpg: ignoring corrupt image/label: Label class 2 exceeds dataset class count 1. Possible class labels are 0-0\n",
      "\u001b[34m\u001b[1mval: \u001b[0mWARNING  C:\\Users\\dsy92\\OneDrive\\Desktop\\Weapon-Detection\\enhance_image\\valid\\images\\Bazooka_76_png.rf.0ff8e59108f2e047c883d37c58923bfb.jpg: ignoring corrupt image/label: Label class 2 exceeds dataset class count 1. Possible class labels are 0-0\n",
      "\u001b[34m\u001b[1mval: \u001b[0mWARNING  C:\\Users\\dsy92\\OneDrive\\Desktop\\Weapon-Detection\\enhance_image\\valid\\images\\Bazooka_86_jpeg.rf.950fba708fcf6b9d8c6635b539658b9b.jpg: ignoring corrupt image/label: Label class 2 exceeds dataset class count 1. Possible class labels are 0-0\n",
      "\u001b[34m\u001b[1mval: \u001b[0mWARNING  C:\\Users\\dsy92\\OneDrive\\Desktop\\Weapon-Detection\\enhance_image\\valid\\images\\Bazooka_87_jpeg.rf.f26436fb124e52274618b5d4776920cb.jpg: ignoring corrupt image/label: Label class 2 exceeds dataset class count 1. Possible class labels are 0-0\n",
      "\u001b[34m\u001b[1mval: \u001b[0mWARNING  C:\\Users\\dsy92\\OneDrive\\Desktop\\Weapon-Detection\\enhance_image\\valid\\images\\Grenade-Launcher_11_jpeg.rf.61abcdd6664129bef77a9842019e75d7.jpg: ignoring corrupt image/label: Label class 3 exceeds dataset class count 1. Possible class labels are 0-0\n",
      "\u001b[34m\u001b[1mval: \u001b[0mWARNING  C:\\Users\\dsy92\\OneDrive\\Desktop\\Weapon-Detection\\enhance_image\\valid\\images\\Grenade-Launcher_16_jpeg.rf.cd98cee7c369e03c4a6d980e1cbb0005.jpg: ignoring corrupt image/label: Label class 3 exceeds dataset class count 1. Possible class labels are 0-0\n",
      "\u001b[34m\u001b[1mval: \u001b[0mWARNING  C:\\Users\\dsy92\\OneDrive\\Desktop\\Weapon-Detection\\enhance_image\\valid\\images\\Grenade-Launcher_30_jpeg.rf.aa03863ba8c804bde4f5099b5c4d728c.jpg: ignoring corrupt image/label: Label class 3 exceeds dataset class count 1. Possible class labels are 0-0\n",
      "\u001b[34m\u001b[1mval: \u001b[0mWARNING  C:\\Users\\dsy92\\OneDrive\\Desktop\\Weapon-Detection\\enhance_image\\valid\\images\\Grenade-Launcher_34_jpeg.rf.b73d32e978c7fae4ee7f5033cd72db7b.jpg: ignoring corrupt image/label: Label class 3 exceeds dataset class count 1. Possible class labels are 0-0\n",
      "\u001b[34m\u001b[1mval: \u001b[0mWARNING  C:\\Users\\dsy92\\OneDrive\\Desktop\\Weapon-Detection\\enhance_image\\valid\\images\\Grenade-Launcher_36_jpeg.rf.1710c97fc8f9e9c03b02a6ae44ea45f7.jpg: ignoring corrupt image/label: Label class 3 exceeds dataset class count 1. Possible class labels are 0-0\n",
      "\u001b[34m\u001b[1mval: \u001b[0mWARNING  C:\\Users\\dsy92\\OneDrive\\Desktop\\Weapon-Detection\\enhance_image\\valid\\images\\Grenade-Launcher_48_jpeg.rf.851b68dec26909f59b5979157edc6d42.jpg: ignoring corrupt image/label: Label class 3 exceeds dataset class count 1. Possible class labels are 0-0\n",
      "\u001b[34m\u001b[1mval: \u001b[0mWARNING  C:\\Users\\dsy92\\OneDrive\\Desktop\\Weapon-Detection\\enhance_image\\valid\\images\\Grenade-Launcher_50_jpeg.rf.053548e4db52c25dc5a420fb4eec6cb7.jpg: ignoring corrupt image/label: Label class 3 exceeds dataset class count 1. Possible class labels are 0-0\n",
      "\u001b[34m\u001b[1mval: \u001b[0mWARNING  C:\\Users\\dsy92\\OneDrive\\Desktop\\Weapon-Detection\\enhance_image\\valid\\images\\Grenade-Launcher_5_png.rf.1442905e51cf0ef6b4d5247e437f78bc.jpg: ignoring corrupt image/label: Label class 1 exceeds dataset class count 1. Possible class labels are 0-0\n",
      "\u001b[34m\u001b[1mval: \u001b[0mWARNING  C:\\Users\\dsy92\\OneDrive\\Desktop\\Weapon-Detection\\enhance_image\\valid\\images\\Grenade-Launcher_85_jpeg.rf.23bb34bc70e4d737268febd00c4edd4a.jpg: ignoring corrupt image/label: Label class 3 exceeds dataset class count 1. Possible class labels are 0-0\n",
      "\u001b[34m\u001b[1mval: \u001b[0mWARNING  C:\\Users\\dsy92\\OneDrive\\Desktop\\Weapon-Detection\\enhance_image\\valid\\images\\Handgun_11_jpeg.rf.8ececa00471c0ef768405f314abd8cac.jpg: ignoring corrupt image/label: Label class 4 exceeds dataset class count 1. Possible class labels are 0-0\n",
      "\u001b[34m\u001b[1mval: \u001b[0mWARNING  C:\\Users\\dsy92\\OneDrive\\Desktop\\Weapon-Detection\\enhance_image\\valid\\images\\Handgun_12_jpeg.rf.9068c3ab2fcfdb06ac077b7c41c33d3f.jpg: ignoring corrupt image/label: Label class 4 exceeds dataset class count 1. Possible class labels are 0-0\n",
      "\u001b[34m\u001b[1mval: \u001b[0mWARNING  C:\\Users\\dsy92\\OneDrive\\Desktop\\Weapon-Detection\\enhance_image\\valid\\images\\Handgun_14_jpeg.rf.4f751b44f3f7cdf2cf724981a7f60f10.jpg: ignoring corrupt image/label: Label class 4 exceeds dataset class count 1. Possible class labels are 0-0\n",
      "\u001b[34m\u001b[1mval: \u001b[0mWARNING  C:\\Users\\dsy92\\OneDrive\\Desktop\\Weapon-Detection\\enhance_image\\valid\\images\\Handgun_19_jpeg.rf.c7c4b2e6c5180ab03fd2ab241337fc83.jpg: ignoring corrupt image/label: Label class 4 exceeds dataset class count 1. Possible class labels are 0-0\n",
      "\u001b[34m\u001b[1mval: \u001b[0mWARNING  C:\\Users\\dsy92\\OneDrive\\Desktop\\Weapon-Detection\\enhance_image\\valid\\images\\Handgun_22_jpeg.rf.d5fb79585840d74ea6b2aac3c93e0694.jpg: ignoring corrupt image/label: Label class 1 exceeds dataset class count 1. Possible class labels are 0-0\n",
      "\u001b[34m\u001b[1mval: \u001b[0mWARNING  C:\\Users\\dsy92\\OneDrive\\Desktop\\Weapon-Detection\\enhance_image\\valid\\images\\Handgun_29_jpeg.rf.439c9bf812c21975a67f189d23730963.jpg: ignoring corrupt image/label: Label class 4 exceeds dataset class count 1. Possible class labels are 0-0\n",
      "\u001b[34m\u001b[1mval: \u001b[0mWARNING  C:\\Users\\dsy92\\OneDrive\\Desktop\\Weapon-Detection\\enhance_image\\valid\\images\\Handgun_30_jpeg.rf.921b9e04e718ec76eca73562e4fbfb98.jpg: ignoring corrupt image/label: Label class 4 exceeds dataset class count 1. Possible class labels are 0-0\n",
      "\u001b[34m\u001b[1mval: \u001b[0mWARNING  C:\\Users\\dsy92\\OneDrive\\Desktop\\Weapon-Detection\\enhance_image\\valid\\images\\Handgun_41_jpeg.rf.48d043d785b8563c35efd5196bbad5ef.jpg: ignoring corrupt image/label: Label class 4 exceeds dataset class count 1. Possible class labels are 0-0\n",
      "\u001b[34m\u001b[1mval: \u001b[0mWARNING  C:\\Users\\dsy92\\OneDrive\\Desktop\\Weapon-Detection\\enhance_image\\valid\\images\\Handgun_45_jpeg.rf.9c43610fe54d3c503c4371539162c401.jpg: ignoring corrupt image/label: Label class 4 exceeds dataset class count 1. Possible class labels are 0-0\n",
      "\u001b[34m\u001b[1mval: \u001b[0mWARNING  C:\\Users\\dsy92\\OneDrive\\Desktop\\Weapon-Detection\\enhance_image\\valid\\images\\Knife_14_jpeg.rf.293dfedf37deff6835484d15514eee5f.jpg: ignoring corrupt image/label: Label class 5 exceeds dataset class count 1. Possible class labels are 0-0\n",
      "\u001b[34m\u001b[1mval: \u001b[0mWARNING  C:\\Users\\dsy92\\OneDrive\\Desktop\\Weapon-Detection\\enhance_image\\valid\\images\\Knife_15_jpeg.rf.e25e5906b10adaa6b6542fbbbfb08347.jpg: ignoring corrupt image/label: Label class 5 exceeds dataset class count 1. Possible class labels are 0-0\n",
      "\u001b[34m\u001b[1mval: \u001b[0mWARNING  C:\\Users\\dsy92\\OneDrive\\Desktop\\Weapon-Detection\\enhance_image\\valid\\images\\Knife_30_jpeg.rf.b5f641c049b8360c92ba94a19f51d3f5.jpg: ignoring corrupt image/label: Label class 5 exceeds dataset class count 1. Possible class labels are 0-0\n",
      "\u001b[34m\u001b[1mval: \u001b[0mWARNING  C:\\Users\\dsy92\\OneDrive\\Desktop\\Weapon-Detection\\enhance_image\\valid\\images\\Knife_44_jpeg.rf.12dc4a721242ab32458b184219eb5abf.jpg: ignoring corrupt image/label: Label class 5 exceeds dataset class count 1. Possible class labels are 0-0\n",
      "\u001b[34m\u001b[1mval: \u001b[0mWARNING  C:\\Users\\dsy92\\OneDrive\\Desktop\\Weapon-Detection\\enhance_image\\valid\\images\\Knife_51_jpeg.rf.4c3a3984641e1eaf1670b2ba93591747.jpg: ignoring corrupt image/label: Label class 5 exceeds dataset class count 1. Possible class labels are 0-0\n",
      "\u001b[34m\u001b[1mval: \u001b[0mWARNING  C:\\Users\\dsy92\\OneDrive\\Desktop\\Weapon-Detection\\enhance_image\\valid\\images\\Knife_52_jpeg.rf.6e7627f1a722e4d410176fec43d9945e.jpg: ignoring corrupt image/label: Label class 5 exceeds dataset class count 1. Possible class labels are 0-0\n",
      "\u001b[34m\u001b[1mval: \u001b[0mWARNING  C:\\Users\\dsy92\\OneDrive\\Desktop\\Weapon-Detection\\enhance_image\\valid\\images\\Knife_56_png.rf.07c3a473fb56ea0f704411a417e53379.jpg: ignoring corrupt image/label: Label class 5 exceeds dataset class count 1. Possible class labels are 0-0\n",
      "\u001b[34m\u001b[1mval: \u001b[0mWARNING  C:\\Users\\dsy92\\OneDrive\\Desktop\\Weapon-Detection\\enhance_image\\valid\\images\\Knife_5_jpeg.rf.a1344eed2749eee891e89c44cdf159a9.jpg: ignoring corrupt image/label: Label class 5 exceeds dataset class count 1. Possible class labels are 0-0\n",
      "\u001b[34m\u001b[1mval: \u001b[0mWARNING  C:\\Users\\dsy92\\OneDrive\\Desktop\\Weapon-Detection\\enhance_image\\valid\\images\\Knife_75_jpeg.rf.a3fe23d3336d306c981fecd6342ac8f0.jpg: ignoring corrupt image/label: Label class 5 exceeds dataset class count 1. Possible class labels are 0-0\n",
      "\u001b[34m\u001b[1mval: \u001b[0mWARNING  C:\\Users\\dsy92\\OneDrive\\Desktop\\Weapon-Detection\\enhance_image\\valid\\images\\Knife_7_jpeg.rf.34d92d25f96356cfcabe6105d9086a44.jpg: ignoring corrupt image/label: Label class 5 exceeds dataset class count 1. Possible class labels are 0-0\n",
      "\u001b[34m\u001b[1mval: \u001b[0mWARNING  C:\\Users\\dsy92\\OneDrive\\Desktop\\Weapon-Detection\\enhance_image\\valid\\images\\Knife_83_jpeg.rf.ec819906c00b04b61ece106207191512.jpg: ignoring corrupt image/label: Label class 5 exceeds dataset class count 1. Possible class labels are 0-0\n",
      "\u001b[34m\u001b[1mval: \u001b[0mWARNING  C:\\Users\\dsy92\\OneDrive\\Desktop\\Weapon-Detection\\enhance_image\\valid\\images\\Knife_90_jpeg.rf.7231b39752b007d43673fd4e1dbbb35d.jpg: ignoring corrupt image/label: Label class 5 exceeds dataset class count 1. Possible class labels are 0-0\n",
      "\u001b[34m\u001b[1mval: \u001b[0mWARNING  C:\\Users\\dsy92\\OneDrive\\Desktop\\Weapon-Detection\\enhance_image\\valid\\images\\SMG_10_jpeg.rf.c9956cac8a1bf6069b95442bf463d19c.jpg: ignoring corrupt image/label: Label class 6 exceeds dataset class count 1. Possible class labels are 0-0\n",
      "\u001b[34m\u001b[1mval: \u001b[0mWARNING  C:\\Users\\dsy92\\OneDrive\\Desktop\\Weapon-Detection\\enhance_image\\valid\\images\\SMG_18_png.rf.213eac3e930ab92e87f56d3f611bd6b5.jpg: ignoring corrupt image/label: Label class 6 exceeds dataset class count 1. Possible class labels are 0-0\n",
      "\u001b[34m\u001b[1mval: \u001b[0mWARNING  C:\\Users\\dsy92\\OneDrive\\Desktop\\Weapon-Detection\\enhance_image\\valid\\images\\SMG_22_jpeg.rf.aacc07bde0f9d949319751170fcf01b1.jpg: ignoring corrupt image/label: Label class 6 exceeds dataset class count 1. Possible class labels are 0-0\n",
      "\u001b[34m\u001b[1mval: \u001b[0mWARNING  C:\\Users\\dsy92\\OneDrive\\Desktop\\Weapon-Detection\\enhance_image\\valid\\images\\SMG_28_jpeg.rf.c0f492a2490539b869dcaba526f5874b.jpg: ignoring corrupt image/label: Label class 6 exceeds dataset class count 1. Possible class labels are 0-0\n",
      "\u001b[34m\u001b[1mval: \u001b[0mWARNING  C:\\Users\\dsy92\\OneDrive\\Desktop\\Weapon-Detection\\enhance_image\\valid\\images\\SMG_3_jpeg.rf.a92b011d29a7996786b98d26a27ddf9f.jpg: ignoring corrupt image/label: Label class 6 exceeds dataset class count 1. Possible class labels are 0-0\n",
      "\u001b[34m\u001b[1mval: \u001b[0mWARNING  C:\\Users\\dsy92\\OneDrive\\Desktop\\Weapon-Detection\\enhance_image\\valid\\images\\SMG_40_jpeg.rf.dff6719de30964c00769cfc132ec8860.jpg: ignoring corrupt image/label: Label class 6 exceeds dataset class count 1. Possible class labels are 0-0\n",
      "\u001b[34m\u001b[1mval: \u001b[0mWARNING  C:\\Users\\dsy92\\OneDrive\\Desktop\\Weapon-Detection\\enhance_image\\valid\\images\\SMG_48_jpeg.rf.27370e0c27d5b590e11b6d5fd1ac1169.jpg: ignoring corrupt image/label: Label class 6 exceeds dataset class count 1. Possible class labels are 0-0\n",
      "\u001b[34m\u001b[1mval: \u001b[0mWARNING  C:\\Users\\dsy92\\OneDrive\\Desktop\\Weapon-Detection\\enhance_image\\valid\\images\\SMG_53_jpeg.rf.ba24ec3a282a3753b585307367a91253.jpg: ignoring corrupt image/label: Label class 6 exceeds dataset class count 1. Possible class labels are 0-0\n",
      "\u001b[34m\u001b[1mval: \u001b[0mWARNING  C:\\Users\\dsy92\\OneDrive\\Desktop\\Weapon-Detection\\enhance_image\\valid\\images\\SMG_58_png.rf.17c295d41b949362c35854619b3708c6.jpg: ignoring corrupt image/label: Label class 6 exceeds dataset class count 1. Possible class labels are 0-0\n",
      "\u001b[34m\u001b[1mval: \u001b[0mWARNING  C:\\Users\\dsy92\\OneDrive\\Desktop\\Weapon-Detection\\enhance_image\\valid\\images\\SMG_6_jpeg.rf.604e21b93e097571c627bd8b76d3c46f.jpg: ignoring corrupt image/label: Label class 6 exceeds dataset class count 1. Possible class labels are 0-0\n",
      "\u001b[34m\u001b[1mval: \u001b[0mWARNING  C:\\Users\\dsy92\\OneDrive\\Desktop\\Weapon-Detection\\enhance_image\\valid\\images\\SMG_76_jpeg.rf.31e4b83996d610bc05da6fe5ce1f34a5.jpg: ignoring corrupt image/label: Label class 6 exceeds dataset class count 1. Possible class labels are 0-0\n",
      "\u001b[34m\u001b[1mval: \u001b[0mWARNING  C:\\Users\\dsy92\\OneDrive\\Desktop\\Weapon-Detection\\enhance_image\\valid\\images\\SMG_7_jpeg.rf.ac5195ec62c0a835dd6710a89f59fa26.jpg: ignoring corrupt image/label: Label class 9 exceeds dataset class count 1. Possible class labels are 0-0\n",
      "\u001b[34m\u001b[1mval: \u001b[0mWARNING  C:\\Users\\dsy92\\OneDrive\\Desktop\\Weapon-Detection\\enhance_image\\valid\\images\\SMG_82_jpeg.rf.9a42b6a3157990a5efcc239f1bb998de.jpg: ignoring corrupt image/label: Label class 6 exceeds dataset class count 1. Possible class labels are 0-0\n",
      "\u001b[34m\u001b[1mval: \u001b[0mWARNING  C:\\Users\\dsy92\\OneDrive\\Desktop\\Weapon-Detection\\enhance_image\\valid\\images\\SMG_86_jpeg.rf.487cc25f0288a9c6beb9e62247c7db65.jpg: ignoring corrupt image/label: Label class 6 exceeds dataset class count 1. Possible class labels are 0-0\n",
      "\u001b[34m\u001b[1mval: \u001b[0mWARNING  C:\\Users\\dsy92\\OneDrive\\Desktop\\Weapon-Detection\\enhance_image\\valid\\images\\SMG_95_jpeg.rf.f03e138efe6a767af0416f2f460fa118.jpg: ignoring corrupt image/label: Label class 6 exceeds dataset class count 1. Possible class labels are 0-0\n",
      "\u001b[34m\u001b[1mval: \u001b[0mWARNING  C:\\Users\\dsy92\\OneDrive\\Desktop\\Weapon-Detection\\enhance_image\\valid\\images\\Shotgun_11_jpeg.rf.0302b75392f2fba1df59182f74626162.jpg: ignoring corrupt image/label: Label class 7 exceeds dataset class count 1. Possible class labels are 0-0\n",
      "\u001b[34m\u001b[1mval: \u001b[0mWARNING  C:\\Users\\dsy92\\OneDrive\\Desktop\\Weapon-Detection\\enhance_image\\valid\\images\\Shotgun_13_jpeg.rf.e30ef8a3e0fd93508f8a15454727b6cd.jpg: ignoring corrupt image/label: Label class 7 exceeds dataset class count 1. Possible class labels are 0-0\n",
      "\u001b[34m\u001b[1mval: \u001b[0mWARNING  C:\\Users\\dsy92\\OneDrive\\Desktop\\Weapon-Detection\\enhance_image\\valid\\images\\Shotgun_16_jpeg.rf.fbe86641ec2dcf010c930f808b29cca5.jpg: ignoring corrupt image/label: Label class 7 exceeds dataset class count 1. Possible class labels are 0-0\n",
      "\u001b[34m\u001b[1mval: \u001b[0mWARNING  C:\\Users\\dsy92\\OneDrive\\Desktop\\Weapon-Detection\\enhance_image\\valid\\images\\Shotgun_28_jpeg.rf.582c025458fab1f4afa3841db91527c0.jpg: ignoring corrupt image/label: Label class 7 exceeds dataset class count 1. Possible class labels are 0-0\n",
      "\u001b[34m\u001b[1mval: \u001b[0mWARNING  C:\\Users\\dsy92\\OneDrive\\Desktop\\Weapon-Detection\\enhance_image\\valid\\images\\Shotgun_37_jpeg.rf.82918e0823343a2f18bf5dd1c55707e4.jpg: ignoring corrupt image/label: Label class 7 exceeds dataset class count 1. Possible class labels are 0-0\n",
      "\u001b[34m\u001b[1mval: \u001b[0mWARNING  C:\\Users\\dsy92\\OneDrive\\Desktop\\Weapon-Detection\\enhance_image\\valid\\images\\Shotgun_4_jpeg.rf.b899e3583fd77353fcf75d6bd58d941f.jpg: ignoring corrupt image/label: Label class 7 exceeds dataset class count 1. Possible class labels are 0-0\n",
      "\u001b[34m\u001b[1mval: \u001b[0mWARNING  C:\\Users\\dsy92\\OneDrive\\Desktop\\Weapon-Detection\\enhance_image\\valid\\images\\Shotgun_50_jpeg.rf.5eafbe85bfb3de0baf63c03a072f0ac4.jpg: ignoring corrupt image/label: Label class 7 exceeds dataset class count 1. Possible class labels are 0-0\n",
      "\u001b[34m\u001b[1mval: \u001b[0mWARNING  C:\\Users\\dsy92\\OneDrive\\Desktop\\Weapon-Detection\\enhance_image\\valid\\images\\Shotgun_58_jpeg.rf.77a18ec0ae6890ad0ecb372ee5554db0.jpg: ignoring corrupt image/label: Label class 7 exceeds dataset class count 1. Possible class labels are 0-0\n",
      "\u001b[34m\u001b[1mval: \u001b[0mWARNING  C:\\Users\\dsy92\\OneDrive\\Desktop\\Weapon-Detection\\enhance_image\\valid\\images\\Shotgun_5_jpeg.rf.978bb1e5e62f63e7563ba7dc0232216d.jpg: ignoring corrupt image/label: Label class 7 exceeds dataset class count 1. Possible class labels are 0-0\n",
      "\u001b[34m\u001b[1mval: \u001b[0mWARNING  C:\\Users\\dsy92\\OneDrive\\Desktop\\Weapon-Detection\\enhance_image\\valid\\images\\Shotgun_9_jpeg.rf.555768e7babe3f0409ec47fabac66a78.jpg: ignoring corrupt image/label: Label class 7 exceeds dataset class count 1. Possible class labels are 0-0\n",
      "\u001b[34m\u001b[1mval: \u001b[0mWARNING  C:\\Users\\dsy92\\OneDrive\\Desktop\\Weapon-Detection\\enhance_image\\valid\\images\\Sniper_10_jpeg.rf.4e26b2dc23608e26514ccc04dde0afed.jpg: ignoring corrupt image/label: Label class 8 exceeds dataset class count 1. Possible class labels are 0-0\n",
      "\u001b[34m\u001b[1mval: \u001b[0mWARNING  C:\\Users\\dsy92\\OneDrive\\Desktop\\Weapon-Detection\\enhance_image\\valid\\images\\Sniper_12_jpeg.rf.d45d814876ed839cd5523afd3a75c776.jpg: ignoring corrupt image/label: Label class 8 exceeds dataset class count 1. Possible class labels are 0-0\n",
      "\u001b[34m\u001b[1mval: \u001b[0mWARNING  C:\\Users\\dsy92\\OneDrive\\Desktop\\Weapon-Detection\\enhance_image\\valid\\images\\Sniper_20_jpeg.rf.f1885814c001584b63f0e49d699511ef.jpg: ignoring corrupt image/label: Label class 8 exceeds dataset class count 1. Possible class labels are 0-0\n",
      "\u001b[34m\u001b[1mval: \u001b[0mWARNING  C:\\Users\\dsy92\\OneDrive\\Desktop\\Weapon-Detection\\enhance_image\\valid\\images\\Sniper_38_jpeg.rf.b8e7489c04c046ca0e6b1ed44e1fd9b7.jpg: ignoring corrupt image/label: Label class 8 exceeds dataset class count 1. Possible class labels are 0-0\n",
      "\u001b[34m\u001b[1mval: \u001b[0mWARNING  C:\\Users\\dsy92\\OneDrive\\Desktop\\Weapon-Detection\\enhance_image\\valid\\images\\Sniper_40_jpeg.rf.d52749cd69fa9370e0d57e30ae63ab76.jpg: ignoring corrupt image/label: Label class 8 exceeds dataset class count 1. Possible class labels are 0-0\n",
      "\u001b[34m\u001b[1mval: \u001b[0mWARNING  C:\\Users\\dsy92\\OneDrive\\Desktop\\Weapon-Detection\\enhance_image\\valid\\images\\Sniper_46_jpeg.rf.2346e94b5503c5c9897c2b4104166f23.jpg: ignoring corrupt image/label: Label class 8 exceeds dataset class count 1. Possible class labels are 0-0\n",
      "\u001b[34m\u001b[1mval: \u001b[0mWARNING  C:\\Users\\dsy92\\OneDrive\\Desktop\\Weapon-Detection\\enhance_image\\valid\\images\\Sniper_53_jpeg.rf.06a9ce8f6c13e957549f0db271b09d20.jpg: ignoring corrupt image/label: Label class 8 exceeds dataset class count 1. Possible class labels are 0-0\n",
      "\u001b[34m\u001b[1mval: \u001b[0mWARNING  C:\\Users\\dsy92\\OneDrive\\Desktop\\Weapon-Detection\\enhance_image\\valid\\images\\Sniper_64_jpeg.rf.053ec00e73de6240719329e84207a3ec.jpg: ignoring corrupt image/label: Label class 8 exceeds dataset class count 1. Possible class labels are 0-0\n",
      "\u001b[34m\u001b[1mval: \u001b[0mWARNING  C:\\Users\\dsy92\\OneDrive\\Desktop\\Weapon-Detection\\enhance_image\\valid\\images\\Sniper_65_jpeg.rf.d7281657f97d68328ac425b0211be2ba.jpg: ignoring corrupt image/label: Label class 8 exceeds dataset class count 1. Possible class labels are 0-0\n",
      "\u001b[34m\u001b[1mval: \u001b[0mWARNING  C:\\Users\\dsy92\\OneDrive\\Desktop\\Weapon-Detection\\enhance_image\\valid\\images\\Sniper_72_jpeg.rf.5d963d271d808a9567050b46e56aee1c.jpg: ignoring corrupt image/label: Label class 9 exceeds dataset class count 1. Possible class labels are 0-0\n",
      "\u001b[34m\u001b[1mval: \u001b[0mWARNING  C:\\Users\\dsy92\\OneDrive\\Desktop\\Weapon-Detection\\enhance_image\\valid\\images\\Sniper_88_png.rf.8e9cad7cd83fd4839276b6d3f429a59a.jpg: ignoring corrupt image/label: Label class 8 exceeds dataset class count 1. Possible class labels are 0-0\n",
      "\u001b[34m\u001b[1mval: \u001b[0mWARNING  C:\\Users\\dsy92\\OneDrive\\Desktop\\Weapon-Detection\\enhance_image\\valid\\images\\Sword_12_jpeg.rf.9d09325f8c22918356c748c3e78c15b8.jpg: ignoring corrupt image/label: Label class 9 exceeds dataset class count 1. Possible class labels are 0-0\n",
      "\u001b[34m\u001b[1mval: \u001b[0mWARNING  C:\\Users\\dsy92\\OneDrive\\Desktop\\Weapon-Detection\\enhance_image\\valid\\images\\Sword_18_jpeg.rf.d8c682ee0e909434783cbc0bb7157421.jpg: ignoring corrupt image/label: Label class 9 exceeds dataset class count 1. Possible class labels are 0-0\n",
      "\u001b[34m\u001b[1mval: \u001b[0mWARNING  C:\\Users\\dsy92\\OneDrive\\Desktop\\Weapon-Detection\\enhance_image\\valid\\images\\Sword_25_jpeg.rf.de4017a598038119ae2f13c6d28b611e.jpg: ignoring corrupt image/label: Label class 9 exceeds dataset class count 1. Possible class labels are 0-0\n",
      "\u001b[34m\u001b[1mval: \u001b[0mWARNING  C:\\Users\\dsy92\\OneDrive\\Desktop\\Weapon-Detection\\enhance_image\\valid\\images\\Sword_31_jpeg.rf.c9b63585bae06c557a8815a86d6b313a.jpg: ignoring corrupt image/label: Label class 9 exceeds dataset class count 1. Possible class labels are 0-0\n",
      "\u001b[34m\u001b[1mval: \u001b[0mWARNING  C:\\Users\\dsy92\\OneDrive\\Desktop\\Weapon-Detection\\enhance_image\\valid\\images\\Sword_36_jpeg.rf.f0770c85971b484779fb6cbe3b46fd67.jpg: ignoring corrupt image/label: Label class 9 exceeds dataset class count 1. Possible class labels are 0-0\n",
      "\u001b[34m\u001b[1mval: \u001b[0mWARNING  C:\\Users\\dsy92\\OneDrive\\Desktop\\Weapon-Detection\\enhance_image\\valid\\images\\Sword_38_jpeg.rf.1ba82debc13d1e3560656145c52ab186.jpg: ignoring corrupt image/label: Label class 9 exceeds dataset class count 1. Possible class labels are 0-0\n",
      "\u001b[34m\u001b[1mval: \u001b[0mWARNING  C:\\Users\\dsy92\\OneDrive\\Desktop\\Weapon-Detection\\enhance_image\\valid\\images\\Sword_4_jpeg.rf.acb8529f9488c35c467468a8f45fb7e8.jpg: ignoring corrupt image/label: Label class 9 exceeds dataset class count 1. Possible class labels are 0-0\n",
      "\u001b[34m\u001b[1mval: \u001b[0mWARNING  C:\\Users\\dsy92\\OneDrive\\Desktop\\Weapon-Detection\\enhance_image\\valid\\images\\Sword_50_jpeg.rf.5fa4896e29132536341e8c3fe340bd89.jpg: ignoring corrupt image/label: Label class 9 exceeds dataset class count 1. Possible class labels are 0-0\n",
      "\u001b[34m\u001b[1mval: \u001b[0mWARNING  C:\\Users\\dsy92\\OneDrive\\Desktop\\Weapon-Detection\\enhance_image\\valid\\images\\Sword_54_jpeg.rf.fbb3f0de06df5a9013fe5bdea43ec762.jpg: ignoring corrupt image/label: Label class 9 exceeds dataset class count 1. Possible class labels are 0-0\n",
      "\u001b[34m\u001b[1mval: \u001b[0mWARNING  C:\\Users\\dsy92\\OneDrive\\Desktop\\Weapon-Detection\\enhance_image\\valid\\images\\Sword_59_png.rf.9dcb8625219ccb1678abaf0bad65dd5b.jpg: ignoring corrupt image/label: Label class 9 exceeds dataset class count 1. Possible class labels are 0-0\n",
      "\u001b[34m\u001b[1mval: \u001b[0mWARNING  C:\\Users\\dsy92\\OneDrive\\Desktop\\Weapon-Detection\\enhance_image\\valid\\images\\Sword_62_jpeg.rf.679bdd68dd2c42c987de1b472fe74572.jpg: ignoring corrupt image/label: Label class 9 exceeds dataset class count 1. Possible class labels are 0-0\n",
      "\u001b[34m\u001b[1mval: \u001b[0mWARNING  C:\\Users\\dsy92\\OneDrive\\Desktop\\Weapon-Detection\\enhance_image\\valid\\images\\Sword_64_jpeg.rf.b3b48fa5cec6b81e99af57f0d320c9ab.jpg: ignoring corrupt image/label: Label class 9 exceeds dataset class count 1. Possible class labels are 0-0\n",
      "\u001b[34m\u001b[1mval: \u001b[0mWARNING  C:\\Users\\dsy92\\OneDrive\\Desktop\\Weapon-Detection\\enhance_image\\valid\\images\\Sword_81_jpeg.rf.23f232ebc27bcfe9f3aaa18ecb827e07.jpg: ignoring corrupt image/label: Label class 9 exceeds dataset class count 1. Possible class labels are 0-0\n",
      "\u001b[34m\u001b[1mval: \u001b[0mWARNING  C:\\Users\\dsy92\\OneDrive\\Desktop\\Weapon-Detection\\enhance_image\\valid\\images\\Sword_83_jpeg.rf.bdbfa7df65d00e856b05c885f8803fd0.jpg: ignoring corrupt image/label: Label class 9 exceeds dataset class count 1. Possible class labels are 0-0\n",
      "\u001b[34m\u001b[1mval: \u001b[0mWARNING  C:\\Users\\dsy92\\OneDrive\\Desktop\\Weapon-Detection\\enhance_image\\valid\\images\\Sword_99_jpeg.rf.1b4d9dc9f5eba8a9b5748addc8e1cc44.jpg: ignoring corrupt image/label: Label class 9 exceeds dataset class count 1. Possible class labels are 0-0\n"
     ]
    },
    {
     "name": "stderr",
     "output_type": "stream",
     "text": [
      "\n"
     ]
    },
    {
     "name": "stdout",
     "output_type": "stream",
     "text": [
      "Plotting labels to runs\\train\\gun-detector-final3\\labels.jpg... \n",
      "\u001b[34m\u001b[1moptimizer:\u001b[0m AdamW(lr=0.0001, momentum=0.937) with parameter groups 57 weight(decay=0.0), 64 weight(decay=0.0001), 63 bias(decay=0.0)\n",
      "\u001b[34m\u001b[1mTensorBoard: \u001b[0mmodel graph visualization added \n",
      "Image sizes 416 train, 416 val\n",
      "Using 8 dataloader workers\n",
      "Logging results to \u001b[1mruns\\train\\gun-detector-final3\u001b[0m\n",
      "Starting training for 50 epochs...\n",
      "\n",
      "      Epoch    GPU_mem   box_loss   cls_loss   dfl_loss  Instances       Size\n"
     ]
    },
    {
     "name": "stderr",
     "output_type": "stream",
     "text": [
      "       1/50      3.03G      1.622     0.8347      1.447          1        416: 100%|██████████| 1156/1156 [06:29<00:00,  2.97it/s]\n",
      "                 Class     Images  Instances      Box(P          R      mAP50  mAP50-95): 100%|██████████| 30/30 [00:21<00:00,  1.38it/s]"
     ]
    },
    {
     "name": "stdout",
     "output_type": "stream",
     "text": [
      "                   all       1895       2292     0.0298     0.0266     0.0036    0.00181\n"
     ]
    },
    {
     "name": "stderr",
     "output_type": "stream",
     "text": [
      "\n"
     ]
    },
    {
     "name": "stdout",
     "output_type": "stream",
     "text": [
      "\n",
      "      Epoch    GPU_mem   box_loss   cls_loss   dfl_loss  Instances       Size\n"
     ]
    },
    {
     "name": "stderr",
     "output_type": "stream",
     "text": [
      "       2/50         3G      1.476     0.6535      1.328          2        416: 100%|██████████| 1156/1156 [06:18<00:00,  3.05it/s]\n",
      "                 Class     Images  Instances      Box(P          R      mAP50  mAP50-95): 100%|██████████| 30/30 [00:41<00:00,  1.39s/it]"
     ]
    },
    {
     "name": "stdout",
     "output_type": "stream",
     "text": [
      "                   all       1895       2292     0.0469     0.0484    0.00495    0.00289\n"
     ]
    },
    {
     "name": "stderr",
     "output_type": "stream",
     "text": [
      "\n"
     ]
    },
    {
     "name": "stdout",
     "output_type": "stream",
     "text": [
      "\n",
      "      Epoch    GPU_mem   box_loss   cls_loss   dfl_loss  Instances       Size\n"
     ]
    },
    {
     "name": "stderr",
     "output_type": "stream",
     "text": [
      "       3/50      3.01G      1.385     0.5579      1.259          2        416: 100%|██████████| 1156/1156 [06:10<00:00,  3.12it/s]\n",
      "                 Class     Images  Instances      Box(P          R      mAP50  mAP50-95): 100%|██████████| 30/30 [00:31<00:00,  1.05s/it]"
     ]
    },
    {
     "name": "stdout",
     "output_type": "stream",
     "text": [
      "                   all       1895       2292     0.0517     0.0519      0.007    0.00436\n"
     ]
    },
    {
     "name": "stderr",
     "output_type": "stream",
     "text": [
      "\n"
     ]
    },
    {
     "name": "stdout",
     "output_type": "stream",
     "text": [
      "\n",
      "      Epoch    GPU_mem   box_loss   cls_loss   dfl_loss  Instances       Size\n"
     ]
    },
    {
     "name": "stderr",
     "output_type": "stream",
     "text": [
      "       4/50      3.01G      1.333     0.5159      1.222          0        416: 100%|██████████| 1156/1156 [06:10<00:00,  3.12it/s]\n",
      "                 Class     Images  Instances      Box(P          R      mAP50  mAP50-95): 100%|██████████| 30/30 [01:04<00:00,  2.14s/it]"
     ]
    },
    {
     "name": "stdout",
     "output_type": "stream",
     "text": [
      "                   all       1895       2292     0.0507     0.0537    0.00553    0.00347\n"
     ]
    },
    {
     "name": "stderr",
     "output_type": "stream",
     "text": [
      "\n"
     ]
    },
    {
     "name": "stdout",
     "output_type": "stream",
     "text": [
      "\n",
      "      Epoch    GPU_mem   box_loss   cls_loss   dfl_loss  Instances       Size\n"
     ]
    },
    {
     "name": "stderr",
     "output_type": "stream",
     "text": [
      "       5/50      3.14G      1.288     0.4806      1.195          0        416: 100%|██████████| 1156/1156 [06:09<00:00,  3.13it/s]\n",
      "                 Class     Images  Instances      Box(P          R      mAP50  mAP50-95): 100%|██████████| 30/30 [00:35<00:00,  1.17s/it]"
     ]
    },
    {
     "name": "stdout",
     "output_type": "stream",
     "text": [
      "                   all       1895       2292     0.0524     0.0567    0.00568    0.00363\n"
     ]
    },
    {
     "name": "stderr",
     "output_type": "stream",
     "text": [
      "\n"
     ]
    },
    {
     "name": "stdout",
     "output_type": "stream",
     "text": [
      "\n",
      "      Epoch    GPU_mem   box_loss   cls_loss   dfl_loss  Instances       Size\n"
     ]
    },
    {
     "name": "stderr",
     "output_type": "stream",
     "text": [
      "       6/50      3.01G      1.254      0.455      1.178          1        416: 100%|██████████| 1156/1156 [06:10<00:00,  3.12it/s]\n",
      "                 Class     Images  Instances      Box(P          R      mAP50  mAP50-95): 100%|██████████| 30/30 [00:46<00:00,  1.55s/it]"
     ]
    },
    {
     "name": "stdout",
     "output_type": "stream",
     "text": [
      "                   all       1895       2292      0.061     0.0567    0.00666    0.00435\n"
     ]
    },
    {
     "name": "stderr",
     "output_type": "stream",
     "text": [
      "\n"
     ]
    },
    {
     "name": "stdout",
     "output_type": "stream",
     "text": [
      "\n",
      "      Epoch    GPU_mem   box_loss   cls_loss   dfl_loss  Instances       Size\n"
     ]
    },
    {
     "name": "stderr",
     "output_type": "stream",
     "text": [
      "       7/50      3.01G      1.221     0.4321      1.155          3        416: 100%|██████████| 1156/1156 [06:10<00:00,  3.12it/s]\n",
      "                 Class     Images  Instances      Box(P          R      mAP50  mAP50-95): 100%|██████████| 30/30 [00:31<00:00,  1.04s/it]"
     ]
    },
    {
     "name": "stdout",
     "output_type": "stream",
     "text": [
      "                   all       1895       2292     0.0593     0.0585    0.00763    0.00455\n"
     ]
    },
    {
     "name": "stderr",
     "output_type": "stream",
     "text": [
      "\n"
     ]
    },
    {
     "name": "stdout",
     "output_type": "stream",
     "text": [
      "\n",
      "      Epoch    GPU_mem   box_loss   cls_loss   dfl_loss  Instances       Size\n"
     ]
    },
    {
     "name": "stderr",
     "output_type": "stream",
     "text": [
      "       8/50      3.14G      1.192     0.4167      1.138          2        416: 100%|██████████| 1156/1156 [06:11<00:00,  3.11it/s]\n",
      "                 Class     Images  Instances      Box(P          R      mAP50  mAP50-95): 100%|██████████| 30/30 [01:03<00:00,  2.13s/it]"
     ]
    },
    {
     "name": "stdout",
     "output_type": "stream",
     "text": [
      "                   all       1895       2292     0.0634     0.0572    0.00742    0.00501\n"
     ]
    },
    {
     "name": "stderr",
     "output_type": "stream",
     "text": [
      "\n"
     ]
    },
    {
     "name": "stdout",
     "output_type": "stream",
     "text": [
      "\n",
      "      Epoch    GPU_mem   box_loss   cls_loss   dfl_loss  Instances       Size\n"
     ]
    },
    {
     "name": "stderr",
     "output_type": "stream",
     "text": [
      "       9/50      3.01G      1.179     0.4065      1.127          5        416: 100%|██████████| 1156/1156 [06:10<00:00,  3.12it/s]\n",
      "                 Class     Images  Instances      Box(P          R      mAP50  mAP50-95): 100%|██████████| 30/30 [00:34<00:00,  1.16s/it]"
     ]
    },
    {
     "name": "stdout",
     "output_type": "stream",
     "text": [
      "                   all       1895       2292     0.0651     0.0563    0.00851    0.00599\n"
     ]
    },
    {
     "name": "stderr",
     "output_type": "stream",
     "text": [
      "\n"
     ]
    },
    {
     "name": "stdout",
     "output_type": "stream",
     "text": [
      "\n",
      "      Epoch    GPU_mem   box_loss   cls_loss   dfl_loss  Instances       Size\n"
     ]
    },
    {
     "name": "stderr",
     "output_type": "stream",
     "text": [
      "      10/50      3.01G      1.149     0.3892      1.111          1        416: 100%|██████████| 1156/1156 [06:13<00:00,  3.09it/s]\n",
      "                 Class     Images  Instances      Box(P          R      mAP50  mAP50-95): 100%|██████████| 30/30 [00:16<00:00,  1.81it/s]"
     ]
    },
    {
     "name": "stdout",
     "output_type": "stream",
     "text": [
      "                   all       1895       2292     0.0626     0.0572    0.00783    0.00548\n"
     ]
    },
    {
     "name": "stderr",
     "output_type": "stream",
     "text": [
      "\n"
     ]
    },
    {
     "name": "stdout",
     "output_type": "stream",
     "text": [
      "\n",
      "      Epoch    GPU_mem   box_loss   cls_loss   dfl_loss  Instances       Size\n"
     ]
    },
    {
     "name": "stderr",
     "output_type": "stream",
     "text": [
      "      11/50      3.14G      1.124      0.379      1.101          0        416: 100%|██████████| 1156/1156 [06:24<00:00,  3.01it/s]\n",
      "                 Class     Images  Instances      Box(P          R      mAP50  mAP50-95): 100%|██████████| 30/30 [00:19<00:00,  1.52it/s]"
     ]
    },
    {
     "name": "stdout",
     "output_type": "stream",
     "text": [
      "                   all       1895       2292     0.0652     0.0589    0.00795    0.00551\n"
     ]
    },
    {
     "name": "stderr",
     "output_type": "stream",
     "text": [
      "\n"
     ]
    },
    {
     "name": "stdout",
     "output_type": "stream",
     "text": [
      "\n",
      "      Epoch    GPU_mem   box_loss   cls_loss   dfl_loss  Instances       Size\n"
     ]
    },
    {
     "name": "stderr",
     "output_type": "stream",
     "text": [
      "      12/50      3.01G      1.103     0.3668      1.084          7        416: 100%|██████████| 1156/1156 [06:23<00:00,  3.02it/s]\n",
      "                 Class     Images  Instances      Box(P          R      mAP50  mAP50-95): 100%|██████████| 30/30 [00:17<00:00,  1.75it/s]"
     ]
    },
    {
     "name": "stdout",
     "output_type": "stream",
     "text": [
      "                   all       1895       2292     0.0613     0.0545    0.00914    0.00691\n"
     ]
    },
    {
     "name": "stderr",
     "output_type": "stream",
     "text": [
      "\n"
     ]
    },
    {
     "name": "stdout",
     "output_type": "stream",
     "text": [
      "\n",
      "      Epoch    GPU_mem   box_loss   cls_loss   dfl_loss  Instances       Size\n"
     ]
    },
    {
     "name": "stderr",
     "output_type": "stream",
     "text": [
      "      13/50      3.01G      1.086     0.3592      1.078          1        416: 100%|██████████| 1156/1156 [06:23<00:00,  3.02it/s]\n",
      "                 Class     Images  Instances      Box(P          R      mAP50  mAP50-95): 100%|██████████| 30/30 [00:15<00:00,  1.99it/s]"
     ]
    },
    {
     "name": "stdout",
     "output_type": "stream",
     "text": [
      "                   all       1895       2292     0.0673     0.0572    0.00972    0.00703\n"
     ]
    },
    {
     "name": "stderr",
     "output_type": "stream",
     "text": [
      "\n"
     ]
    },
    {
     "name": "stdout",
     "output_type": "stream",
     "text": [
      "\n",
      "      Epoch    GPU_mem   box_loss   cls_loss   dfl_loss  Instances       Size\n"
     ]
    },
    {
     "name": "stderr",
     "output_type": "stream",
     "text": [
      "      14/50      3.14G      1.065     0.3537      1.069          1        416: 100%|██████████| 1156/1156 [06:10<00:00,  3.12it/s]\n",
      "                 Class     Images  Instances      Box(P          R      mAP50  mAP50-95): 100%|██████████| 30/30 [00:32<00:00,  1.10s/it]"
     ]
    },
    {
     "name": "stdout",
     "output_type": "stream",
     "text": [
      "                   all       1895       2292     0.0668     0.0572    0.00954    0.00715\n"
     ]
    },
    {
     "name": "stderr",
     "output_type": "stream",
     "text": [
      "\n"
     ]
    },
    {
     "name": "stdout",
     "output_type": "stream",
     "text": [
      "\n",
      "      Epoch    GPU_mem   box_loss   cls_loss   dfl_loss  Instances       Size\n"
     ]
    },
    {
     "name": "stderr",
     "output_type": "stream",
     "text": [
      "      15/50      3.01G      1.054     0.3447      1.059          2        416: 100%|██████████| 1156/1156 [06:10<00:00,  3.12it/s]\n",
      "                 Class     Images  Instances      Box(P          R      mAP50  mAP50-95): 100%|██████████| 30/30 [00:15<00:00,  1.92it/s]"
     ]
    },
    {
     "name": "stdout",
     "output_type": "stream",
     "text": [
      "                   all       1895       2292     0.0687     0.0567    0.00867    0.00666\n"
     ]
    },
    {
     "name": "stderr",
     "output_type": "stream",
     "text": [
      "\n"
     ]
    },
    {
     "name": "stdout",
     "output_type": "stream",
     "text": [
      "\n",
      "      Epoch    GPU_mem   box_loss   cls_loss   dfl_loss  Instances       Size\n"
     ]
    },
    {
     "name": "stderr",
     "output_type": "stream",
     "text": [
      "      16/50      3.01G      1.038     0.3394      1.052          3        416: 100%|██████████| 1156/1156 [06:10<00:00,  3.12it/s]\n",
      "                 Class     Images  Instances      Box(P          R      mAP50  mAP50-95): 100%|██████████| 30/30 [00:15<00:00,  1.96it/s]"
     ]
    },
    {
     "name": "stdout",
     "output_type": "stream",
     "text": [
      "                   all       1895       2292     0.0703     0.0567     0.0108    0.00835\n"
     ]
    },
    {
     "name": "stderr",
     "output_type": "stream",
     "text": [
      "\n"
     ]
    },
    {
     "name": "stdout",
     "output_type": "stream",
     "text": [
      "\n",
      "      Epoch    GPU_mem   box_loss   cls_loss   dfl_loss  Instances       Size\n"
     ]
    },
    {
     "name": "stderr",
     "output_type": "stream",
     "text": [
      "      17/50      3.14G      1.022     0.3332      1.048          1        416: 100%|██████████| 1156/1156 [06:09<00:00,  3.13it/s]\n",
      "                 Class     Images  Instances      Box(P          R      mAP50  mAP50-95): 100%|██████████| 30/30 [00:18<00:00,  1.65it/s]"
     ]
    },
    {
     "name": "stdout",
     "output_type": "stream",
     "text": [
      "                   all       1895       2292     0.0717      0.055     0.0103    0.00814\n"
     ]
    },
    {
     "name": "stderr",
     "output_type": "stream",
     "text": [
      "\n"
     ]
    },
    {
     "name": "stdout",
     "output_type": "stream",
     "text": [
      "\n",
      "      Epoch    GPU_mem   box_loss   cls_loss   dfl_loss  Instances       Size\n"
     ]
    },
    {
     "name": "stderr",
     "output_type": "stream",
     "text": [
      "      18/50      3.01G      1.008     0.3284      1.036          1        416: 100%|██████████| 1156/1156 [06:11<00:00,  3.11it/s]\n",
      "                 Class     Images  Instances      Box(P          R      mAP50  mAP50-95): 100%|██████████| 30/30 [00:14<00:00,  2.00it/s]"
     ]
    },
    {
     "name": "stdout",
     "output_type": "stream",
     "text": [
      "                   all       1895       2292     0.0732     0.0563     0.0112    0.00904\n"
     ]
    },
    {
     "name": "stderr",
     "output_type": "stream",
     "text": [
      "\n"
     ]
    },
    {
     "name": "stdout",
     "output_type": "stream",
     "text": [
      "\n",
      "      Epoch    GPU_mem   box_loss   cls_loss   dfl_loss  Instances       Size\n"
     ]
    },
    {
     "name": "stderr",
     "output_type": "stream",
     "text": [
      "      19/50      3.01G     0.9887     0.3209      1.028          2        416: 100%|██████████| 1156/1156 [06:19<00:00,  3.04it/s]\n",
      "                 Class     Images  Instances      Box(P          R      mAP50  mAP50-95): 100%|██████████| 30/30 [00:17<00:00,  1.71it/s]"
     ]
    },
    {
     "name": "stdout",
     "output_type": "stream",
     "text": [
      "                   all       1895       2292     0.0735     0.0567     0.0115    0.00913\n"
     ]
    },
    {
     "name": "stderr",
     "output_type": "stream",
     "text": [
      "\n"
     ]
    },
    {
     "name": "stdout",
     "output_type": "stream",
     "text": [
      "\n",
      "      Epoch    GPU_mem   box_loss   cls_loss   dfl_loss  Instances       Size\n"
     ]
    },
    {
     "name": "stderr",
     "output_type": "stream",
     "text": [
      "      20/50      3.14G     0.9765     0.3138      1.022          1        416: 100%|██████████| 1156/1156 [06:16<00:00,  3.07it/s]\n",
      "                 Class     Images  Instances      Box(P          R      mAP50  mAP50-95): 100%|██████████| 30/30 [00:33<00:00,  1.10s/it]"
     ]
    },
    {
     "name": "stdout",
     "output_type": "stream",
     "text": [
      "                   all       1895       2292     0.0747     0.0567      0.011    0.00903\n"
     ]
    },
    {
     "name": "stderr",
     "output_type": "stream",
     "text": [
      "\n"
     ]
    },
    {
     "name": "stdout",
     "output_type": "stream",
     "text": [
      "\n",
      "      Epoch    GPU_mem   box_loss   cls_loss   dfl_loss  Instances       Size\n"
     ]
    },
    {
     "name": "stderr",
     "output_type": "stream",
     "text": [
      "      21/50      3.01G     0.9718     0.3115      1.017          0        416: 100%|██████████| 1156/1156 [06:10<00:00,  3.12it/s]\n",
      "                 Class     Images  Instances      Box(P          R      mAP50  mAP50-95): 100%|██████████| 30/30 [00:16<00:00,  1.87it/s]"
     ]
    },
    {
     "name": "stdout",
     "output_type": "stream",
     "text": [
      "                   all       1895       2292     0.0737     0.0558     0.0117    0.00947\n"
     ]
    },
    {
     "name": "stderr",
     "output_type": "stream",
     "text": [
      "\n"
     ]
    },
    {
     "name": "stdout",
     "output_type": "stream",
     "text": [
      "\n",
      "      Epoch    GPU_mem   box_loss   cls_loss   dfl_loss  Instances       Size\n"
     ]
    },
    {
     "name": "stderr",
     "output_type": "stream",
     "text": [
      "      22/50      3.01G     0.9588     0.3059       1.01          2        416: 100%|██████████| 1156/1156 [06:11<00:00,  3.11it/s]\n",
      "                 Class     Images  Instances      Box(P          R      mAP50  mAP50-95): 100%|██████████| 30/30 [00:15<00:00,  1.88it/s]"
     ]
    },
    {
     "name": "stdout",
     "output_type": "stream",
     "text": [
      "                   all       1895       2292     0.0742     0.0567     0.0124       0.01\n"
     ]
    },
    {
     "name": "stderr",
     "output_type": "stream",
     "text": [
      "\n"
     ]
    },
    {
     "name": "stdout",
     "output_type": "stream",
     "text": [
      "\n",
      "      Epoch    GPU_mem   box_loss   cls_loss   dfl_loss  Instances       Size\n"
     ]
    },
    {
     "name": "stderr",
     "output_type": "stream",
     "text": [
      "      23/50      3.14G      0.945     0.3017      1.007          2        416: 100%|██████████| 1156/1156 [06:10<00:00,  3.12it/s]\n",
      "                 Class     Images  Instances      Box(P          R      mAP50  mAP50-95): 100%|██████████| 30/30 [00:18<00:00,  1.65it/s]"
     ]
    },
    {
     "name": "stdout",
     "output_type": "stream",
     "text": [
      "                   all       1895       2292     0.0711     0.0567     0.0125     0.0103\n"
     ]
    },
    {
     "name": "stderr",
     "output_type": "stream",
     "text": [
      "\n"
     ]
    },
    {
     "name": "stdout",
     "output_type": "stream",
     "text": [
      "\n",
      "      Epoch    GPU_mem   box_loss   cls_loss   dfl_loss  Instances       Size\n"
     ]
    },
    {
     "name": "stderr",
     "output_type": "stream",
     "text": [
      "      24/50      3.01G     0.9353     0.2992      1.002          3        416: 100%|██████████| 1156/1156 [06:10<00:00,  3.12it/s]\n",
      "                 Class     Images  Instances      Box(P          R      mAP50  mAP50-95): 100%|██████████| 30/30 [00:15<00:00,  1.97it/s]"
     ]
    },
    {
     "name": "stdout",
     "output_type": "stream",
     "text": [
      "                   all       1895       2292     0.0715     0.0558     0.0125     0.0106\n"
     ]
    },
    {
     "name": "stderr",
     "output_type": "stream",
     "text": [
      "\n"
     ]
    },
    {
     "name": "stdout",
     "output_type": "stream",
     "text": [
      "\n",
      "      Epoch    GPU_mem   box_loss   cls_loss   dfl_loss  Instances       Size\n"
     ]
    },
    {
     "name": "stderr",
     "output_type": "stream",
     "text": [
      "      25/50      3.01G     0.9199      0.294     0.9981          2        416: 100%|██████████| 1156/1156 [06:10<00:00,  3.12it/s]\n",
      "                 Class     Images  Instances      Box(P          R      mAP50  mAP50-95): 100%|██████████| 30/30 [00:15<00:00,  1.92it/s]"
     ]
    },
    {
     "name": "stdout",
     "output_type": "stream",
     "text": [
      "                   all       1895       2292     0.0734     0.0563     0.0131      0.011\n"
     ]
    },
    {
     "name": "stderr",
     "output_type": "stream",
     "text": [
      "\n"
     ]
    },
    {
     "name": "stdout",
     "output_type": "stream",
     "text": [
      "\n",
      "      Epoch    GPU_mem   box_loss   cls_loss   dfl_loss  Instances       Size\n"
     ]
    },
    {
     "name": "stderr",
     "output_type": "stream",
     "text": [
      "      26/50      3.14G     0.9136     0.2909     0.9916          3        416: 100%|██████████| 1156/1156 [06:10<00:00,  3.12it/s]\n",
      "                 Class     Images  Instances      Box(P          R      mAP50  mAP50-95): 100%|██████████| 30/30 [00:32<00:00,  1.09s/it]"
     ]
    },
    {
     "name": "stdout",
     "output_type": "stream",
     "text": [
      "                   all       1895       2292     0.0744     0.0563     0.0137     0.0112\n"
     ]
    },
    {
     "name": "stderr",
     "output_type": "stream",
     "text": [
      "\n"
     ]
    },
    {
     "name": "stdout",
     "output_type": "stream",
     "text": [
      "\n",
      "      Epoch    GPU_mem   box_loss   cls_loss   dfl_loss  Instances       Size\n"
     ]
    },
    {
     "name": "stderr",
     "output_type": "stream",
     "text": [
      "      27/50      3.01G     0.9089     0.2902     0.9895          3        416: 100%|██████████| 1156/1156 [06:11<00:00,  3.11it/s]\n",
      "                 Class     Images  Instances      Box(P          R      mAP50  mAP50-95): 100%|██████████| 30/30 [00:14<00:00,  2.02it/s]"
     ]
    },
    {
     "name": "stdout",
     "output_type": "stream",
     "text": [
      "                   all       1895       2292     0.0745     0.0567     0.0136     0.0113\n"
     ]
    },
    {
     "name": "stderr",
     "output_type": "stream",
     "text": [
      "\n"
     ]
    },
    {
     "name": "stdout",
     "output_type": "stream",
     "text": [
      "\n",
      "      Epoch    GPU_mem   box_loss   cls_loss   dfl_loss  Instances       Size\n"
     ]
    },
    {
     "name": "stderr",
     "output_type": "stream",
     "text": [
      "      28/50      3.01G     0.8984     0.2834      0.983          1        416: 100%|██████████| 1156/1156 [06:09<00:00,  3.13it/s]\n",
      "                 Class     Images  Instances      Box(P          R      mAP50  mAP50-95): 100%|██████████| 30/30 [00:15<00:00,  1.95it/s]"
     ]
    },
    {
     "name": "stdout",
     "output_type": "stream",
     "text": [
      "                   all       1895       2292      0.074     0.0567     0.0139     0.0117\n"
     ]
    },
    {
     "name": "stderr",
     "output_type": "stream",
     "text": [
      "\n"
     ]
    },
    {
     "name": "stdout",
     "output_type": "stream",
     "text": [
      "\n",
      "      Epoch    GPU_mem   box_loss   cls_loss   dfl_loss  Instances       Size\n"
     ]
    },
    {
     "name": "stderr",
     "output_type": "stream",
     "text": [
      "      29/50      3.14G     0.8877     0.2837     0.9813          6        416: 100%|██████████| 1156/1156 [06:10<00:00,  3.12it/s]\n",
      "                 Class     Images  Instances      Box(P          R      mAP50  mAP50-95): 100%|██████████| 30/30 [00:18<00:00,  1.64it/s]"
     ]
    },
    {
     "name": "stdout",
     "output_type": "stream",
     "text": [
      "                   all       1895       2292     0.0736     0.0563     0.0137     0.0115\n"
     ]
    },
    {
     "name": "stderr",
     "output_type": "stream",
     "text": [
      "\n"
     ]
    },
    {
     "name": "stdout",
     "output_type": "stream",
     "text": [
      "\n",
      "      Epoch    GPU_mem   box_loss   cls_loss   dfl_loss  Instances       Size\n"
     ]
    },
    {
     "name": "stderr",
     "output_type": "stream",
     "text": [
      "      30/50      3.01G     0.8763     0.2773      0.977          0        416: 100%|██████████| 1156/1156 [06:10<00:00,  3.12it/s]\n",
      "                 Class     Images  Instances      Box(P          R      mAP50  mAP50-95): 100%|██████████| 30/30 [00:15<00:00,  1.94it/s]"
     ]
    },
    {
     "name": "stdout",
     "output_type": "stream",
     "text": [
      "                   all       1895       2292     0.0736     0.0563     0.0137     0.0115\n"
     ]
    },
    {
     "name": "stderr",
     "output_type": "stream",
     "text": [
      "\n"
     ]
    },
    {
     "name": "stdout",
     "output_type": "stream",
     "text": [
      "\n",
      "      Epoch    GPU_mem   box_loss   cls_loss   dfl_loss  Instances       Size\n"
     ]
    },
    {
     "name": "stderr",
     "output_type": "stream",
     "text": [
      "      31/50      3.01G     0.8694     0.2753     0.9697          1        416: 100%|██████████| 1156/1156 [06:10<00:00,  3.12it/s]\n",
      "                 Class     Images  Instances      Box(P          R      mAP50  mAP50-95): 100%|██████████| 30/30 [00:14<00:00,  2.00it/s]"
     ]
    },
    {
     "name": "stdout",
     "output_type": "stream",
     "text": [
      "                   all       1895       2292     0.0744     0.0563     0.0136     0.0115\n"
     ]
    },
    {
     "name": "stderr",
     "output_type": "stream",
     "text": [
      "\n"
     ]
    },
    {
     "name": "stdout",
     "output_type": "stream",
     "text": [
      "\n",
      "      Epoch    GPU_mem   box_loss   cls_loss   dfl_loss  Instances       Size\n"
     ]
    },
    {
     "name": "stderr",
     "output_type": "stream",
     "text": [
      "      32/50      3.14G     0.8597     0.2755     0.9674          0        416: 100%|██████████| 1156/1156 [06:10<00:00,  3.12it/s]\n",
      "                 Class     Images  Instances      Box(P          R      mAP50  mAP50-95): 100%|██████████| 30/30 [00:32<00:00,  1.09s/it]"
     ]
    },
    {
     "name": "stdout",
     "output_type": "stream",
     "text": [
      "                   all       1895       2292     0.0745     0.0563     0.0138     0.0117\n"
     ]
    },
    {
     "name": "stderr",
     "output_type": "stream",
     "text": [
      "\n"
     ]
    },
    {
     "name": "stdout",
     "output_type": "stream",
     "text": [
      "\n",
      "      Epoch    GPU_mem   box_loss   cls_loss   dfl_loss  Instances       Size\n"
     ]
    },
    {
     "name": "stderr",
     "output_type": "stream",
     "text": [
      "      33/50      3.01G     0.8515     0.2689     0.9641          2        416: 100%|██████████| 1156/1156 [06:10<00:00,  3.12it/s]\n",
      "                 Class     Images  Instances      Box(P          R      mAP50  mAP50-95): 100%|██████████| 30/30 [00:15<00:00,  1.93it/s]"
     ]
    },
    {
     "name": "stdout",
     "output_type": "stream",
     "text": [
      "                   all       1895       2292     0.0757     0.0567     0.0139     0.0118\n"
     ]
    },
    {
     "name": "stderr",
     "output_type": "stream",
     "text": [
      "\n"
     ]
    },
    {
     "name": "stdout",
     "output_type": "stream",
     "text": [
      "\n",
      "      Epoch    GPU_mem   box_loss   cls_loss   dfl_loss  Instances       Size\n"
     ]
    },
    {
     "name": "stderr",
     "output_type": "stream",
     "text": [
      "      34/50      3.01G     0.8412     0.2671      0.962          3        416: 100%|██████████| 1156/1156 [06:11<00:00,  3.11it/s]\n",
      "                 Class     Images  Instances      Box(P          R      mAP50  mAP50-95): 100%|██████████| 30/30 [00:15<00:00,  1.90it/s]"
     ]
    },
    {
     "name": "stdout",
     "output_type": "stream",
     "text": [
      "                   all       1895       2292     0.0741     0.0567     0.0138     0.0118\n"
     ]
    },
    {
     "name": "stderr",
     "output_type": "stream",
     "text": [
      "\n"
     ]
    },
    {
     "name": "stdout",
     "output_type": "stream",
     "text": [
      "\n",
      "      Epoch    GPU_mem   box_loss   cls_loss   dfl_loss  Instances       Size\n"
     ]
    },
    {
     "name": "stderr",
     "output_type": "stream",
     "text": [
      "      35/50      3.14G     0.8345     0.2645       0.96          2        416: 100%|██████████| 1156/1156 [06:09<00:00,  3.13it/s]\n",
      "                 Class     Images  Instances      Box(P          R      mAP50  mAP50-95): 100%|██████████| 30/30 [00:17<00:00,  1.72it/s]"
     ]
    },
    {
     "name": "stdout",
     "output_type": "stream",
     "text": [
      "                   all       1895       2292     0.0738     0.0567      0.014     0.0119\n"
     ]
    },
    {
     "name": "stderr",
     "output_type": "stream",
     "text": [
      "\n"
     ]
    },
    {
     "name": "stdout",
     "output_type": "stream",
     "text": [
      "\n",
      "      Epoch    GPU_mem   box_loss   cls_loss   dfl_loss  Instances       Size\n"
     ]
    },
    {
     "name": "stderr",
     "output_type": "stream",
     "text": [
      "      36/50      3.01G     0.8238     0.2592     0.9528          0        416: 100%|██████████| 1156/1156 [06:12<00:00,  3.11it/s]\n",
      "                 Class     Images  Instances      Box(P          R      mAP50  mAP50-95): 100%|██████████| 30/30 [00:15<00:00,  1.89it/s]"
     ]
    },
    {
     "name": "stdout",
     "output_type": "stream",
     "text": [
      "                   all       1895       2292     0.0736     0.0567      0.014      0.012\n"
     ]
    },
    {
     "name": "stderr",
     "output_type": "stream",
     "text": [
      "\n"
     ]
    },
    {
     "name": "stdout",
     "output_type": "stream",
     "text": [
      "\n",
      "      Epoch    GPU_mem   box_loss   cls_loss   dfl_loss  Instances       Size\n"
     ]
    },
    {
     "name": "stderr",
     "output_type": "stream",
     "text": [
      "      37/50      3.01G     0.8151     0.2559     0.9507          2        416: 100%|██████████| 1156/1156 [06:10<00:00,  3.12it/s]\n",
      "                 Class     Images  Instances      Box(P          R      mAP50  mAP50-95): 100%|██████████| 30/30 [00:15<00:00,  1.96it/s]"
     ]
    },
    {
     "name": "stdout",
     "output_type": "stream",
     "text": [
      "                   all       1895       2292     0.0745     0.0567     0.0142     0.0121\n"
     ]
    },
    {
     "name": "stderr",
     "output_type": "stream",
     "text": [
      "\n"
     ]
    },
    {
     "name": "stdout",
     "output_type": "stream",
     "text": [
      "\n",
      "      Epoch    GPU_mem   box_loss   cls_loss   dfl_loss  Instances       Size\n"
     ]
    },
    {
     "name": "stderr",
     "output_type": "stream",
     "text": [
      "      38/50      3.14G     0.8144      0.257     0.9516          2        416: 100%|██████████| 1156/1156 [06:12<00:00,  3.10it/s]\n",
      "                 Class     Images  Instances      Box(P          R      mAP50  mAP50-95): 100%|██████████| 30/30 [00:32<00:00,  1.09s/it]"
     ]
    },
    {
     "name": "stdout",
     "output_type": "stream",
     "text": [
      "                   all       1895       2292     0.0748     0.0567     0.0144     0.0123\n"
     ]
    },
    {
     "name": "stderr",
     "output_type": "stream",
     "text": [
      "\n"
     ]
    },
    {
     "name": "stdout",
     "output_type": "stream",
     "text": [
      "\n",
      "      Epoch    GPU_mem   box_loss   cls_loss   dfl_loss  Instances       Size\n"
     ]
    },
    {
     "name": "stderr",
     "output_type": "stream",
     "text": [
      "      39/50      3.01G     0.8042     0.2525     0.9462          2        416: 100%|██████████| 1156/1156 [06:09<00:00,  3.13it/s]\n",
      "                 Class     Images  Instances      Box(P          R      mAP50  mAP50-95): 100%|██████████| 30/30 [00:15<00:00,  1.99it/s]"
     ]
    },
    {
     "name": "stdout",
     "output_type": "stream",
     "text": [
      "                   all       1895       2292     0.0745     0.0567     0.0144     0.0125\n"
     ]
    },
    {
     "name": "stderr",
     "output_type": "stream",
     "text": [
      "\n"
     ]
    },
    {
     "name": "stdout",
     "output_type": "stream",
     "text": [
      "\n",
      "      Epoch    GPU_mem   box_loss   cls_loss   dfl_loss  Instances       Size\n"
     ]
    },
    {
     "name": "stderr",
     "output_type": "stream",
     "text": [
      "      40/50      3.01G     0.7979     0.2512     0.9437          2        416: 100%|██████████| 1156/1156 [06:11<00:00,  3.12it/s]\n",
      "                 Class     Images  Instances      Box(P          R      mAP50  mAP50-95): 100%|██████████| 30/30 [00:15<00:00,  1.98it/s]"
     ]
    },
    {
     "name": "stdout",
     "output_type": "stream",
     "text": [
      "                   all       1895       2292     0.0749     0.0567     0.0146     0.0126\n"
     ]
    },
    {
     "name": "stderr",
     "output_type": "stream",
     "text": [
      "\n"
     ]
    },
    {
     "name": "stdout",
     "output_type": "stream",
     "text": [
      "Closing dataloader mosaic\n",
      "\n",
      "      Epoch    GPU_mem   box_loss   cls_loss   dfl_loss  Instances       Size\n"
     ]
    },
    {
     "name": "stderr",
     "output_type": "stream",
     "text": [
      "      41/50      3.08G      0.703     0.1849     0.8965         20        416:   1%|          | 8/1156 [00:03<08:22,  2.29it/s]\n"
     ]
    },
    {
     "name": "stdout",
     "output_type": "stream",
     "text": [
      "❌ Training failed: Caught RuntimeError in pin memory thread for device 0.\n",
      "Original Traceback (most recent call last):\n",
      "  File \"c:\\Users\\dsy92\\OneDrive\\Desktop\\Weapon-Detection\\new_env\\lib\\site-packages\\torch\\utils\\data\\_utils\\pin_memory.py\", line 41, in do_one_step\n",
      "    data = pin_memory(data, device)\n",
      "  File \"c:\\Users\\dsy92\\OneDrive\\Desktop\\Weapon-Detection\\new_env\\lib\\site-packages\\torch\\utils\\data\\_utils\\pin_memory.py\", line 75, in pin_memory\n",
      "    {k: pin_memory(sample, device) for k, sample in data.items()}\n",
      "  File \"c:\\Users\\dsy92\\OneDrive\\Desktop\\Weapon-Detection\\new_env\\lib\\site-packages\\torch\\utils\\data\\_utils\\pin_memory.py\", line 75, in <dictcomp>\n",
      "    {k: pin_memory(sample, device) for k, sample in data.items()}\n",
      "  File \"c:\\Users\\dsy92\\OneDrive\\Desktop\\Weapon-Detection\\new_env\\lib\\site-packages\\torch\\utils\\data\\_utils\\pin_memory.py\", line 64, in pin_memory\n",
      "    return data.pin_memory(device)\n",
      "RuntimeError: CUDA error: resource already mapped\n",
      "CUDA kernel errors might be asynchronously reported at some other API call, so the stacktrace below might be incorrect.\n",
      "For debugging consider passing CUDA_LAUNCH_BLOCKING=1\n",
      "Compile with `TORCH_USE_CUDA_DSA` to enable device-side assertions.\n",
      "\n",
      "\n",
      "⚠️ Partial model saved to: C:\\Users\\dsy92\\OneDrive\\Desktop\\Weapon-Detection\\model\\gun_detector_final_backup.pt\n",
      "\n",
      "Exporting model to ONNX format...\n",
      "❌ Export failed: 'IterableSimpleNamespace' object is not subscriptable\n"
     ]
    }
   ],
   "source": [
    "from ultralytics import YOLO\n",
    "import torch\n",
    "import os\n",
    "import yaml\n",
    "\n",
    "# ======================\n",
    "# CONFIGURATION\n",
    "# ======================\n",
    "# Device selection\n",
    "device = '0' if torch.cuda.is_available() else 'cpu'\n",
    "print(f\"Using device: {'GPU' if device == '0' else 'CPU'}\")\n",
    "\n",
    "# Path configuration\n",
    "yaml_path = r'C:\\Users\\dsy92\\OneDrive\\Desktop\\Weapon-Detection\\enhance_image\\weapon_data.yaml'\n",
    "pretrained_weights = r'C:\\Users\\dsy92\\OneDrive\\Desktop\\Weapon-Detection\\model\\yolov1.pt'\n",
    "output_weights = r'C:\\Users\\dsy92\\OneDrive\\Desktop\\Weapon-Detection\\model\\gun_detector_final.pt'\n",
    "\n",
    "# ======================\n",
    "# VALIDATION CHECKS\n",
    "# ======================\n",
    "# 1. Verify files exist\n",
    "if not os.path.exists(yaml_path):\n",
    "    raise FileNotFoundError(f\"YAML file not found at: {yaml_path}\")\n",
    "if not os.path.exists(pretrained_weights):\n",
    "    raise FileNotFoundError(f\"Model weights not found at: {pretrained_weights}\")\n",
    "\n",
    "# 2. Verify YAML structure\n",
    "with open(yaml_path) as f:\n",
    "    yaml_data = yaml.safe_load(f)\n",
    "    \n",
    "if yaml_data['nc'] != 1 or len(yaml_data['names']) != 1:\n",
    "    print(\"⚠️ Fixing YAML to single-class configuration...\")\n",
    "    yaml_data['nc'] = 1\n",
    "    yaml_data['names'] = ['gun']  # Ensure only one class name\n",
    "    with open(yaml_path, 'w') as f:\n",
    "        yaml.dump(yaml_data, f)\n",
    "    print(\"✅ YAML file updated to single-class format\")\n",
    "\n",
    "# ======================\n",
    "# MODEL SETUP\n",
    "# ======================\n",
    "# Load model\n",
    "model = YOLO(pretrained_weights)\n",
    "\n",
    "# ======================\n",
    "# TRAINING CONFIGURATION\n",
    "# ======================\n",
    "train_params = {\n",
    "    'data': yaml_path,\n",
    "    'epochs': 50,  # Increased for better convergence\n",
    "    'imgsz': 416,\n",
    "    'batch': 32 if device == '0' else 8,\n",
    "    'device': device,\n",
    "    'workers': 8 if device == '0' else 4,\n",
    "    'name': 'gun-detector-final',\n",
    "    'project': 'runs/train',\n",
    "    'single_cls': True,  # Force single-class mode\n",
    "    'optimizer': 'AdamW',\n",
    "    'lr0': 0.0001,  # Initial learning rate\n",
    "    'lrf': 0.00005,  # Final learning rate\n",
    "    'patience': 10,  # Early stopping patience\n",
    "    'save': True,\n",
    "    'save_period': 5,  # Save every 10 epochs\n",
    "    'amp': True,  # Mixed precision\n",
    "    'augment': True,\n",
    "    'dropout': 0.1,\n",
    "    'weight_decay': 0.0001,\n",
    "    'box': 7.5,  # Loss weights\n",
    "    'cls': 0.3,\n",
    "    'dfl': 1.5,\n",
    "    'hsv_h': 0.01,  # Augmentation parameters\n",
    "    'hsv_s': 0.6,\n",
    "    'hsv_v': 0.4,\n",
    "    'degrees': 5.0,\n",
    "    'translate': 0.05,\n",
    "    'scale': 0.3,\n",
    "    'shear': 1.0,\n",
    "    'perspective': 0.0005,\n",
    "    'fliplr': 0.3,\n",
    "    'mosaic': 0.3,\n",
    "    'copy_paste': 0.1,\n",
    "    'warmup_epochs': 3,\n",
    "    'warmup_momentum': 0.8\n",
    "}\n",
    "\n",
    "# ======================\n",
    "# TRAINING EXECUTION\n",
    "# ======================\n",
    "try:\n",
    "    print(\"🚀 Starting fine-tuning...\")\n",
    "    results = model.train(**train_params)\n",
    "    \n",
    "    # Save final model\n",
    "    model.save(output_weights)\n",
    "    print(f\"✅ Training completed! Model saved to: {output_weights}\")\n",
    "    \n",
    "    # Run validation\n",
    "    print(\"\\nRunning final validation...\")\n",
    "    metrics = model.val(\n",
    "        data=yaml_path,\n",
    "        batch=train_params['batch'] * 2,\n",
    "        imgsz=416,\n",
    "        conf=0.25,  # Higher confidence threshold for weapons\n",
    "        iou=0.45\n",
    "    )\n",
    "    print(f\"\\n📊 Validation Results:\")\n",
    "    print(f\"mAP50: {metrics.box.map50:.4f}\")\n",
    "    print(f\"mAP50-95: {metrics.box.map:.4f}\")\n",
    "    print(f\"Precision: {metrics.box.p:.4f}\")\n",
    "    print(f\"Recall: {metrics.box.r:.4f}\")\n",
    "    \n",
    "except Exception as e:\n",
    "    print(f\"❌ Training failed: {str(e)}\")\n",
    "    # Attempt to save partial progress\n",
    "    if 'model' in locals():\n",
    "        backup_path = output_weights.replace('.pt', '_backup.pt')\n",
    "        model.save(backup_path)\n",
    "        print(f\"⚠️ Partial model saved to: {backup_path}\")\n",
    "\n",
    "# ======================\n",
    "# OPTIONAL EXPORT\n",
    "# ======================\n",
    "export_format = 'onnx'  # Change to 'engine' for TensorRT\n",
    "\n",
    "try:\n",
    "    print(f\"\\nExporting model to {export_format.upper()} format...\")\n",
    "    model.export(\n",
    "        format=export_format,\n",
    "        imgsz=416,\n",
    "        simplify=True,\n",
    "        dynamic=False,\n",
    "        opset=12\n",
    "    )\n",
    "    print(f\"✅ Export successful! Model saved in {export_format.upper()} format\")\n",
    "except Exception as e:\n",
    "    print(f\"❌ Export failed: {str(e)}\")"
   ]
  },
  {
   "cell_type": "code",
   "execution_count": 6,
   "id": "1b46639c",
   "metadata": {},
   "outputs": [
    {
     "name": "stdout",
     "output_type": "stream",
     "text": [
      "Requirement already satisfied: ultralytics in c:\\users\\dsy92\\onedrive\\desktop\\weapon-detection\\new_env\\lib\\site-packages (8.3.127)\n",
      "Requirement already satisfied: numpy>=1.23.0 in c:\\users\\dsy92\\onedrive\\desktop\\weapon-detection\\new_env\\lib\\site-packages (from ultralytics) (1.26.4)\n",
      "Requirement already satisfied: matplotlib>=3.3.0 in c:\\users\\dsy92\\onedrive\\desktop\\weapon-detection\\new_env\\lib\\site-packages (from ultralytics) (3.10.1)\n",
      "Requirement already satisfied: opencv-python>=4.6.0 in c:\\users\\dsy92\\onedrive\\desktop\\weapon-detection\\new_env\\lib\\site-packages (from ultralytics) (4.11.0.86)\n",
      "Requirement already satisfied: pillow>=7.1.2 in c:\\users\\dsy92\\onedrive\\desktop\\weapon-detection\\new_env\\lib\\site-packages (from ultralytics) (11.2.1)\n",
      "Requirement already satisfied: pyyaml>=5.3.1 in c:\\users\\dsy92\\onedrive\\desktop\\weapon-detection\\new_env\\lib\\site-packages (from ultralytics) (6.0.2)\n",
      "Requirement already satisfied: requests>=2.23.0 in c:\\users\\dsy92\\onedrive\\desktop\\weapon-detection\\new_env\\lib\\site-packages (from ultralytics) (2.32.3)\n",
      "Requirement already satisfied: scipy>=1.4.1 in c:\\users\\dsy92\\onedrive\\desktop\\weapon-detection\\new_env\\lib\\site-packages (from ultralytics) (1.15.2)\n",
      "Requirement already satisfied: torch>=1.8.0 in c:\\users\\dsy92\\onedrive\\desktop\\weapon-detection\\new_env\\lib\\site-packages (from ultralytics) (2.5.1+cu121)\n",
      "Requirement already satisfied: torchvision>=0.9.0 in c:\\users\\dsy92\\onedrive\\desktop\\weapon-detection\\new_env\\lib\\site-packages (from ultralytics) (0.20.1+cu121)\n",
      "Requirement already satisfied: tqdm>=4.64.0 in c:\\users\\dsy92\\onedrive\\desktop\\weapon-detection\\new_env\\lib\\site-packages (from ultralytics) (4.67.1)\n",
      "Requirement already satisfied: psutil in c:\\users\\dsy92\\onedrive\\desktop\\weapon-detection\\new_env\\lib\\site-packages (from ultralytics) (7.0.0)\n",
      "Requirement already satisfied: py-cpuinfo in c:\\users\\dsy92\\onedrive\\desktop\\weapon-detection\\new_env\\lib\\site-packages (from ultralytics) (9.0.0)\n",
      "Requirement already satisfied: pandas>=1.1.4 in c:\\users\\dsy92\\onedrive\\desktop\\weapon-detection\\new_env\\lib\\site-packages (from ultralytics) (2.2.3)\n",
      "Requirement already satisfied: seaborn>=0.11.0 in c:\\users\\dsy92\\onedrive\\desktop\\weapon-detection\\new_env\\lib\\site-packages (from ultralytics) (0.13.2)\n",
      "Requirement already satisfied: ultralytics-thop>=2.0.0 in c:\\users\\dsy92\\onedrive\\desktop\\weapon-detection\\new_env\\lib\\site-packages (from ultralytics) (2.0.14)\n",
      "Requirement already satisfied: contourpy>=1.0.1 in c:\\users\\dsy92\\onedrive\\desktop\\weapon-detection\\new_env\\lib\\site-packages (from matplotlib>=3.3.0->ultralytics) (1.3.2)\n",
      "Requirement already satisfied: cycler>=0.10 in c:\\users\\dsy92\\onedrive\\desktop\\weapon-detection\\new_env\\lib\\site-packages (from matplotlib>=3.3.0->ultralytics) (0.12.1)\n",
      "Requirement already satisfied: fonttools>=4.22.0 in c:\\users\\dsy92\\onedrive\\desktop\\weapon-detection\\new_env\\lib\\site-packages (from matplotlib>=3.3.0->ultralytics) (4.57.0)\n",
      "Requirement already satisfied: kiwisolver>=1.3.1 in c:\\users\\dsy92\\onedrive\\desktop\\weapon-detection\\new_env\\lib\\site-packages (from matplotlib>=3.3.0->ultralytics) (1.4.8)\n",
      "Requirement already satisfied: packaging>=20.0 in c:\\users\\dsy92\\onedrive\\desktop\\weapon-detection\\new_env\\lib\\site-packages (from matplotlib>=3.3.0->ultralytics) (25.0)\n",
      "Requirement already satisfied: pyparsing>=2.3.1 in c:\\users\\dsy92\\onedrive\\desktop\\weapon-detection\\new_env\\lib\\site-packages (from matplotlib>=3.3.0->ultralytics) (3.2.3)\n",
      "Requirement already satisfied: python-dateutil>=2.7 in c:\\users\\dsy92\\onedrive\\desktop\\weapon-detection\\new_env\\lib\\site-packages (from matplotlib>=3.3.0->ultralytics) (2.9.0.post0)\n",
      "Requirement already satisfied: pytz>=2020.1 in c:\\users\\dsy92\\onedrive\\desktop\\weapon-detection\\new_env\\lib\\site-packages (from pandas>=1.1.4->ultralytics) (2025.2)\n",
      "Requirement already satisfied: tzdata>=2022.7 in c:\\users\\dsy92\\onedrive\\desktop\\weapon-detection\\new_env\\lib\\site-packages (from pandas>=1.1.4->ultralytics) (2025.2)\n",
      "Requirement already satisfied: six>=1.5 in c:\\users\\dsy92\\onedrive\\desktop\\weapon-detection\\new_env\\lib\\site-packages (from python-dateutil>=2.7->matplotlib>=3.3.0->ultralytics) (1.17.0)\n",
      "Requirement already satisfied: charset-normalizer<4,>=2 in c:\\users\\dsy92\\onedrive\\desktop\\weapon-detection\\new_env\\lib\\site-packages (from requests>=2.23.0->ultralytics) (3.4.2)\n",
      "Requirement already satisfied: idna<4,>=2.5 in c:\\users\\dsy92\\onedrive\\desktop\\weapon-detection\\new_env\\lib\\site-packages (from requests>=2.23.0->ultralytics) (3.10)\n",
      "Requirement already satisfied: urllib3<3,>=1.21.1 in c:\\users\\dsy92\\onedrive\\desktop\\weapon-detection\\new_env\\lib\\site-packages (from requests>=2.23.0->ultralytics) (2.4.0)\n",
      "Requirement already satisfied: certifi>=2017.4.17 in c:\\users\\dsy92\\onedrive\\desktop\\weapon-detection\\new_env\\lib\\site-packages (from requests>=2.23.0->ultralytics) (2025.4.26)\n",
      "Requirement already satisfied: filelock in c:\\users\\dsy92\\onedrive\\desktop\\weapon-detection\\new_env\\lib\\site-packages (from torch>=1.8.0->ultralytics) (3.18.0)\n",
      "Requirement already satisfied: typing-extensions>=4.8.0 in c:\\users\\dsy92\\onedrive\\desktop\\weapon-detection\\new_env\\lib\\site-packages (from torch>=1.8.0->ultralytics) (4.13.2)\n",
      "Requirement already satisfied: networkx in c:\\users\\dsy92\\onedrive\\desktop\\weapon-detection\\new_env\\lib\\site-packages (from torch>=1.8.0->ultralytics) (3.4.2)\n",
      "Requirement already satisfied: jinja2 in c:\\users\\dsy92\\onedrive\\desktop\\weapon-detection\\new_env\\lib\\site-packages (from torch>=1.8.0->ultralytics) (3.1.6)\n",
      "Requirement already satisfied: fsspec in c:\\users\\dsy92\\onedrive\\desktop\\weapon-detection\\new_env\\lib\\site-packages (from torch>=1.8.0->ultralytics) (2025.3.2)\n",
      "Requirement already satisfied: sympy==1.13.1 in c:\\users\\dsy92\\onedrive\\desktop\\weapon-detection\\new_env\\lib\\site-packages (from torch>=1.8.0->ultralytics) (1.13.1)\n",
      "Requirement already satisfied: mpmath<1.4,>=1.1.0 in c:\\users\\dsy92\\onedrive\\desktop\\weapon-detection\\new_env\\lib\\site-packages (from sympy==1.13.1->torch>=1.8.0->ultralytics) (1.3.0)\n",
      "Requirement already satisfied: colorama in c:\\users\\dsy92\\onedrive\\desktop\\weapon-detection\\new_env\\lib\\site-packages (from tqdm>=4.64.0->ultralytics) (0.4.6)\n",
      "Requirement already satisfied: MarkupSafe>=2.0 in c:\\users\\dsy92\\onedrive\\desktop\\weapon-detection\\new_env\\lib\\site-packages (from jinja2->torch>=1.8.0->ultralytics) (3.0.2)\n",
      "Note: you may need to restart the kernel to use updated packages.\n"
     ]
    },
    {
     "name": "stderr",
     "output_type": "stream",
     "text": [
      "WARNING: Ignoring invalid distribution -atplotlib (c:\\users\\dsy92\\onedrive\\desktop\\weapon-detection\\new_env\\lib\\site-packages)\n",
      "WARNING: Ignoring invalid distribution -atplotlib (c:\\users\\dsy92\\onedrive\\desktop\\weapon-detection\\new_env\\lib\\site-packages)\n",
      "WARNING: Ignoring invalid distribution -atplotlib (c:\\users\\dsy92\\onedrive\\desktop\\weapon-detection\\new_env\\lib\\site-packages)\n"
     ]
    }
   ],
   "source": [
    "pip install -U ultralytics"
   ]
  },
  {
   "cell_type": "code",
   "execution_count": null,
   "id": "85b1caab",
   "metadata": {},
   "outputs": [],
   "source": [
    "import os\n",
    "from ultralytics import YOLO\n",
    "\n",
    "# Create the directory if it doesn't exist\n",
    "os.makedirs('model', exist_ok=True)\n",
    "\n",
    "# Load or train your model\n",
    "model = YOLO('runs/train/weapon-detector17/weights/last.pt')\n",
    "\n",
    "# Save the model in Ultralytics format (.pt)\n",
    "model.save('../model/version3.pt')  # YOLOv8 uses .pt, not .h5\n"
   ]
  },
  {
   "cell_type": "code",
   "execution_count": 8,
   "id": "4682e895",
   "metadata": {},
   "outputs": [
    {
     "ename": "ModuleNotFoundError",
     "evalue": "No module named 'ultralytics.yolo'",
     "output_type": "error",
     "traceback": [
      "\u001b[1;31m---------------------------------------------------------------------------\u001b[0m",
      "\u001b[1;31mModuleNotFoundError\u001b[0m                       Traceback (most recent call last)",
      "Cell \u001b[1;32mIn[8], line 1\u001b[0m\n\u001b[1;32m----> 1\u001b[0m \u001b[38;5;28;01mfrom\u001b[39;00m\u001b[38;5;250m \u001b[39m\u001b[38;5;21;01multralytics\u001b[39;00m\u001b[38;5;21;01m.\u001b[39;00m\u001b[38;5;21;01myolo\u001b[39;00m\u001b[38;5;21;01m.\u001b[39;00m\u001b[38;5;21;01mutils\u001b[39;00m\u001b[38;5;21;01m.\u001b[39;00m\u001b[38;5;21;01mops\u001b[39;00m\u001b[38;5;250m \u001b[39m\u001b[38;5;28;01mimport\u001b[39;00m plot_labels\n\u001b[0;32m      2\u001b[0m plot_labels(yaml_path)  \u001b[38;5;66;03m# Visualize your dataset class distribution\u001b[39;00m\n",
      "\u001b[1;31mModuleNotFoundError\u001b[0m: No module named 'ultralytics.yolo'"
     ]
    }
   ],
   "source": [
    "from ultralytics.yolo.utils.ops import plot_labels\n",
    "plot_labels(yaml_path)  # Visualize your dataset class distribution"
   ]
  },
  {
   "cell_type": "code",
   "execution_count": 31,
   "id": "5471aeae",
   "metadata": {},
   "outputs": [
    {
     "name": "stdout",
     "output_type": "stream",
     "text": [
      "\n",
      "0: 256x416 (no detections), 26.6ms\n",
      "Speed: 2.0ms preprocess, 26.6ms inference, 1.5ms postprocess per image at shape (1, 3, 256, 416)\n",
      "\n",
      "0: 256x416 (no detections), 24.4ms\n",
      "Speed: 3.2ms preprocess, 24.4ms inference, 1.6ms postprocess per image at shape (1, 3, 256, 416)\n",
      "\n",
      "0: 256x416 1 gun, 21.5ms\n",
      "Speed: 2.2ms preprocess, 21.5ms inference, 1.9ms postprocess per image at shape (1, 3, 256, 416)\n",
      "Detected class: gun, Confidence: 0.25, Box: [439.15350341796875, 367.5732421875, 492.008056640625, 425.8669128417969]\n",
      "\n",
      "0: 256x416 (no detections), 20.1ms\n",
      "Speed: 2.0ms preprocess, 20.1ms inference, 0.9ms postprocess per image at shape (1, 3, 256, 416)\n",
      "\n",
      "0: 256x416 1 gun, 20.1ms\n",
      "Speed: 1.9ms preprocess, 20.1ms inference, 2.3ms postprocess per image at shape (1, 3, 256, 416)\n",
      "Detected class: gun, Confidence: 0.32, Box: [457.4893493652344, 371.7731628417969, 509.9853210449219, 428.3368835449219]\n",
      "\n",
      "0: 256x416 (no detections), 20.4ms\n",
      "Speed: 1.6ms preprocess, 20.4ms inference, 0.8ms postprocess per image at shape (1, 3, 256, 416)\n",
      "\n",
      "0: 256x416 (no detections), 21.0ms\n",
      "Speed: 1.6ms preprocess, 21.0ms inference, 0.9ms postprocess per image at shape (1, 3, 256, 416)\n",
      "\n",
      "0: 256x416 (no detections), 13.1ms\n",
      "Speed: 1.2ms preprocess, 13.1ms inference, 0.6ms postprocess per image at shape (1, 3, 256, 416)\n",
      "\n",
      "0: 256x416 (no detections), 12.4ms\n",
      "Speed: 1.2ms preprocess, 12.4ms inference, 0.6ms postprocess per image at shape (1, 3, 256, 416)\n",
      "\n",
      "0: 256x416 (no detections), 12.3ms\n",
      "Speed: 1.1ms preprocess, 12.3ms inference, 0.7ms postprocess per image at shape (1, 3, 256, 416)\n",
      "\n",
      "0: 256x416 1 gun, 17.7ms\n",
      "Speed: 1.9ms preprocess, 17.7ms inference, 2.1ms postprocess per image at shape (1, 3, 256, 416)\n",
      "Detected class: gun, Confidence: 0.46, Box: [500.6274108886719, 318.4288024902344, 554.3612060546875, 377.0195007324219]\n",
      "\n",
      "0: 256x416 (no detections), 13.5ms\n",
      "Speed: 1.1ms preprocess, 13.5ms inference, 0.7ms postprocess per image at shape (1, 3, 256, 416)\n",
      "\n",
      "0: 256x416 (no detections), 12.6ms\n",
      "Speed: 1.3ms preprocess, 12.6ms inference, 0.6ms postprocess per image at shape (1, 3, 256, 416)\n",
      "\n",
      "0: 256x416 (no detections), 14.5ms\n",
      "Speed: 1.3ms preprocess, 14.5ms inference, 0.7ms postprocess per image at shape (1, 3, 256, 416)\n",
      "\n",
      "0: 256x416 (no detections), 13.4ms\n",
      "Speed: 1.3ms preprocess, 13.4ms inference, 0.7ms postprocess per image at shape (1, 3, 256, 416)\n",
      "\n",
      "0: 256x416 (no detections), 11.8ms\n",
      "Speed: 1.2ms preprocess, 11.8ms inference, 0.6ms postprocess per image at shape (1, 3, 256, 416)\n",
      "\n",
      "0: 256x416 (no detections), 12.2ms\n",
      "Speed: 1.1ms preprocess, 12.2ms inference, 0.7ms postprocess per image at shape (1, 3, 256, 416)\n",
      "\n",
      "0: 256x416 1 gun, 11.7ms\n",
      "Speed: 1.1ms preprocess, 11.7ms inference, 2.9ms postprocess per image at shape (1, 3, 256, 416)\n",
      "Detected class: gun, Confidence: 0.28, Box: [549.318115234375, 198.046875, 604.0159301757812, 272.092041015625]\n",
      "\n",
      "0: 256x416 (no detections), 12.3ms\n",
      "Speed: 1.2ms preprocess, 12.3ms inference, 1.0ms postprocess per image at shape (1, 3, 256, 416)\n",
      "\n",
      "0: 256x416 1 gun, 11.7ms\n",
      "Speed: 1.1ms preprocess, 11.7ms inference, 1.7ms postprocess per image at shape (1, 3, 256, 416)\n",
      "Detected class: gun, Confidence: 0.54, Box: [130.28427124023438, 141.09901428222656, 324.93975830078125, 401.39593505859375]\n",
      "\n",
      "0: 256x416 (no detections), 12.7ms\n",
      "Speed: 1.1ms preprocess, 12.7ms inference, 0.6ms postprocess per image at shape (1, 3, 256, 416)\n",
      "\n",
      "0: 256x416 (no detections), 14.0ms\n",
      "Speed: 1.1ms preprocess, 14.0ms inference, 0.7ms postprocess per image at shape (1, 3, 256, 416)\n",
      "\n",
      "0: 256x416 (no detections), 12.4ms\n",
      "Speed: 1.1ms preprocess, 12.4ms inference, 1.0ms postprocess per image at shape (1, 3, 256, 416)\n",
      "\n",
      "0: 256x416 (no detections), 12.6ms\n",
      "Speed: 1.2ms preprocess, 12.6ms inference, 0.8ms postprocess per image at shape (1, 3, 256, 416)\n",
      "\n",
      "0: 256x416 1 gun, 12.1ms\n",
      "Speed: 1.2ms preprocess, 12.1ms inference, 1.9ms postprocess per image at shape (1, 3, 256, 416)\n",
      "Detected class: gun, Confidence: 0.31, Box: [49.18513107299805, 137.0752716064453, 281.9400939941406, 412.78228759765625]\n",
      "\n",
      "0: 256x416 1 gun, 10.6ms\n",
      "Speed: 1.4ms preprocess, 10.6ms inference, 2.0ms postprocess per image at shape (1, 3, 256, 416)\n",
      "Detected class: gun, Confidence: 0.49, Box: [38.77312469482422, 137.7206573486328, 277.0142822265625, 411.8387451171875]\n",
      "\n",
      "0: 256x416 1 gun, 12.0ms\n",
      "Speed: 1.2ms preprocess, 12.0ms inference, 2.0ms postprocess per image at shape (1, 3, 256, 416)\n",
      "Detected class: gun, Confidence: 0.59, Box: [5.925896167755127, 132.5453338623047, 271.26385498046875, 410.02008056640625]\n",
      "\n",
      "0: 256x416 1 gun, 12.1ms\n",
      "Speed: 1.2ms preprocess, 12.1ms inference, 1.6ms postprocess per image at shape (1, 3, 256, 416)\n",
      "Detected class: gun, Confidence: 0.45, Box: [55.01667022705078, 141.9029998779297, 255.75921630859375, 418.6998291015625]\n",
      "\n",
      "0: 256x416 (no detections), 11.7ms\n",
      "Speed: 1.1ms preprocess, 11.7ms inference, 0.7ms postprocess per image at shape (1, 3, 256, 416)\n",
      "\n",
      "0: 256x416 1 gun, 14.9ms\n",
      "Speed: 1.2ms preprocess, 14.9ms inference, 2.3ms postprocess per image at shape (1, 3, 256, 416)\n",
      "Detected class: gun, Confidence: 0.52, Box: [1.1364634037017822, 163.76080322265625, 230.44088745117188, 448.88238525390625]\n",
      "\n",
      "0: 256x416 1 gun, 12.2ms\n",
      "Speed: 1.4ms preprocess, 12.2ms inference, 2.2ms postprocess per image at shape (1, 3, 256, 416)\n",
      "Detected class: gun, Confidence: 0.38, Box: [13.757904052734375, 170.2986297607422, 234.77186584472656, 450.6900939941406]\n",
      "\n",
      "0: 256x416 (no detections), 14.1ms\n",
      "Speed: 1.2ms preprocess, 14.1ms inference, 0.7ms postprocess per image at shape (1, 3, 256, 416)\n",
      "\n",
      "0: 256x416 (no detections), 12.0ms\n",
      "Speed: 1.2ms preprocess, 12.0ms inference, 0.6ms postprocess per image at shape (1, 3, 256, 416)\n",
      "\n",
      "0: 256x416 (no detections), 13.2ms\n",
      "Speed: 1.1ms preprocess, 13.2ms inference, 0.6ms postprocess per image at shape (1, 3, 256, 416)\n",
      "\n",
      "0: 256x416 (no detections), 11.9ms\n",
      "Speed: 1.2ms preprocess, 11.9ms inference, 0.6ms postprocess per image at shape (1, 3, 256, 416)\n",
      "\n",
      "0: 256x416 (no detections), 10.7ms\n",
      "Speed: 1.1ms preprocess, 10.7ms inference, 0.6ms postprocess per image at shape (1, 3, 256, 416)\n",
      "\n",
      "0: 256x416 (no detections), 12.1ms\n",
      "Speed: 1.1ms preprocess, 12.1ms inference, 0.7ms postprocess per image at shape (1, 3, 256, 416)\n",
      "\n",
      "0: 256x416 (no detections), 13.7ms\n",
      "Speed: 1.1ms preprocess, 13.7ms inference, 0.6ms postprocess per image at shape (1, 3, 256, 416)\n",
      "\n",
      "0: 256x416 (no detections), 12.0ms\n",
      "Speed: 1.1ms preprocess, 12.0ms inference, 0.7ms postprocess per image at shape (1, 3, 256, 416)\n",
      "\n",
      "0: 256x416 1 gun, 10.7ms\n",
      "Speed: 1.1ms preprocess, 10.7ms inference, 1.7ms postprocess per image at shape (1, 3, 256, 416)\n",
      "Detected class: gun, Confidence: 0.37, Box: [2.750162363052368, 203.40866088867188, 281.04010009765625, 480.0]\n",
      "\n",
      "0: 256x416 1 gun, 11.7ms\n",
      "Speed: 1.1ms preprocess, 11.7ms inference, 1.7ms postprocess per image at shape (1, 3, 256, 416)\n",
      "Detected class: gun, Confidence: 0.30, Box: [25.034574508666992, 203.54226684570312, 283.24249267578125, 476.0459899902344]\n",
      "\n",
      "0: 256x416 (no detections), 11.7ms\n",
      "Speed: 1.4ms preprocess, 11.7ms inference, 0.9ms postprocess per image at shape (1, 3, 256, 416)\n",
      "\n",
      "0: 256x416 (no detections), 17.8ms\n",
      "Speed: 1.1ms preprocess, 17.8ms inference, 1.4ms postprocess per image at shape (1, 3, 256, 416)\n",
      "\n",
      "0: 256x416 (no detections), 18.0ms\n",
      "Speed: 2.3ms preprocess, 18.0ms inference, 0.8ms postprocess per image at shape (1, 3, 256, 416)\n",
      "\n",
      "0: 256x416 (no detections), 17.3ms\n",
      "Speed: 1.4ms preprocess, 17.3ms inference, 0.8ms postprocess per image at shape (1, 3, 256, 416)\n",
      "\n",
      "0: 256x416 (no detections), 10.5ms\n",
      "Speed: 1.1ms preprocess, 10.5ms inference, 1.0ms postprocess per image at shape (1, 3, 256, 416)\n",
      "\n",
      "0: 256x416 (no detections), 11.1ms\n",
      "Speed: 1.0ms preprocess, 11.1ms inference, 0.9ms postprocess per image at shape (1, 3, 256, 416)\n",
      "\n",
      "0: 256x416 (no detections), 12.2ms\n",
      "Speed: 1.1ms preprocess, 12.2ms inference, 0.6ms postprocess per image at shape (1, 3, 256, 416)\n",
      "\n",
      "0: 256x416 (no detections), 11.9ms\n",
      "Speed: 1.1ms preprocess, 11.9ms inference, 0.6ms postprocess per image at shape (1, 3, 256, 416)\n",
      "\n",
      "0: 256x416 (no detections), 12.2ms\n",
      "Speed: 1.1ms preprocess, 12.2ms inference, 0.6ms postprocess per image at shape (1, 3, 256, 416)\n",
      "\n",
      "0: 256x416 (no detections), 12.0ms\n",
      "Speed: 1.1ms preprocess, 12.0ms inference, 1.4ms postprocess per image at shape (1, 3, 256, 416)\n",
      "\n",
      "0: 256x416 (no detections), 12.7ms\n",
      "Speed: 1.1ms preprocess, 12.7ms inference, 0.6ms postprocess per image at shape (1, 3, 256, 416)\n",
      "\n",
      "0: 256x416 (no detections), 12.7ms\n",
      "Speed: 1.1ms preprocess, 12.7ms inference, 0.6ms postprocess per image at shape (1, 3, 256, 416)\n",
      "\n",
      "0: 256x416 (no detections), 11.8ms\n",
      "Speed: 1.5ms preprocess, 11.8ms inference, 0.8ms postprocess per image at shape (1, 3, 256, 416)\n",
      "\n",
      "0: 256x416 (no detections), 14.4ms\n",
      "Speed: 1.3ms preprocess, 14.4ms inference, 0.8ms postprocess per image at shape (1, 3, 256, 416)\n",
      "\n",
      "0: 256x416 (no detections), 12.5ms\n",
      "Speed: 1.7ms preprocess, 12.5ms inference, 0.9ms postprocess per image at shape (1, 3, 256, 416)\n",
      "\n",
      "0: 256x416 (no detections), 11.7ms\n",
      "Speed: 1.1ms preprocess, 11.7ms inference, 0.5ms postprocess per image at shape (1, 3, 256, 416)\n",
      "\n",
      "0: 256x416 (no detections), 10.4ms\n",
      "Speed: 1.0ms preprocess, 10.4ms inference, 1.2ms postprocess per image at shape (1, 3, 256, 416)\n",
      "\n",
      "0: 256x416 (no detections), 11.2ms\n",
      "Speed: 1.0ms preprocess, 11.2ms inference, 0.7ms postprocess per image at shape (1, 3, 256, 416)\n",
      "\n",
      "0: 256x416 (no detections), 11.9ms\n",
      "Speed: 1.1ms preprocess, 11.9ms inference, 0.6ms postprocess per image at shape (1, 3, 256, 416)\n",
      "\n",
      "0: 256x416 (no detections), 11.5ms\n",
      "Speed: 1.0ms preprocess, 11.5ms inference, 0.6ms postprocess per image at shape (1, 3, 256, 416)\n",
      "\n",
      "0: 256x416 (no detections), 10.7ms\n",
      "Speed: 1.5ms preprocess, 10.7ms inference, 0.6ms postprocess per image at shape (1, 3, 256, 416)\n",
      "\n",
      "0: 256x416 (no detections), 11.6ms\n",
      "Speed: 1.1ms preprocess, 11.6ms inference, 0.6ms postprocess per image at shape (1, 3, 256, 416)\n",
      "\n",
      "0: 256x416 (no detections), 11.0ms\n",
      "Speed: 1.3ms preprocess, 11.0ms inference, 1.1ms postprocess per image at shape (1, 3, 256, 416)\n",
      "\n",
      "0: 256x416 (no detections), 10.6ms\n",
      "Speed: 1.1ms preprocess, 10.6ms inference, 1.0ms postprocess per image at shape (1, 3, 256, 416)\n",
      "\n",
      "0: 256x416 (no detections), 12.6ms\n",
      "Speed: 1.1ms preprocess, 12.6ms inference, 0.7ms postprocess per image at shape (1, 3, 256, 416)\n",
      "\n",
      "0: 256x416 (no detections), 11.7ms\n",
      "Speed: 2.1ms preprocess, 11.7ms inference, 1.3ms postprocess per image at shape (1, 3, 256, 416)\n",
      "\n",
      "0: 256x416 (no detections), 12.6ms\n",
      "Speed: 1.8ms preprocess, 12.6ms inference, 1.7ms postprocess per image at shape (1, 3, 256, 416)\n",
      "\n",
      "0: 256x416 (no detections), 9.9ms\n",
      "Speed: 1.1ms preprocess, 9.9ms inference, 1.0ms postprocess per image at shape (1, 3, 256, 416)\n",
      "\n",
      "0: 256x416 (no detections), 12.7ms\n",
      "Speed: 1.1ms preprocess, 12.7ms inference, 0.6ms postprocess per image at shape (1, 3, 256, 416)\n",
      "\n",
      "0: 256x416 (no detections), 12.1ms\n",
      "Speed: 1.1ms preprocess, 12.1ms inference, 0.7ms postprocess per image at shape (1, 3, 256, 416)\n",
      "\n",
      "0: 256x416 (no detections), 11.8ms\n",
      "Speed: 1.1ms preprocess, 11.8ms inference, 0.7ms postprocess per image at shape (1, 3, 256, 416)\n",
      "\n",
      "0: 256x416 (no detections), 10.5ms\n",
      "Speed: 1.2ms preprocess, 10.5ms inference, 0.6ms postprocess per image at shape (1, 3, 256, 416)\n",
      "\n",
      "0: 256x416 (no detections), 10.7ms\n",
      "Speed: 1.2ms preprocess, 10.7ms inference, 0.6ms postprocess per image at shape (1, 3, 256, 416)\n",
      "\n",
      "0: 256x416 (no detections), 11.9ms\n",
      "Speed: 1.2ms preprocess, 11.9ms inference, 0.6ms postprocess per image at shape (1, 3, 256, 416)\n",
      "\n",
      "0: 256x416 (no detections), 11.7ms\n",
      "Speed: 1.1ms preprocess, 11.7ms inference, 0.7ms postprocess per image at shape (1, 3, 256, 416)\n",
      "\n",
      "0: 256x416 (no detections), 9.2ms\n",
      "Speed: 1.3ms preprocess, 9.2ms inference, 0.6ms postprocess per image at shape (1, 3, 256, 416)\n",
      "\n",
      "0: 256x416 (no detections), 10.4ms\n",
      "Speed: 2.2ms preprocess, 10.4ms inference, 0.6ms postprocess per image at shape (1, 3, 256, 416)\n",
      "\n",
      "0: 256x416 (no detections), 11.0ms\n",
      "Speed: 1.2ms preprocess, 11.0ms inference, 0.6ms postprocess per image at shape (1, 3, 256, 416)\n",
      "\n",
      "0: 256x416 (no detections), 10.2ms\n",
      "Speed: 1.2ms preprocess, 10.2ms inference, 0.9ms postprocess per image at shape (1, 3, 256, 416)\n",
      "\n",
      "0: 256x416 (no detections), 10.6ms\n",
      "Speed: 1.1ms preprocess, 10.6ms inference, 0.9ms postprocess per image at shape (1, 3, 256, 416)\n",
      "\n",
      "0: 256x416 (no detections), 11.5ms\n",
      "Speed: 1.1ms preprocess, 11.5ms inference, 0.6ms postprocess per image at shape (1, 3, 256, 416)\n",
      "\n",
      "0: 256x416 (no detections), 11.5ms\n",
      "Speed: 2.0ms preprocess, 11.5ms inference, 0.8ms postprocess per image at shape (1, 3, 256, 416)\n",
      "\n",
      "0: 256x416 (no detections), 11.7ms\n",
      "Speed: 1.7ms preprocess, 11.7ms inference, 1.1ms postprocess per image at shape (1, 3, 256, 416)\n",
      "\n",
      "0: 256x416 (no detections), 11.9ms\n",
      "Speed: 1.1ms preprocess, 11.9ms inference, 0.6ms postprocess per image at shape (1, 3, 256, 416)\n",
      "\n",
      "0: 256x416 (no detections), 11.4ms\n",
      "Speed: 1.1ms preprocess, 11.4ms inference, 0.6ms postprocess per image at shape (1, 3, 256, 416)\n",
      "\n",
      "0: 256x416 (no detections), 11.3ms\n",
      "Speed: 1.1ms preprocess, 11.3ms inference, 0.6ms postprocess per image at shape (1, 3, 256, 416)\n",
      "\n",
      "0: 256x416 (no detections), 10.6ms\n",
      "Speed: 1.2ms preprocess, 10.6ms inference, 0.6ms postprocess per image at shape (1, 3, 256, 416)\n",
      "\n",
      "0: 256x416 (no detections), 12.4ms\n",
      "Speed: 1.7ms preprocess, 12.4ms inference, 0.7ms postprocess per image at shape (1, 3, 256, 416)\n",
      "\n",
      "0: 256x416 (no detections), 9.4ms\n",
      "Speed: 1.1ms preprocess, 9.4ms inference, 1.1ms postprocess per image at shape (1, 3, 256, 416)\n",
      "\n",
      "0: 256x416 (no detections), 10.5ms\n",
      "Speed: 1.1ms preprocess, 10.5ms inference, 1.2ms postprocess per image at shape (1, 3, 256, 416)\n",
      "\n",
      "0: 256x416 (no detections), 11.0ms\n",
      "Speed: 1.3ms preprocess, 11.0ms inference, 0.7ms postprocess per image at shape (1, 3, 256, 416)\n",
      "\n",
      "0: 256x416 (no detections), 11.2ms\n",
      "Speed: 1.1ms preprocess, 11.2ms inference, 1.1ms postprocess per image at shape (1, 3, 256, 416)\n",
      "\n",
      "0: 256x416 (no detections), 12.0ms\n",
      "Speed: 1.1ms preprocess, 12.0ms inference, 0.9ms postprocess per image at shape (1, 3, 256, 416)\n",
      "\n",
      "0: 256x416 (no detections), 12.2ms\n",
      "Speed: 1.2ms preprocess, 12.2ms inference, 0.8ms postprocess per image at shape (1, 3, 256, 416)\n",
      "\n",
      "0: 256x416 (no detections), 12.8ms\n",
      "Speed: 1.7ms preprocess, 12.8ms inference, 1.0ms postprocess per image at shape (1, 3, 256, 416)\n",
      "\n",
      "0: 256x416 (no detections), 12.1ms\n",
      "Speed: 1.4ms preprocess, 12.1ms inference, 0.6ms postprocess per image at shape (1, 3, 256, 416)\n",
      "\n",
      "0: 256x416 (no detections), 12.4ms\n",
      "Speed: 2.3ms preprocess, 12.4ms inference, 1.0ms postprocess per image at shape (1, 3, 256, 416)\n",
      "\n",
      "0: 256x416 (no detections), 12.1ms\n",
      "Speed: 1.1ms preprocess, 12.1ms inference, 0.7ms postprocess per image at shape (1, 3, 256, 416)\n",
      "\n",
      "0: 256x416 (no detections), 13.8ms\n",
      "Speed: 1.0ms preprocess, 13.8ms inference, 0.7ms postprocess per image at shape (1, 3, 256, 416)\n",
      "\n",
      "0: 256x416 (no detections), 12.5ms\n",
      "Speed: 1.2ms preprocess, 12.5ms inference, 0.7ms postprocess per image at shape (1, 3, 256, 416)\n",
      "\n",
      "0: 256x416 (no detections), 11.4ms\n",
      "Speed: 1.0ms preprocess, 11.4ms inference, 0.8ms postprocess per image at shape (1, 3, 256, 416)\n",
      "\n",
      "0: 256x416 (no detections), 12.2ms\n",
      "Speed: 1.1ms preprocess, 12.2ms inference, 0.7ms postprocess per image at shape (1, 3, 256, 416)\n",
      "\n",
      "0: 256x416 (no detections), 11.4ms\n",
      "Speed: 1.2ms preprocess, 11.4ms inference, 0.7ms postprocess per image at shape (1, 3, 256, 416)\n",
      "\n",
      "0: 256x416 (no detections), 11.9ms\n",
      "Speed: 1.2ms preprocess, 11.9ms inference, 0.8ms postprocess per image at shape (1, 3, 256, 416)\n",
      "\n",
      "0: 256x416 (no detections), 11.2ms\n",
      "Speed: 1.9ms preprocess, 11.2ms inference, 0.6ms postprocess per image at shape (1, 3, 256, 416)\n",
      "\n",
      "0: 256x416 (no detections), 11.8ms\n",
      "Speed: 1.2ms preprocess, 11.8ms inference, 0.7ms postprocess per image at shape (1, 3, 256, 416)\n",
      "\n",
      "0: 256x416 (no detections), 12.3ms\n",
      "Speed: 1.2ms preprocess, 12.3ms inference, 0.8ms postprocess per image at shape (1, 3, 256, 416)\n",
      "\n",
      "0: 256x416 (no detections), 12.1ms\n",
      "Speed: 1.1ms preprocess, 12.1ms inference, 0.6ms postprocess per image at shape (1, 3, 256, 416)\n",
      "\n",
      "0: 256x416 (no detections), 9.6ms\n",
      "Speed: 2.2ms preprocess, 9.6ms inference, 0.6ms postprocess per image at shape (1, 3, 256, 416)\n",
      "\n",
      "0: 256x416 (no detections), 10.6ms\n",
      "Speed: 1.9ms preprocess, 10.6ms inference, 0.6ms postprocess per image at shape (1, 3, 256, 416)\n",
      "\n",
      "0: 256x416 (no detections), 11.2ms\n",
      "Speed: 2.0ms preprocess, 11.2ms inference, 0.6ms postprocess per image at shape (1, 3, 256, 416)\n",
      "\n",
      "0: 256x416 (no detections), 11.6ms\n",
      "Speed: 1.1ms preprocess, 11.6ms inference, 0.6ms postprocess per image at shape (1, 3, 256, 416)\n",
      "\n",
      "0: 256x416 (no detections), 10.1ms\n",
      "Speed: 1.2ms preprocess, 10.1ms inference, 0.6ms postprocess per image at shape (1, 3, 256, 416)\n",
      "\n",
      "0: 256x416 (no detections), 10.4ms\n",
      "Speed: 1.3ms preprocess, 10.4ms inference, 0.6ms postprocess per image at shape (1, 3, 256, 416)\n",
      "\n",
      "0: 256x416 (no detections), 10.3ms\n",
      "Speed: 1.1ms preprocess, 10.3ms inference, 0.9ms postprocess per image at shape (1, 3, 256, 416)\n",
      "\n",
      "0: 256x416 (no detections), 10.3ms\n",
      "Speed: 1.1ms preprocess, 10.3ms inference, 0.9ms postprocess per image at shape (1, 3, 256, 416)\n"
     ]
    }
   ],
   "source": [
    "# test for  vedio \n",
    "from ultralytics import YOLO\n",
    "import cv2\n",
    "\n",
    "# Load trained model\n",
    "model = YOLO(r'C:\\Users\\dsy92\\OneDrive\\Desktop\\Weapon-Detection\\model\\version3.pt')\n",
    "\n",
    "# Load video\n",
    "cap = cv2.VideoCapture(r'vt2.mp4')\n",
    "\n",
    "# Check if video opened successfully\n",
    "if not cap.isOpened():\n",
    "    print(\"Error: Could not open video.\")\n",
    "    exit()\n",
    "\n",
    "while True:\n",
    "    ret, frame = cap.read()\n",
    "    if not ret:\n",
    "        break\n",
    "\n",
    "    # Run inference on the frame\n",
    "    results = model(frame)\n",
    "\n",
    "    # Visualize results\n",
    "    annotated_frame = results[0].plot()\n",
    "\n",
    "    # Print detection info (bounding boxes and class names)\n",
    "    for box in results[0].boxes:\n",
    "        cls = int(box.cls[0])\n",
    "        conf = float(box.conf[0])\n",
    "        xyxy = box.xyxy[0].tolist()\n",
    "        print(f\"Detected class: {model.names[cls]}, Confidence: {conf:.2f}, Box: {xyxy}\")\n",
    "\n",
    "        # Optionally draw alert if weapon found\n",
    "        label = model.names[cls]\n",
    "        if label.lower() == \"weapon\":  # Replace 'weapon' with your actual class name if needed\n",
    "            cv2.putText(annotated_frame, 'WEAPON DETECTED!', (30, 30),\n",
    "                        cv2.FONT_HERSHEY_SIMPLEX, 1, (0, 0, 255), 3)\n",
    "\n",
    "    # Display the frame\n",
    "    cv2.imshow(\"Weapon Detection\", annotated_frame)\n",
    "\n",
    "    # Exit on ESC key\n",
    "    if cv2.waitKey(1) & 0xFF == 27:\n",
    "        break\n",
    "\n",
    "cap.release()\n",
    "cv2.destroyAllWindows()\n",
    "\n"
   ]
  },
  {
   "cell_type": "code",
   "execution_count": 27,
   "id": "085c330b",
   "metadata": {},
   "outputs": [
    {
     "name": "stdout",
     "output_type": "stream",
     "text": [
      "\n",
      "image 1/1 c:\\Users\\dsy92\\OneDrive\\Desktop\\Weapon-Detection\\models\\t2.jpg: 416x416 1 gun, 10.7ms\n",
      "Speed: 1.4ms preprocess, 10.7ms inference, 1.5ms postprocess per image at shape (1, 3, 416, 416)\n"
     ]
    },
    {
     "data": {
      "text/plain": [
       "'result.jpg'"
      ]
     },
     "execution_count": 27,
     "metadata": {},
     "output_type": "execute_result"
    }
   ],
   "source": [
    "from ultralytics import YOLO\n",
    "\n",
    "# Load the trained model\n",
    "model = YOLO(r'C:\\Users\\dsy92\\OneDrive\\Desktop\\Weapon-Detection\\model\\version3.pt')\n",
    "\n",
    "# Run inference on an image\n",
    "results = model('t2.jpg')  # Replace with your test image path\n",
    "\n",
    "# Or run inference on a folder of images\n",
    "# results = model('path/to/folder/')\n",
    "\n",
    "# Show predictions\n",
    "results[0].show()  # Visualize with bounding boxes\n",
    "\n",
    "# Optional: save results\n",
    "results[0].save(filename='result.jpg')  # Saves annotated image\n"
   ]
  },
  {
   "cell_type": "code",
   "execution_count": 23,
   "id": "d6709dbc",
   "metadata": {},
   "outputs": [
    {
     "name": "stdout",
     "output_type": "stream",
     "text": [
      "Ultralytics 8.3.99  Python-3.12.9 torch-2.5.1+cu121 CUDA:0 (NVIDIA GeForce RTX 3050 Laptop GPU, 4096MiB)\n"
     ]
    },
    {
     "name": "stderr",
     "output_type": "stream",
     "text": [
      "\u001b[34m\u001b[1mval: \u001b[0mScanning C:\\Users\\dsy92\\OneDrive\\Desktop\\Weapon-Detection\\enhance_image\\valid\\labels.cache... 1994 images, 0 backgrounds, 99 corrupt: 100%|██████████| 1994/1994 [00:00<?, ?it/s]"
     ]
    },
    {
     "name": "stdout",
     "output_type": "stream",
     "text": [
      "\u001b[34m\u001b[1mval: \u001b[0mWARNING  C:\\Users\\dsy92\\OneDrive\\Desktop\\Weapon-Detection\\enhance_image\\valid\\images\\Automatic-Rifle_14_jpeg.rf.d1b052df545821703eb696283d0aeda1.jpg: ignoring corrupt image/label: Label class 1 exceeds dataset class count 1. Possible class labels are 0-0\n",
      "\u001b[34m\u001b[1mval: \u001b[0mWARNING  C:\\Users\\dsy92\\OneDrive\\Desktop\\Weapon-Detection\\enhance_image\\valid\\images\\Automatic-Rifle_17_jpeg.rf.5e3c19e03c7ce71cc125f0f8da9733a8.jpg: ignoring corrupt image/label: Label class 1 exceeds dataset class count 1. Possible class labels are 0-0\n",
      "\u001b[34m\u001b[1mval: \u001b[0mWARNING  C:\\Users\\dsy92\\OneDrive\\Desktop\\Weapon-Detection\\enhance_image\\valid\\images\\Automatic-Rifle_19_jpeg.rf.f921a5163c595ced0f9042a214c2ba60.jpg: ignoring corrupt image/label: Label class 1 exceeds dataset class count 1. Possible class labels are 0-0\n",
      "\u001b[34m\u001b[1mval: \u001b[0mWARNING  C:\\Users\\dsy92\\OneDrive\\Desktop\\Weapon-Detection\\enhance_image\\valid\\images\\Automatic-Rifle_44_jpeg.rf.9698c0a0303dbfbf97165e24c5c6b068.jpg: ignoring corrupt image/label: Label class 1 exceeds dataset class count 1. Possible class labels are 0-0\n",
      "\u001b[34m\u001b[1mval: \u001b[0mWARNING  C:\\Users\\dsy92\\OneDrive\\Desktop\\Weapon-Detection\\enhance_image\\valid\\images\\Automatic-Rifle_48_png.rf.a0b3894f4f86f1b3b34767146fc2a466.jpg: ignoring corrupt image/label: Label class 1 exceeds dataset class count 1. Possible class labels are 0-0\n",
      "\u001b[34m\u001b[1mval: \u001b[0mWARNING  C:\\Users\\dsy92\\OneDrive\\Desktop\\Weapon-Detection\\enhance_image\\valid\\images\\Automatic-Rifle_51_jpeg.rf.b283ae5fa659eb9f7a2de4d9f2610c84.jpg: ignoring corrupt image/label: Label class 1 exceeds dataset class count 1. Possible class labels are 0-0\n",
      "\u001b[34m\u001b[1mval: \u001b[0mWARNING  C:\\Users\\dsy92\\OneDrive\\Desktop\\Weapon-Detection\\enhance_image\\valid\\images\\Bazooka_10_png.rf.6c07a43bd134a7f316b0a2f7bec400d4.jpg: ignoring corrupt image/label: Label class 2 exceeds dataset class count 1. Possible class labels are 0-0\n",
      "\u001b[34m\u001b[1mval: \u001b[0mWARNING  C:\\Users\\dsy92\\OneDrive\\Desktop\\Weapon-Detection\\enhance_image\\valid\\images\\Bazooka_12_jpeg.rf.aa5a0014a670f4913374a9fb2cf1c8d9.jpg: ignoring corrupt image/label: Label class 2 exceeds dataset class count 1. Possible class labels are 0-0\n",
      "\u001b[34m\u001b[1mval: \u001b[0mWARNING  C:\\Users\\dsy92\\OneDrive\\Desktop\\Weapon-Detection\\enhance_image\\valid\\images\\Bazooka_19_jpeg.rf.d5b8757467969249ceb89c5afda9c005.jpg: ignoring corrupt image/label: Label class 2 exceeds dataset class count 1. Possible class labels are 0-0\n",
      "\u001b[34m\u001b[1mval: \u001b[0mWARNING  C:\\Users\\dsy92\\OneDrive\\Desktop\\Weapon-Detection\\enhance_image\\valid\\images\\Bazooka_30_jpeg.rf.7f9dc762f1cdbe4133d9b2afa2190bcf.jpg: ignoring corrupt image/label: Label class 2 exceeds dataset class count 1. Possible class labels are 0-0\n",
      "\u001b[34m\u001b[1mval: \u001b[0mWARNING  C:\\Users\\dsy92\\OneDrive\\Desktop\\Weapon-Detection\\enhance_image\\valid\\images\\Bazooka_33_jpeg.rf.5cc04b3aa0e1c84b28a38f650697b353.jpg: ignoring corrupt image/label: Label class 2 exceeds dataset class count 1. Possible class labels are 0-0\n",
      "\u001b[34m\u001b[1mval: \u001b[0mWARNING  C:\\Users\\dsy92\\OneDrive\\Desktop\\Weapon-Detection\\enhance_image\\valid\\images\\Bazooka_39_jpeg.rf.7220aa166480679cb5447e4f143e328d.jpg: ignoring corrupt image/label: Label class 2 exceeds dataset class count 1. Possible class labels are 0-0\n",
      "\u001b[34m\u001b[1mval: \u001b[0mWARNING  C:\\Users\\dsy92\\OneDrive\\Desktop\\Weapon-Detection\\enhance_image\\valid\\images\\Bazooka_50_png.rf.cb00741a758b1aa31f693b8cc0c2d58c.jpg: ignoring corrupt image/label: Label class 2 exceeds dataset class count 1. Possible class labels are 0-0\n",
      "\u001b[34m\u001b[1mval: \u001b[0mWARNING  C:\\Users\\dsy92\\OneDrive\\Desktop\\Weapon-Detection\\enhance_image\\valid\\images\\Bazooka_59_jpeg.rf.6f6b4c3f5dc44bed68136ab3873415ec.jpg: ignoring corrupt image/label: Label class 2 exceeds dataset class count 1. Possible class labels are 0-0\n",
      "\u001b[34m\u001b[1mval: \u001b[0mWARNING  C:\\Users\\dsy92\\OneDrive\\Desktop\\Weapon-Detection\\enhance_image\\valid\\images\\Bazooka_6_jpeg.rf.6aac66a4dd47a200a1ef487f1f1b4674.jpg: ignoring corrupt image/label: Label class 2 exceeds dataset class count 1. Possible class labels are 0-0\n",
      "\u001b[34m\u001b[1mval: \u001b[0mWARNING  C:\\Users\\dsy92\\OneDrive\\Desktop\\Weapon-Detection\\enhance_image\\valid\\images\\Bazooka_76_png.rf.0ff8e59108f2e047c883d37c58923bfb.jpg: ignoring corrupt image/label: Label class 2 exceeds dataset class count 1. Possible class labels are 0-0\n",
      "\u001b[34m\u001b[1mval: \u001b[0mWARNING  C:\\Users\\dsy92\\OneDrive\\Desktop\\Weapon-Detection\\enhance_image\\valid\\images\\Bazooka_86_jpeg.rf.950fba708fcf6b9d8c6635b539658b9b.jpg: ignoring corrupt image/label: Label class 2 exceeds dataset class count 1. Possible class labels are 0-0\n",
      "\u001b[34m\u001b[1mval: \u001b[0mWARNING  C:\\Users\\dsy92\\OneDrive\\Desktop\\Weapon-Detection\\enhance_image\\valid\\images\\Bazooka_87_jpeg.rf.f26436fb124e52274618b5d4776920cb.jpg: ignoring corrupt image/label: Label class 2 exceeds dataset class count 1. Possible class labels are 0-0\n",
      "\u001b[34m\u001b[1mval: \u001b[0mWARNING  C:\\Users\\dsy92\\OneDrive\\Desktop\\Weapon-Detection\\enhance_image\\valid\\images\\Grenade-Launcher_11_jpeg.rf.61abcdd6664129bef77a9842019e75d7.jpg: ignoring corrupt image/label: Label class 3 exceeds dataset class count 1. Possible class labels are 0-0\n",
      "\u001b[34m\u001b[1mval: \u001b[0mWARNING  C:\\Users\\dsy92\\OneDrive\\Desktop\\Weapon-Detection\\enhance_image\\valid\\images\\Grenade-Launcher_16_jpeg.rf.cd98cee7c369e03c4a6d980e1cbb0005.jpg: ignoring corrupt image/label: Label class 3 exceeds dataset class count 1. Possible class labels are 0-0\n",
      "\u001b[34m\u001b[1mval: \u001b[0mWARNING  C:\\Users\\dsy92\\OneDrive\\Desktop\\Weapon-Detection\\enhance_image\\valid\\images\\Grenade-Launcher_30_jpeg.rf.aa03863ba8c804bde4f5099b5c4d728c.jpg: ignoring corrupt image/label: Label class 3 exceeds dataset class count 1. Possible class labels are 0-0\n",
      "\u001b[34m\u001b[1mval: \u001b[0mWARNING  C:\\Users\\dsy92\\OneDrive\\Desktop\\Weapon-Detection\\enhance_image\\valid\\images\\Grenade-Launcher_34_jpeg.rf.b73d32e978c7fae4ee7f5033cd72db7b.jpg: ignoring corrupt image/label: Label class 3 exceeds dataset class count 1. Possible class labels are 0-0\n",
      "\u001b[34m\u001b[1mval: \u001b[0mWARNING  C:\\Users\\dsy92\\OneDrive\\Desktop\\Weapon-Detection\\enhance_image\\valid\\images\\Grenade-Launcher_36_jpeg.rf.1710c97fc8f9e9c03b02a6ae44ea45f7.jpg: ignoring corrupt image/label: Label class 3 exceeds dataset class count 1. Possible class labels are 0-0\n",
      "\u001b[34m\u001b[1mval: \u001b[0mWARNING  C:\\Users\\dsy92\\OneDrive\\Desktop\\Weapon-Detection\\enhance_image\\valid\\images\\Grenade-Launcher_48_jpeg.rf.851b68dec26909f59b5979157edc6d42.jpg: ignoring corrupt image/label: Label class 3 exceeds dataset class count 1. Possible class labels are 0-0\n",
      "\u001b[34m\u001b[1mval: \u001b[0mWARNING  C:\\Users\\dsy92\\OneDrive\\Desktop\\Weapon-Detection\\enhance_image\\valid\\images\\Grenade-Launcher_50_jpeg.rf.053548e4db52c25dc5a420fb4eec6cb7.jpg: ignoring corrupt image/label: Label class 3 exceeds dataset class count 1. Possible class labels are 0-0\n",
      "\u001b[34m\u001b[1mval: \u001b[0mWARNING  C:\\Users\\dsy92\\OneDrive\\Desktop\\Weapon-Detection\\enhance_image\\valid\\images\\Grenade-Launcher_5_png.rf.1442905e51cf0ef6b4d5247e437f78bc.jpg: ignoring corrupt image/label: Label class 1 exceeds dataset class count 1. Possible class labels are 0-0\n",
      "\u001b[34m\u001b[1mval: \u001b[0mWARNING  C:\\Users\\dsy92\\OneDrive\\Desktop\\Weapon-Detection\\enhance_image\\valid\\images\\Grenade-Launcher_85_jpeg.rf.23bb34bc70e4d737268febd00c4edd4a.jpg: ignoring corrupt image/label: Label class 3 exceeds dataset class count 1. Possible class labels are 0-0\n",
      "\u001b[34m\u001b[1mval: \u001b[0mWARNING  C:\\Users\\dsy92\\OneDrive\\Desktop\\Weapon-Detection\\enhance_image\\valid\\images\\Handgun_11_jpeg.rf.8ececa00471c0ef768405f314abd8cac.jpg: ignoring corrupt image/label: Label class 4 exceeds dataset class count 1. Possible class labels are 0-0\n",
      "\u001b[34m\u001b[1mval: \u001b[0mWARNING  C:\\Users\\dsy92\\OneDrive\\Desktop\\Weapon-Detection\\enhance_image\\valid\\images\\Handgun_12_jpeg.rf.9068c3ab2fcfdb06ac077b7c41c33d3f.jpg: ignoring corrupt image/label: Label class 4 exceeds dataset class count 1. Possible class labels are 0-0\n",
      "\u001b[34m\u001b[1mval: \u001b[0mWARNING  C:\\Users\\dsy92\\OneDrive\\Desktop\\Weapon-Detection\\enhance_image\\valid\\images\\Handgun_14_jpeg.rf.4f751b44f3f7cdf2cf724981a7f60f10.jpg: ignoring corrupt image/label: Label class 4 exceeds dataset class count 1. Possible class labels are 0-0\n",
      "\u001b[34m\u001b[1mval: \u001b[0mWARNING  C:\\Users\\dsy92\\OneDrive\\Desktop\\Weapon-Detection\\enhance_image\\valid\\images\\Handgun_19_jpeg.rf.c7c4b2e6c5180ab03fd2ab241337fc83.jpg: ignoring corrupt image/label: Label class 4 exceeds dataset class count 1. Possible class labels are 0-0\n",
      "\u001b[34m\u001b[1mval: \u001b[0mWARNING  C:\\Users\\dsy92\\OneDrive\\Desktop\\Weapon-Detection\\enhance_image\\valid\\images\\Handgun_22_jpeg.rf.d5fb79585840d74ea6b2aac3c93e0694.jpg: ignoring corrupt image/label: Label class 1 exceeds dataset class count 1. Possible class labels are 0-0\n",
      "\u001b[34m\u001b[1mval: \u001b[0mWARNING  C:\\Users\\dsy92\\OneDrive\\Desktop\\Weapon-Detection\\enhance_image\\valid\\images\\Handgun_29_jpeg.rf.439c9bf812c21975a67f189d23730963.jpg: ignoring corrupt image/label: Label class 4 exceeds dataset class count 1. Possible class labels are 0-0\n",
      "\u001b[34m\u001b[1mval: \u001b[0mWARNING  C:\\Users\\dsy92\\OneDrive\\Desktop\\Weapon-Detection\\enhance_image\\valid\\images\\Handgun_30_jpeg.rf.921b9e04e718ec76eca73562e4fbfb98.jpg: ignoring corrupt image/label: Label class 4 exceeds dataset class count 1. Possible class labels are 0-0\n",
      "\u001b[34m\u001b[1mval: \u001b[0mWARNING  C:\\Users\\dsy92\\OneDrive\\Desktop\\Weapon-Detection\\enhance_image\\valid\\images\\Handgun_41_jpeg.rf.48d043d785b8563c35efd5196bbad5ef.jpg: ignoring corrupt image/label: Label class 4 exceeds dataset class count 1. Possible class labels are 0-0\n",
      "\u001b[34m\u001b[1mval: \u001b[0mWARNING  C:\\Users\\dsy92\\OneDrive\\Desktop\\Weapon-Detection\\enhance_image\\valid\\images\\Handgun_45_jpeg.rf.9c43610fe54d3c503c4371539162c401.jpg: ignoring corrupt image/label: Label class 4 exceeds dataset class count 1. Possible class labels are 0-0\n",
      "\u001b[34m\u001b[1mval: \u001b[0mWARNING  C:\\Users\\dsy92\\OneDrive\\Desktop\\Weapon-Detection\\enhance_image\\valid\\images\\Knife_14_jpeg.rf.293dfedf37deff6835484d15514eee5f.jpg: ignoring corrupt image/label: Label class 5 exceeds dataset class count 1. Possible class labels are 0-0\n",
      "\u001b[34m\u001b[1mval: \u001b[0mWARNING  C:\\Users\\dsy92\\OneDrive\\Desktop\\Weapon-Detection\\enhance_image\\valid\\images\\Knife_15_jpeg.rf.e25e5906b10adaa6b6542fbbbfb08347.jpg: ignoring corrupt image/label: Label class 5 exceeds dataset class count 1. Possible class labels are 0-0\n",
      "\u001b[34m\u001b[1mval: \u001b[0mWARNING  C:\\Users\\dsy92\\OneDrive\\Desktop\\Weapon-Detection\\enhance_image\\valid\\images\\Knife_30_jpeg.rf.b5f641c049b8360c92ba94a19f51d3f5.jpg: ignoring corrupt image/label: Label class 5 exceeds dataset class count 1. Possible class labels are 0-0\n",
      "\u001b[34m\u001b[1mval: \u001b[0mWARNING  C:\\Users\\dsy92\\OneDrive\\Desktop\\Weapon-Detection\\enhance_image\\valid\\images\\Knife_44_jpeg.rf.12dc4a721242ab32458b184219eb5abf.jpg: ignoring corrupt image/label: Label class 5 exceeds dataset class count 1. Possible class labels are 0-0\n",
      "\u001b[34m\u001b[1mval: \u001b[0mWARNING  C:\\Users\\dsy92\\OneDrive\\Desktop\\Weapon-Detection\\enhance_image\\valid\\images\\Knife_51_jpeg.rf.4c3a3984641e1eaf1670b2ba93591747.jpg: ignoring corrupt image/label: Label class 5 exceeds dataset class count 1. Possible class labels are 0-0\n",
      "\u001b[34m\u001b[1mval: \u001b[0mWARNING  C:\\Users\\dsy92\\OneDrive\\Desktop\\Weapon-Detection\\enhance_image\\valid\\images\\Knife_52_jpeg.rf.6e7627f1a722e4d410176fec43d9945e.jpg: ignoring corrupt image/label: Label class 5 exceeds dataset class count 1. Possible class labels are 0-0\n",
      "\u001b[34m\u001b[1mval: \u001b[0mWARNING  C:\\Users\\dsy92\\OneDrive\\Desktop\\Weapon-Detection\\enhance_image\\valid\\images\\Knife_56_png.rf.07c3a473fb56ea0f704411a417e53379.jpg: ignoring corrupt image/label: Label class 5 exceeds dataset class count 1. Possible class labels are 0-0\n",
      "\u001b[34m\u001b[1mval: \u001b[0mWARNING  C:\\Users\\dsy92\\OneDrive\\Desktop\\Weapon-Detection\\enhance_image\\valid\\images\\Knife_5_jpeg.rf.a1344eed2749eee891e89c44cdf159a9.jpg: ignoring corrupt image/label: Label class 5 exceeds dataset class count 1. Possible class labels are 0-0\n",
      "\u001b[34m\u001b[1mval: \u001b[0mWARNING  C:\\Users\\dsy92\\OneDrive\\Desktop\\Weapon-Detection\\enhance_image\\valid\\images\\Knife_75_jpeg.rf.a3fe23d3336d306c981fecd6342ac8f0.jpg: ignoring corrupt image/label: Label class 5 exceeds dataset class count 1. Possible class labels are 0-0\n",
      "\u001b[34m\u001b[1mval: \u001b[0mWARNING  C:\\Users\\dsy92\\OneDrive\\Desktop\\Weapon-Detection\\enhance_image\\valid\\images\\Knife_7_jpeg.rf.34d92d25f96356cfcabe6105d9086a44.jpg: ignoring corrupt image/label: Label class 5 exceeds dataset class count 1. Possible class labels are 0-0\n",
      "\u001b[34m\u001b[1mval: \u001b[0mWARNING  C:\\Users\\dsy92\\OneDrive\\Desktop\\Weapon-Detection\\enhance_image\\valid\\images\\Knife_83_jpeg.rf.ec819906c00b04b61ece106207191512.jpg: ignoring corrupt image/label: Label class 5 exceeds dataset class count 1. Possible class labels are 0-0\n",
      "\u001b[34m\u001b[1mval: \u001b[0mWARNING  C:\\Users\\dsy92\\OneDrive\\Desktop\\Weapon-Detection\\enhance_image\\valid\\images\\Knife_90_jpeg.rf.7231b39752b007d43673fd4e1dbbb35d.jpg: ignoring corrupt image/label: Label class 5 exceeds dataset class count 1. Possible class labels are 0-0\n",
      "\u001b[34m\u001b[1mval: \u001b[0mWARNING  C:\\Users\\dsy92\\OneDrive\\Desktop\\Weapon-Detection\\enhance_image\\valid\\images\\SMG_10_jpeg.rf.c9956cac8a1bf6069b95442bf463d19c.jpg: ignoring corrupt image/label: Label class 6 exceeds dataset class count 1. Possible class labels are 0-0\n",
      "\u001b[34m\u001b[1mval: \u001b[0mWARNING  C:\\Users\\dsy92\\OneDrive\\Desktop\\Weapon-Detection\\enhance_image\\valid\\images\\SMG_18_png.rf.213eac3e930ab92e87f56d3f611bd6b5.jpg: ignoring corrupt image/label: Label class 6 exceeds dataset class count 1. Possible class labels are 0-0\n",
      "\u001b[34m\u001b[1mval: \u001b[0mWARNING  C:\\Users\\dsy92\\OneDrive\\Desktop\\Weapon-Detection\\enhance_image\\valid\\images\\SMG_22_jpeg.rf.aacc07bde0f9d949319751170fcf01b1.jpg: ignoring corrupt image/label: Label class 6 exceeds dataset class count 1. Possible class labels are 0-0\n",
      "\u001b[34m\u001b[1mval: \u001b[0mWARNING  C:\\Users\\dsy92\\OneDrive\\Desktop\\Weapon-Detection\\enhance_image\\valid\\images\\SMG_28_jpeg.rf.c0f492a2490539b869dcaba526f5874b.jpg: ignoring corrupt image/label: Label class 6 exceeds dataset class count 1. Possible class labels are 0-0\n",
      "\u001b[34m\u001b[1mval: \u001b[0mWARNING  C:\\Users\\dsy92\\OneDrive\\Desktop\\Weapon-Detection\\enhance_image\\valid\\images\\SMG_3_jpeg.rf.a92b011d29a7996786b98d26a27ddf9f.jpg: ignoring corrupt image/label: Label class 6 exceeds dataset class count 1. Possible class labels are 0-0\n",
      "\u001b[34m\u001b[1mval: \u001b[0mWARNING  C:\\Users\\dsy92\\OneDrive\\Desktop\\Weapon-Detection\\enhance_image\\valid\\images\\SMG_40_jpeg.rf.dff6719de30964c00769cfc132ec8860.jpg: ignoring corrupt image/label: Label class 6 exceeds dataset class count 1. Possible class labels are 0-0\n",
      "\u001b[34m\u001b[1mval: \u001b[0mWARNING  C:\\Users\\dsy92\\OneDrive\\Desktop\\Weapon-Detection\\enhance_image\\valid\\images\\SMG_48_jpeg.rf.27370e0c27d5b590e11b6d5fd1ac1169.jpg: ignoring corrupt image/label: Label class 6 exceeds dataset class count 1. Possible class labels are 0-0\n",
      "\u001b[34m\u001b[1mval: \u001b[0mWARNING  C:\\Users\\dsy92\\OneDrive\\Desktop\\Weapon-Detection\\enhance_image\\valid\\images\\SMG_53_jpeg.rf.ba24ec3a282a3753b585307367a91253.jpg: ignoring corrupt image/label: Label class 6 exceeds dataset class count 1. Possible class labels are 0-0\n",
      "\u001b[34m\u001b[1mval: \u001b[0mWARNING  C:\\Users\\dsy92\\OneDrive\\Desktop\\Weapon-Detection\\enhance_image\\valid\\images\\SMG_58_png.rf.17c295d41b949362c35854619b3708c6.jpg: ignoring corrupt image/label: Label class 6 exceeds dataset class count 1. Possible class labels are 0-0\n",
      "\u001b[34m\u001b[1mval: \u001b[0mWARNING  C:\\Users\\dsy92\\OneDrive\\Desktop\\Weapon-Detection\\enhance_image\\valid\\images\\SMG_6_jpeg.rf.604e21b93e097571c627bd8b76d3c46f.jpg: ignoring corrupt image/label: Label class 6 exceeds dataset class count 1. Possible class labels are 0-0\n",
      "\u001b[34m\u001b[1mval: \u001b[0mWARNING  C:\\Users\\dsy92\\OneDrive\\Desktop\\Weapon-Detection\\enhance_image\\valid\\images\\SMG_76_jpeg.rf.31e4b83996d610bc05da6fe5ce1f34a5.jpg: ignoring corrupt image/label: Label class 6 exceeds dataset class count 1. Possible class labels are 0-0\n",
      "\u001b[34m\u001b[1mval: \u001b[0mWARNING  C:\\Users\\dsy92\\OneDrive\\Desktop\\Weapon-Detection\\enhance_image\\valid\\images\\SMG_7_jpeg.rf.ac5195ec62c0a835dd6710a89f59fa26.jpg: ignoring corrupt image/label: Label class 9 exceeds dataset class count 1. Possible class labels are 0-0\n",
      "\u001b[34m\u001b[1mval: \u001b[0mWARNING  C:\\Users\\dsy92\\OneDrive\\Desktop\\Weapon-Detection\\enhance_image\\valid\\images\\SMG_82_jpeg.rf.9a42b6a3157990a5efcc239f1bb998de.jpg: ignoring corrupt image/label: Label class 6 exceeds dataset class count 1. Possible class labels are 0-0\n",
      "\u001b[34m\u001b[1mval: \u001b[0mWARNING  C:\\Users\\dsy92\\OneDrive\\Desktop\\Weapon-Detection\\enhance_image\\valid\\images\\SMG_86_jpeg.rf.487cc25f0288a9c6beb9e62247c7db65.jpg: ignoring corrupt image/label: Label class 6 exceeds dataset class count 1. Possible class labels are 0-0\n",
      "\u001b[34m\u001b[1mval: \u001b[0mWARNING  C:\\Users\\dsy92\\OneDrive\\Desktop\\Weapon-Detection\\enhance_image\\valid\\images\\SMG_95_jpeg.rf.f03e138efe6a767af0416f2f460fa118.jpg: ignoring corrupt image/label: Label class 6 exceeds dataset class count 1. Possible class labels are 0-0\n",
      "\u001b[34m\u001b[1mval: \u001b[0mWARNING  C:\\Users\\dsy92\\OneDrive\\Desktop\\Weapon-Detection\\enhance_image\\valid\\images\\Shotgun_11_jpeg.rf.0302b75392f2fba1df59182f74626162.jpg: ignoring corrupt image/label: Label class 7 exceeds dataset class count 1. Possible class labels are 0-0\n",
      "\u001b[34m\u001b[1mval: \u001b[0mWARNING  C:\\Users\\dsy92\\OneDrive\\Desktop\\Weapon-Detection\\enhance_image\\valid\\images\\Shotgun_13_jpeg.rf.e30ef8a3e0fd93508f8a15454727b6cd.jpg: ignoring corrupt image/label: Label class 7 exceeds dataset class count 1. Possible class labels are 0-0\n",
      "\u001b[34m\u001b[1mval: \u001b[0mWARNING  C:\\Users\\dsy92\\OneDrive\\Desktop\\Weapon-Detection\\enhance_image\\valid\\images\\Shotgun_16_jpeg.rf.fbe86641ec2dcf010c930f808b29cca5.jpg: ignoring corrupt image/label: Label class 7 exceeds dataset class count 1. Possible class labels are 0-0\n",
      "\u001b[34m\u001b[1mval: \u001b[0mWARNING  C:\\Users\\dsy92\\OneDrive\\Desktop\\Weapon-Detection\\enhance_image\\valid\\images\\Shotgun_28_jpeg.rf.582c025458fab1f4afa3841db91527c0.jpg: ignoring corrupt image/label: Label class 7 exceeds dataset class count 1. Possible class labels are 0-0\n",
      "\u001b[34m\u001b[1mval: \u001b[0mWARNING  C:\\Users\\dsy92\\OneDrive\\Desktop\\Weapon-Detection\\enhance_image\\valid\\images\\Shotgun_37_jpeg.rf.82918e0823343a2f18bf5dd1c55707e4.jpg: ignoring corrupt image/label: Label class 7 exceeds dataset class count 1. Possible class labels are 0-0\n",
      "\u001b[34m\u001b[1mval: \u001b[0mWARNING  C:\\Users\\dsy92\\OneDrive\\Desktop\\Weapon-Detection\\enhance_image\\valid\\images\\Shotgun_4_jpeg.rf.b899e3583fd77353fcf75d6bd58d941f.jpg: ignoring corrupt image/label: Label class 7 exceeds dataset class count 1. Possible class labels are 0-0\n",
      "\u001b[34m\u001b[1mval: \u001b[0mWARNING  C:\\Users\\dsy92\\OneDrive\\Desktop\\Weapon-Detection\\enhance_image\\valid\\images\\Shotgun_50_jpeg.rf.5eafbe85bfb3de0baf63c03a072f0ac4.jpg: ignoring corrupt image/label: Label class 7 exceeds dataset class count 1. Possible class labels are 0-0\n",
      "\u001b[34m\u001b[1mval: \u001b[0mWARNING  C:\\Users\\dsy92\\OneDrive\\Desktop\\Weapon-Detection\\enhance_image\\valid\\images\\Shotgun_58_jpeg.rf.77a18ec0ae6890ad0ecb372ee5554db0.jpg: ignoring corrupt image/label: Label class 7 exceeds dataset class count 1. Possible class labels are 0-0\n",
      "\u001b[34m\u001b[1mval: \u001b[0mWARNING  C:\\Users\\dsy92\\OneDrive\\Desktop\\Weapon-Detection\\enhance_image\\valid\\images\\Shotgun_5_jpeg.rf.978bb1e5e62f63e7563ba7dc0232216d.jpg: ignoring corrupt image/label: Label class 7 exceeds dataset class count 1. Possible class labels are 0-0\n",
      "\u001b[34m\u001b[1mval: \u001b[0mWARNING  C:\\Users\\dsy92\\OneDrive\\Desktop\\Weapon-Detection\\enhance_image\\valid\\images\\Shotgun_9_jpeg.rf.555768e7babe3f0409ec47fabac66a78.jpg: ignoring corrupt image/label: Label class 7 exceeds dataset class count 1. Possible class labels are 0-0\n",
      "\u001b[34m\u001b[1mval: \u001b[0mWARNING  C:\\Users\\dsy92\\OneDrive\\Desktop\\Weapon-Detection\\enhance_image\\valid\\images\\Sniper_10_jpeg.rf.4e26b2dc23608e26514ccc04dde0afed.jpg: ignoring corrupt image/label: Label class 8 exceeds dataset class count 1. Possible class labels are 0-0\n",
      "\u001b[34m\u001b[1mval: \u001b[0mWARNING  C:\\Users\\dsy92\\OneDrive\\Desktop\\Weapon-Detection\\enhance_image\\valid\\images\\Sniper_12_jpeg.rf.d45d814876ed839cd5523afd3a75c776.jpg: ignoring corrupt image/label: Label class 8 exceeds dataset class count 1. Possible class labels are 0-0\n",
      "\u001b[34m\u001b[1mval: \u001b[0mWARNING  C:\\Users\\dsy92\\OneDrive\\Desktop\\Weapon-Detection\\enhance_image\\valid\\images\\Sniper_20_jpeg.rf.f1885814c001584b63f0e49d699511ef.jpg: ignoring corrupt image/label: Label class 8 exceeds dataset class count 1. Possible class labels are 0-0\n",
      "\u001b[34m\u001b[1mval: \u001b[0mWARNING  C:\\Users\\dsy92\\OneDrive\\Desktop\\Weapon-Detection\\enhance_image\\valid\\images\\Sniper_38_jpeg.rf.b8e7489c04c046ca0e6b1ed44e1fd9b7.jpg: ignoring corrupt image/label: Label class 8 exceeds dataset class count 1. Possible class labels are 0-0\n",
      "\u001b[34m\u001b[1mval: \u001b[0mWARNING  C:\\Users\\dsy92\\OneDrive\\Desktop\\Weapon-Detection\\enhance_image\\valid\\images\\Sniper_40_jpeg.rf.d52749cd69fa9370e0d57e30ae63ab76.jpg: ignoring corrupt image/label: Label class 8 exceeds dataset class count 1. Possible class labels are 0-0\n",
      "\u001b[34m\u001b[1mval: \u001b[0mWARNING  C:\\Users\\dsy92\\OneDrive\\Desktop\\Weapon-Detection\\enhance_image\\valid\\images\\Sniper_46_jpeg.rf.2346e94b5503c5c9897c2b4104166f23.jpg: ignoring corrupt image/label: Label class 8 exceeds dataset class count 1. Possible class labels are 0-0\n",
      "\u001b[34m\u001b[1mval: \u001b[0mWARNING  C:\\Users\\dsy92\\OneDrive\\Desktop\\Weapon-Detection\\enhance_image\\valid\\images\\Sniper_53_jpeg.rf.06a9ce8f6c13e957549f0db271b09d20.jpg: ignoring corrupt image/label: Label class 8 exceeds dataset class count 1. Possible class labels are 0-0\n",
      "\u001b[34m\u001b[1mval: \u001b[0mWARNING  C:\\Users\\dsy92\\OneDrive\\Desktop\\Weapon-Detection\\enhance_image\\valid\\images\\Sniper_64_jpeg.rf.053ec00e73de6240719329e84207a3ec.jpg: ignoring corrupt image/label: Label class 8 exceeds dataset class count 1. Possible class labels are 0-0\n",
      "\u001b[34m\u001b[1mval: \u001b[0mWARNING  C:\\Users\\dsy92\\OneDrive\\Desktop\\Weapon-Detection\\enhance_image\\valid\\images\\Sniper_65_jpeg.rf.d7281657f97d68328ac425b0211be2ba.jpg: ignoring corrupt image/label: Label class 8 exceeds dataset class count 1. Possible class labels are 0-0\n",
      "\u001b[34m\u001b[1mval: \u001b[0mWARNING  C:\\Users\\dsy92\\OneDrive\\Desktop\\Weapon-Detection\\enhance_image\\valid\\images\\Sniper_72_jpeg.rf.5d963d271d808a9567050b46e56aee1c.jpg: ignoring corrupt image/label: Label class 9 exceeds dataset class count 1. Possible class labels are 0-0\n",
      "\u001b[34m\u001b[1mval: \u001b[0mWARNING  C:\\Users\\dsy92\\OneDrive\\Desktop\\Weapon-Detection\\enhance_image\\valid\\images\\Sniper_88_png.rf.8e9cad7cd83fd4839276b6d3f429a59a.jpg: ignoring corrupt image/label: Label class 8 exceeds dataset class count 1. Possible class labels are 0-0\n",
      "\u001b[34m\u001b[1mval: \u001b[0mWARNING  C:\\Users\\dsy92\\OneDrive\\Desktop\\Weapon-Detection\\enhance_image\\valid\\images\\Sword_12_jpeg.rf.9d09325f8c22918356c748c3e78c15b8.jpg: ignoring corrupt image/label: Label class 9 exceeds dataset class count 1. Possible class labels are 0-0\n",
      "\u001b[34m\u001b[1mval: \u001b[0mWARNING  C:\\Users\\dsy92\\OneDrive\\Desktop\\Weapon-Detection\\enhance_image\\valid\\images\\Sword_18_jpeg.rf.d8c682ee0e909434783cbc0bb7157421.jpg: ignoring corrupt image/label: Label class 9 exceeds dataset class count 1. Possible class labels are 0-0\n",
      "\u001b[34m\u001b[1mval: \u001b[0mWARNING  C:\\Users\\dsy92\\OneDrive\\Desktop\\Weapon-Detection\\enhance_image\\valid\\images\\Sword_25_jpeg.rf.de4017a598038119ae2f13c6d28b611e.jpg: ignoring corrupt image/label: Label class 9 exceeds dataset class count 1. Possible class labels are 0-0\n",
      "\u001b[34m\u001b[1mval: \u001b[0mWARNING  C:\\Users\\dsy92\\OneDrive\\Desktop\\Weapon-Detection\\enhance_image\\valid\\images\\Sword_31_jpeg.rf.c9b63585bae06c557a8815a86d6b313a.jpg: ignoring corrupt image/label: Label class 9 exceeds dataset class count 1. Possible class labels are 0-0\n",
      "\u001b[34m\u001b[1mval: \u001b[0mWARNING  C:\\Users\\dsy92\\OneDrive\\Desktop\\Weapon-Detection\\enhance_image\\valid\\images\\Sword_36_jpeg.rf.f0770c85971b484779fb6cbe3b46fd67.jpg: ignoring corrupt image/label: Label class 9 exceeds dataset class count 1. Possible class labels are 0-0\n",
      "\u001b[34m\u001b[1mval: \u001b[0mWARNING  C:\\Users\\dsy92\\OneDrive\\Desktop\\Weapon-Detection\\enhance_image\\valid\\images\\Sword_38_jpeg.rf.1ba82debc13d1e3560656145c52ab186.jpg: ignoring corrupt image/label: Label class 9 exceeds dataset class count 1. Possible class labels are 0-0\n",
      "\u001b[34m\u001b[1mval: \u001b[0mWARNING  C:\\Users\\dsy92\\OneDrive\\Desktop\\Weapon-Detection\\enhance_image\\valid\\images\\Sword_4_jpeg.rf.acb8529f9488c35c467468a8f45fb7e8.jpg: ignoring corrupt image/label: Label class 9 exceeds dataset class count 1. Possible class labels are 0-0\n",
      "\u001b[34m\u001b[1mval: \u001b[0mWARNING  C:\\Users\\dsy92\\OneDrive\\Desktop\\Weapon-Detection\\enhance_image\\valid\\images\\Sword_50_jpeg.rf.5fa4896e29132536341e8c3fe340bd89.jpg: ignoring corrupt image/label: Label class 9 exceeds dataset class count 1. Possible class labels are 0-0\n",
      "\u001b[34m\u001b[1mval: \u001b[0mWARNING  C:\\Users\\dsy92\\OneDrive\\Desktop\\Weapon-Detection\\enhance_image\\valid\\images\\Sword_54_jpeg.rf.fbb3f0de06df5a9013fe5bdea43ec762.jpg: ignoring corrupt image/label: Label class 9 exceeds dataset class count 1. Possible class labels are 0-0\n",
      "\u001b[34m\u001b[1mval: \u001b[0mWARNING  C:\\Users\\dsy92\\OneDrive\\Desktop\\Weapon-Detection\\enhance_image\\valid\\images\\Sword_59_png.rf.9dcb8625219ccb1678abaf0bad65dd5b.jpg: ignoring corrupt image/label: Label class 9 exceeds dataset class count 1. Possible class labels are 0-0\n",
      "\u001b[34m\u001b[1mval: \u001b[0mWARNING  C:\\Users\\dsy92\\OneDrive\\Desktop\\Weapon-Detection\\enhance_image\\valid\\images\\Sword_62_jpeg.rf.679bdd68dd2c42c987de1b472fe74572.jpg: ignoring corrupt image/label: Label class 9 exceeds dataset class count 1. Possible class labels are 0-0\n",
      "\u001b[34m\u001b[1mval: \u001b[0mWARNING  C:\\Users\\dsy92\\OneDrive\\Desktop\\Weapon-Detection\\enhance_image\\valid\\images\\Sword_64_jpeg.rf.b3b48fa5cec6b81e99af57f0d320c9ab.jpg: ignoring corrupt image/label: Label class 9 exceeds dataset class count 1. Possible class labels are 0-0\n",
      "\u001b[34m\u001b[1mval: \u001b[0mWARNING  C:\\Users\\dsy92\\OneDrive\\Desktop\\Weapon-Detection\\enhance_image\\valid\\images\\Sword_81_jpeg.rf.23f232ebc27bcfe9f3aaa18ecb827e07.jpg: ignoring corrupt image/label: Label class 9 exceeds dataset class count 1. Possible class labels are 0-0\n",
      "\u001b[34m\u001b[1mval: \u001b[0mWARNING  C:\\Users\\dsy92\\OneDrive\\Desktop\\Weapon-Detection\\enhance_image\\valid\\images\\Sword_83_jpeg.rf.bdbfa7df65d00e856b05c885f8803fd0.jpg: ignoring corrupt image/label: Label class 9 exceeds dataset class count 1. Possible class labels are 0-0\n",
      "\u001b[34m\u001b[1mval: \u001b[0mWARNING  C:\\Users\\dsy92\\OneDrive\\Desktop\\Weapon-Detection\\enhance_image\\valid\\images\\Sword_99_jpeg.rf.1b4d9dc9f5eba8a9b5748addc8e1cc44.jpg: ignoring corrupt image/label: Label class 9 exceeds dataset class count 1. Possible class labels are 0-0\n"
     ]
    },
    {
     "name": "stderr",
     "output_type": "stream",
     "text": [
      "\n",
      "                 Class     Images  Instances      Box(P          R      mAP50  mAP50-95): 100%|██████████| 60/60 [00:35<00:00,  1.69it/s]\n"
     ]
    },
    {
     "name": "stdout",
     "output_type": "stream",
     "text": [
      "                   all       1895       2292     0.0493     0.0541    0.00705     0.0036\n",
      "Speed: 0.7ms preprocess, 10.6ms inference, 0.0ms loss, 1.6ms postprocess per image\n",
      "Results saved to \u001b[1mruns\\detect\\val2\u001b[0m\n",
      "ultralytics.utils.metrics.DetMetrics object with attributes:\n",
      "\n",
      "ap_class_index: array([0])\n",
      "box: ultralytics.utils.metrics.Metric object\n",
      "confusion_matrix: <ultralytics.utils.metrics.ConfusionMatrix object at 0x000001633F0F27B0>\n",
      "curves: ['Precision-Recall(B)', 'F1-Confidence(B)', 'Precision-Confidence(B)', 'Recall-Confidence(B)']\n",
      "curves_results: [[array([          0,    0.001001,    0.002002,    0.003003,    0.004004,    0.005005,    0.006006,    0.007007,    0.008008,    0.009009,     0.01001,    0.011011,    0.012012,    0.013013,    0.014014,    0.015015,    0.016016,    0.017017,    0.018018,    0.019019,     0.02002,    0.021021,    0.022022,    0.023023,\n",
      "          0.024024,    0.025025,    0.026026,    0.027027,    0.028028,    0.029029,     0.03003,    0.031031,    0.032032,    0.033033,    0.034034,    0.035035,    0.036036,    0.037037,    0.038038,    0.039039,     0.04004,    0.041041,    0.042042,    0.043043,    0.044044,    0.045045,    0.046046,    0.047047,\n",
      "          0.048048,    0.049049,     0.05005,    0.051051,    0.052052,    0.053053,    0.054054,    0.055055,    0.056056,    0.057057,    0.058058,    0.059059,     0.06006,    0.061061,    0.062062,    0.063063,    0.064064,    0.065065,    0.066066,    0.067067,    0.068068,    0.069069,     0.07007,    0.071071,\n",
      "          0.072072,    0.073073,    0.074074,    0.075075,    0.076076,    0.077077,    0.078078,    0.079079,     0.08008,    0.081081,    0.082082,    0.083083,    0.084084,    0.085085,    0.086086,    0.087087,    0.088088,    0.089089,     0.09009,    0.091091,    0.092092,    0.093093,    0.094094,    0.095095,\n",
      "          0.096096,    0.097097,    0.098098,    0.099099,      0.1001,      0.1011,      0.1021,      0.1031,      0.1041,     0.10511,     0.10611,     0.10711,     0.10811,     0.10911,     0.11011,     0.11111,     0.11211,     0.11311,     0.11411,     0.11512,     0.11612,     0.11712,     0.11812,     0.11912,\n",
      "           0.12012,     0.12112,     0.12212,     0.12312,     0.12412,     0.12513,     0.12613,     0.12713,     0.12813,     0.12913,     0.13013,     0.13113,     0.13213,     0.13313,     0.13413,     0.13514,     0.13614,     0.13714,     0.13814,     0.13914,     0.14014,     0.14114,     0.14214,     0.14314,\n",
      "           0.14414,     0.14515,     0.14615,     0.14715,     0.14815,     0.14915,     0.15015,     0.15115,     0.15215,     0.15315,     0.15415,     0.15516,     0.15616,     0.15716,     0.15816,     0.15916,     0.16016,     0.16116,     0.16216,     0.16316,     0.16416,     0.16517,     0.16617,     0.16717,\n",
      "           0.16817,     0.16917,     0.17017,     0.17117,     0.17217,     0.17317,     0.17417,     0.17518,     0.17618,     0.17718,     0.17818,     0.17918,     0.18018,     0.18118,     0.18218,     0.18318,     0.18418,     0.18519,     0.18619,     0.18719,     0.18819,     0.18919,     0.19019,     0.19119,\n",
      "           0.19219,     0.19319,     0.19419,      0.1952,      0.1962,      0.1972,      0.1982,      0.1992,      0.2002,      0.2012,      0.2022,      0.2032,      0.2042,     0.20521,     0.20621,     0.20721,     0.20821,     0.20921,     0.21021,     0.21121,     0.21221,     0.21321,     0.21421,     0.21522,\n",
      "           0.21622,     0.21722,     0.21822,     0.21922,     0.22022,     0.22122,     0.22222,     0.22322,     0.22422,     0.22523,     0.22623,     0.22723,     0.22823,     0.22923,     0.23023,     0.23123,     0.23223,     0.23323,     0.23423,     0.23524,     0.23624,     0.23724,     0.23824,     0.23924,\n",
      "           0.24024,     0.24124,     0.24224,     0.24324,     0.24424,     0.24525,     0.24625,     0.24725,     0.24825,     0.24925,     0.25025,     0.25125,     0.25225,     0.25325,     0.25425,     0.25526,     0.25626,     0.25726,     0.25826,     0.25926,     0.26026,     0.26126,     0.26226,     0.26326,\n",
      "           0.26426,     0.26527,     0.26627,     0.26727,     0.26827,     0.26927,     0.27027,     0.27127,     0.27227,     0.27327,     0.27427,     0.27528,     0.27628,     0.27728,     0.27828,     0.27928,     0.28028,     0.28128,     0.28228,     0.28328,     0.28428,     0.28529,     0.28629,     0.28729,\n",
      "           0.28829,     0.28929,     0.29029,     0.29129,     0.29229,     0.29329,     0.29429,      0.2953,      0.2963,      0.2973,      0.2983,      0.2993,      0.3003,      0.3013,      0.3023,      0.3033,      0.3043,     0.30531,     0.30631,     0.30731,     0.30831,     0.30931,     0.31031,     0.31131,\n",
      "           0.31231,     0.31331,     0.31431,     0.31532,     0.31632,     0.31732,     0.31832,     0.31932,     0.32032,     0.32132,     0.32232,     0.32332,     0.32432,     0.32533,     0.32633,     0.32733,     0.32833,     0.32933,     0.33033,     0.33133,     0.33233,     0.33333,     0.33433,     0.33534,\n",
      "           0.33634,     0.33734,     0.33834,     0.33934,     0.34034,     0.34134,     0.34234,     0.34334,     0.34434,     0.34535,     0.34635,     0.34735,     0.34835,     0.34935,     0.35035,     0.35135,     0.35235,     0.35335,     0.35435,     0.35536,     0.35636,     0.35736,     0.35836,     0.35936,\n",
      "           0.36036,     0.36136,     0.36236,     0.36336,     0.36436,     0.36537,     0.36637,     0.36737,     0.36837,     0.36937,     0.37037,     0.37137,     0.37237,     0.37337,     0.37437,     0.37538,     0.37638,     0.37738,     0.37838,     0.37938,     0.38038,     0.38138,     0.38238,     0.38338,\n",
      "           0.38438,     0.38539,     0.38639,     0.38739,     0.38839,     0.38939,     0.39039,     0.39139,     0.39239,     0.39339,     0.39439,      0.3954,      0.3964,      0.3974,      0.3984,      0.3994,      0.4004,      0.4014,      0.4024,      0.4034,      0.4044,     0.40541,     0.40641,     0.40741,\n",
      "           0.40841,     0.40941,     0.41041,     0.41141,     0.41241,     0.41341,     0.41441,     0.41542,     0.41642,     0.41742,     0.41842,     0.41942,     0.42042,     0.42142,     0.42242,     0.42342,     0.42442,     0.42543,     0.42643,     0.42743,     0.42843,     0.42943,     0.43043,     0.43143,\n",
      "           0.43243,     0.43343,     0.43443,     0.43544,     0.43644,     0.43744,     0.43844,     0.43944,     0.44044,     0.44144,     0.44244,     0.44344,     0.44444,     0.44545,     0.44645,     0.44745,     0.44845,     0.44945,     0.45045,     0.45145,     0.45245,     0.45345,     0.45445,     0.45546,\n",
      "           0.45646,     0.45746,     0.45846,     0.45946,     0.46046,     0.46146,     0.46246,     0.46346,     0.46446,     0.46547,     0.46647,     0.46747,     0.46847,     0.46947,     0.47047,     0.47147,     0.47247,     0.47347,     0.47447,     0.47548,     0.47648,     0.47748,     0.47848,     0.47948,\n",
      "           0.48048,     0.48148,     0.48248,     0.48348,     0.48448,     0.48549,     0.48649,     0.48749,     0.48849,     0.48949,     0.49049,     0.49149,     0.49249,     0.49349,     0.49449,      0.4955,      0.4965,      0.4975,      0.4985,      0.4995,      0.5005,      0.5015,      0.5025,      0.5035,\n",
      "            0.5045,     0.50551,     0.50651,     0.50751,     0.50851,     0.50951,     0.51051,     0.51151,     0.51251,     0.51351,     0.51451,     0.51552,     0.51652,     0.51752,     0.51852,     0.51952,     0.52052,     0.52152,     0.52252,     0.52352,     0.52452,     0.52553,     0.52653,     0.52753,\n",
      "           0.52853,     0.52953,     0.53053,     0.53153,     0.53253,     0.53353,     0.53453,     0.53554,     0.53654,     0.53754,     0.53854,     0.53954,     0.54054,     0.54154,     0.54254,     0.54354,     0.54454,     0.54555,     0.54655,     0.54755,     0.54855,     0.54955,     0.55055,     0.55155,\n",
      "           0.55255,     0.55355,     0.55455,     0.55556,     0.55656,     0.55756,     0.55856,     0.55956,     0.56056,     0.56156,     0.56256,     0.56356,     0.56456,     0.56557,     0.56657,     0.56757,     0.56857,     0.56957,     0.57057,     0.57157,     0.57257,     0.57357,     0.57457,     0.57558,\n",
      "           0.57658,     0.57758,     0.57858,     0.57958,     0.58058,     0.58158,     0.58258,     0.58358,     0.58458,     0.58559,     0.58659,     0.58759,     0.58859,     0.58959,     0.59059,     0.59159,     0.59259,     0.59359,     0.59459,      0.5956,      0.5966,      0.5976,      0.5986,      0.5996,\n",
      "            0.6006,      0.6016,      0.6026,      0.6036,      0.6046,     0.60561,     0.60661,     0.60761,     0.60861,     0.60961,     0.61061,     0.61161,     0.61261,     0.61361,     0.61461,     0.61562,     0.61662,     0.61762,     0.61862,     0.61962,     0.62062,     0.62162,     0.62262,     0.62362,\n",
      "           0.62462,     0.62563,     0.62663,     0.62763,     0.62863,     0.62963,     0.63063,     0.63163,     0.63263,     0.63363,     0.63463,     0.63564,     0.63664,     0.63764,     0.63864,     0.63964,     0.64064,     0.64164,     0.64264,     0.64364,     0.64464,     0.64565,     0.64665,     0.64765,\n",
      "           0.64865,     0.64965,     0.65065,     0.65165,     0.65265,     0.65365,     0.65465,     0.65566,     0.65666,     0.65766,     0.65866,     0.65966,     0.66066,     0.66166,     0.66266,     0.66366,     0.66466,     0.66567,     0.66667,     0.66767,     0.66867,     0.66967,     0.67067,     0.67167,\n",
      "           0.67267,     0.67367,     0.67467,     0.67568,     0.67668,     0.67768,     0.67868,     0.67968,     0.68068,     0.68168,     0.68268,     0.68368,     0.68468,     0.68569,     0.68669,     0.68769,     0.68869,     0.68969,     0.69069,     0.69169,     0.69269,     0.69369,     0.69469,      0.6957,\n",
      "            0.6967,      0.6977,      0.6987,      0.6997,      0.7007,      0.7017,      0.7027,      0.7037,      0.7047,     0.70571,     0.70671,     0.70771,     0.70871,     0.70971,     0.71071,     0.71171,     0.71271,     0.71371,     0.71471,     0.71572,     0.71672,     0.71772,     0.71872,     0.71972,\n",
      "           0.72072,     0.72172,     0.72272,     0.72372,     0.72472,     0.72573,     0.72673,     0.72773,     0.72873,     0.72973,     0.73073,     0.73173,     0.73273,     0.73373,     0.73473,     0.73574,     0.73674,     0.73774,     0.73874,     0.73974,     0.74074,     0.74174,     0.74274,     0.74374,\n",
      "           0.74474,     0.74575,     0.74675,     0.74775,     0.74875,     0.74975,     0.75075,     0.75175,     0.75275,     0.75375,     0.75475,     0.75576,     0.75676,     0.75776,     0.75876,     0.75976,     0.76076,     0.76176,     0.76276,     0.76376,     0.76476,     0.76577,     0.76677,     0.76777,\n",
      "           0.76877,     0.76977,     0.77077,     0.77177,     0.77277,     0.77377,     0.77477,     0.77578,     0.77678,     0.77778,     0.77878,     0.77978,     0.78078,     0.78178,     0.78278,     0.78378,     0.78478,     0.78579,     0.78679,     0.78779,     0.78879,     0.78979,     0.79079,     0.79179,\n",
      "           0.79279,     0.79379,     0.79479,      0.7958,      0.7968,      0.7978,      0.7988,      0.7998,      0.8008,      0.8018,      0.8028,      0.8038,      0.8048,     0.80581,     0.80681,     0.80781,     0.80881,     0.80981,     0.81081,     0.81181,     0.81281,     0.81381,     0.81481,     0.81582,\n",
      "           0.81682,     0.81782,     0.81882,     0.81982,     0.82082,     0.82182,     0.82282,     0.82382,     0.82482,     0.82583,     0.82683,     0.82783,     0.82883,     0.82983,     0.83083,     0.83183,     0.83283,     0.83383,     0.83483,     0.83584,     0.83684,     0.83784,     0.83884,     0.83984,\n",
      "           0.84084,     0.84184,     0.84284,     0.84384,     0.84484,     0.84585,     0.84685,     0.84785,     0.84885,     0.84985,     0.85085,     0.85185,     0.85285,     0.85385,     0.85485,     0.85586,     0.85686,     0.85786,     0.85886,     0.85986,     0.86086,     0.86186,     0.86286,     0.86386,\n",
      "           0.86486,     0.86587,     0.86687,     0.86787,     0.86887,     0.86987,     0.87087,     0.87187,     0.87287,     0.87387,     0.87487,     0.87588,     0.87688,     0.87788,     0.87888,     0.87988,     0.88088,     0.88188,     0.88288,     0.88388,     0.88488,     0.88589,     0.88689,     0.88789,\n",
      "           0.88889,     0.88989,     0.89089,     0.89189,     0.89289,     0.89389,     0.89489,      0.8959,      0.8969,      0.8979,      0.8989,      0.8999,      0.9009,      0.9019,      0.9029,      0.9039,      0.9049,     0.90591,     0.90691,     0.90791,     0.90891,     0.90991,     0.91091,     0.91191,\n",
      "           0.91291,     0.91391,     0.91491,     0.91592,     0.91692,     0.91792,     0.91892,     0.91992,     0.92092,     0.92192,     0.92292,     0.92392,     0.92492,     0.92593,     0.92693,     0.92793,     0.92893,     0.92993,     0.93093,     0.93193,     0.93293,     0.93393,     0.93493,     0.93594,\n",
      "           0.93694,     0.93794,     0.93894,     0.93994,     0.94094,     0.94194,     0.94294,     0.94394,     0.94494,     0.94595,     0.94695,     0.94795,     0.94895,     0.94995,     0.95095,     0.95195,     0.95295,     0.95395,     0.95495,     0.95596,     0.95696,     0.95796,     0.95896,     0.95996,\n",
      "           0.96096,     0.96196,     0.96296,     0.96396,     0.96496,     0.96597,     0.96697,     0.96797,     0.96897,     0.96997,     0.97097,     0.97197,     0.97297,     0.97397,     0.97497,     0.97598,     0.97698,     0.97798,     0.97898,     0.97998,     0.98098,     0.98198,     0.98298,     0.98398,\n",
      "           0.98498,     0.98599,     0.98699,     0.98799,     0.98899,     0.98999,     0.99099,     0.99199,     0.99299,     0.99399,     0.99499,       0.996,       0.997,       0.998,       0.999,           1]), array([[   0.071713,    0.071713,    0.071713,    0.071713,    0.071713,    0.071713,    0.071713,    0.071713,    0.066202,     0.05032,     0.05032,     0.05032,     0.05032,     0.05032,     0.05032,     0.05032,     0.05032,     0.05032,     0.05032,     0.05032,     0.05032,     0.05032,     0.05032,\n",
      "            0.05032,     0.05032,     0.05032,     0.05032,     0.05032,     0.05032,     0.05032,     0.05032,     0.05032,     0.05032,     0.05032,     0.05032,     0.05032,     0.05032,     0.05032,     0.05032,     0.05032,     0.05032,     0.05032,     0.05032,     0.05032,     0.05032,     0.05032,\n",
      "            0.05032,     0.05032,     0.05032,     0.05032,     0.05032,     0.05032,    0.049815,    0.049759,    0.049759,    0.045004,     0.04459,    0.042049,    0.041538,    0.040469,    0.040469,    0.038588,    0.038472,    0.038244,    0.038244,    0.037962,    0.037962,    0.037266,    0.037266,\n",
      "           0.036552,    0.034432,    0.034432,    0.031976,    0.031976,    0.031175,    0.027339,    0.025834,     0.02271,     0.02154,     0.01973,    0.019211,    0.019016,    0.014346,    0.012582,    0.011282,    0.010681,    0.010335,   0.0092234,   0.0083426,   0.0071721,   0.0070401,   0.0070324,\n",
      "          0.0070246,   0.0070169,   0.0070092,   0.0070014,   0.0069937,   0.0069859,   0.0069782,   0.0069704,   0.0069627,   0.0069549,   0.0069472,   0.0069395,   0.0069317,    0.006924,   0.0069162,   0.0069085,   0.0069007,    0.006893,   0.0068852,   0.0068775,   0.0068698,    0.006862,   0.0068543,\n",
      "          0.0068465,   0.0068388,    0.006831,   0.0068233,   0.0068155,   0.0068078,      0.0068,   0.0067923,   0.0067846,   0.0067768,   0.0067691,   0.0067613,   0.0067536,   0.0067458,   0.0067381,   0.0067303,   0.0067226,   0.0067149,   0.0067071,   0.0066994,   0.0066916,   0.0066839,   0.0066761,\n",
      "          0.0066684,   0.0066606,   0.0066529,   0.0066451,   0.0066374,   0.0066297,   0.0066219,   0.0066142,   0.0066064,   0.0065987,   0.0065909,   0.0065832,   0.0065754,   0.0065677,     0.00656,   0.0065522,   0.0065445,   0.0065367,    0.006529,   0.0065212,   0.0065135,   0.0065057,    0.006498,\n",
      "          0.0064902,   0.0064825,   0.0064748,    0.006467,   0.0064593,   0.0064515,   0.0064438,    0.006436,   0.0064283,   0.0064205,   0.0064128,   0.0064051,   0.0063973,   0.0063896,   0.0063818,   0.0063741,   0.0063663,   0.0063586,   0.0063508,   0.0063431,   0.0063354,   0.0063276,   0.0063199,\n",
      "          0.0063121,   0.0063044,   0.0062966,   0.0062889,   0.0062811,   0.0062734,   0.0062656,   0.0062579,   0.0062502,   0.0062424,   0.0062347,   0.0062269,   0.0062192,   0.0062114,   0.0062037,   0.0061959,   0.0061882,   0.0061805,   0.0061727,    0.006165,   0.0061572,   0.0061495,   0.0061417,\n",
      "           0.006134,   0.0061262,   0.0061185,   0.0061107,    0.006103,   0.0060953,   0.0060875,   0.0060798,    0.006072,   0.0060643,   0.0060565,   0.0060488,    0.006041,   0.0060333,   0.0060256,   0.0060178,   0.0060101,   0.0060023,   0.0059946,   0.0059868,   0.0059791,   0.0059713,   0.0059636,\n",
      "          0.0059558,   0.0059481,   0.0059404,   0.0059326,   0.0059249,   0.0059171,   0.0059094,   0.0059016,   0.0058939,   0.0058861,   0.0058784,   0.0058707,   0.0058629,   0.0058552,   0.0058474,   0.0058397,   0.0058319,   0.0058242,   0.0058164,   0.0058087,    0.005801,   0.0057932,   0.0057855,\n",
      "          0.0057777,     0.00577,   0.0057622,   0.0057545,   0.0057467,    0.005739,   0.0057312,   0.0057235,   0.0057158,    0.005708,   0.0057003,   0.0056925,   0.0056848,    0.005677,   0.0056693,   0.0056615,   0.0056538,   0.0056461,   0.0056383,   0.0056306,   0.0056228,   0.0056151,   0.0056073,\n",
      "          0.0055996,   0.0055918,   0.0055841,   0.0055763,   0.0055686,   0.0055609,   0.0055531,   0.0055454,   0.0055376,   0.0055299,   0.0055221,   0.0055144,   0.0055066,   0.0054989,   0.0054912,   0.0054834,   0.0054757,   0.0054679,   0.0054602,   0.0054524,   0.0054447,   0.0054369,   0.0054292,\n",
      "          0.0054214,   0.0054137,    0.005406,   0.0053982,   0.0053905,   0.0053827,    0.005375,   0.0053672,   0.0053595,   0.0053517,    0.005344,   0.0053363,   0.0053285,   0.0053208,    0.005313,   0.0053053,   0.0052975,   0.0052898,    0.005282,   0.0052743,   0.0052666,   0.0052588,   0.0052511,\n",
      "          0.0052433,   0.0052356,   0.0052278,   0.0052201,   0.0052123,   0.0052046,   0.0051968,   0.0051891,   0.0051814,   0.0051736,   0.0051659,   0.0051581,   0.0051504,   0.0051426,   0.0051349,   0.0051271,   0.0051194,   0.0051117,   0.0051039,   0.0050962,   0.0050884,   0.0050807,   0.0050729,\n",
      "          0.0050652,   0.0050574,   0.0050497,   0.0050419,   0.0050342,   0.0050265,   0.0050187,    0.005011,   0.0050032,   0.0049955,   0.0049877,     0.00498,   0.0049722,   0.0049645,   0.0049568,    0.004949,   0.0049413,   0.0049335,   0.0049258,    0.004918,   0.0049103,   0.0049025,   0.0048948,\n",
      "           0.004887,   0.0048793,   0.0048716,   0.0048638,   0.0048561,   0.0048483,   0.0048406,   0.0048328,   0.0048251,   0.0048173,   0.0048096,   0.0048019,   0.0047941,   0.0047864,   0.0047786,   0.0047709,   0.0047631,   0.0047554,   0.0047476,   0.0047399,   0.0047322,   0.0047244,   0.0047167,\n",
      "          0.0047089,   0.0047012,   0.0046934,   0.0046857,   0.0046779,   0.0046702,   0.0046624,   0.0046547,    0.004647,   0.0046392,   0.0046315,   0.0046237,    0.004616,   0.0046082,   0.0046005,   0.0045927,    0.004585,   0.0045773,   0.0045695,   0.0045618,    0.004554,   0.0045463,   0.0045385,\n",
      "          0.0045308,    0.004523,   0.0045153,   0.0045075,   0.0044998,   0.0044921,   0.0044843,   0.0044766,   0.0044688,   0.0044611,   0.0044533,   0.0044456,   0.0044378,   0.0044301,   0.0044224,   0.0044146,   0.0044069,   0.0043991,   0.0043914,   0.0043836,   0.0043759,   0.0043681,   0.0043604,\n",
      "          0.0043526,   0.0043449,   0.0043372,   0.0043294,   0.0043217,   0.0043139,   0.0043062,   0.0042984,   0.0042907,   0.0042829,   0.0042752,   0.0042675,   0.0042597,    0.004252,   0.0042442,   0.0042365,   0.0042287,    0.004221,   0.0042132,   0.0042055,   0.0041978,     0.00419,   0.0041823,\n",
      "          0.0041745,   0.0041668,    0.004159,   0.0041513,   0.0041435,   0.0041358,    0.004128,   0.0041203,   0.0041126,   0.0041048,   0.0040971,   0.0040893,   0.0040816,   0.0040738,   0.0040661,   0.0040583,   0.0040506,   0.0040429,   0.0040351,   0.0040274,   0.0040196,   0.0040119,   0.0040041,\n",
      "          0.0039964,   0.0039886,   0.0039809,   0.0039731,   0.0039654,   0.0039577,   0.0039499,   0.0039422,   0.0039344,   0.0039267,   0.0039189,   0.0039112,   0.0039034,   0.0038957,    0.003888,   0.0038802,   0.0038725,   0.0038647,    0.003857,   0.0038492,   0.0038415,   0.0038337,    0.003826,\n",
      "          0.0038182,   0.0038105,   0.0038028,    0.003795,   0.0037873,   0.0037795,   0.0037718,    0.003764,   0.0037563,   0.0037485,   0.0037408,   0.0037331,   0.0037253,   0.0037176,   0.0037098,   0.0037021,   0.0036943,   0.0036866,   0.0036788,   0.0036711,   0.0036634,   0.0036556,   0.0036479,\n",
      "          0.0036401,   0.0036324,   0.0036246,   0.0036169,   0.0036091,   0.0036014,   0.0035936,   0.0035859,   0.0035782,   0.0035704,   0.0035627,   0.0035549,   0.0035472,   0.0035394,   0.0035317,   0.0035239,   0.0035162,   0.0035085,   0.0035007,    0.003493,   0.0034852,   0.0034775,   0.0034697,\n",
      "           0.003462,   0.0034542,   0.0034465,   0.0034387,    0.003431,   0.0034233,   0.0034155,   0.0034078,      0.0034,   0.0033923,   0.0033845,   0.0033768,    0.003369,   0.0033613,   0.0033536,   0.0033458,   0.0033381,   0.0033303,   0.0033226,   0.0033148,   0.0033071,   0.0032993,   0.0032916,\n",
      "          0.0032838,   0.0032761,   0.0032684,   0.0032606,   0.0032529,   0.0032451,   0.0032374,   0.0032296,   0.0032219,   0.0032141,   0.0032064,   0.0031987,   0.0031909,   0.0031832,   0.0031754,   0.0031677,   0.0031599,   0.0031522,   0.0031444,   0.0031367,    0.003129,   0.0031212,   0.0031135,\n",
      "          0.0031057,    0.003098,   0.0030902,   0.0030825,   0.0030747,    0.003067,   0.0030592,   0.0030515,   0.0030438,    0.003036,   0.0030283,   0.0030205,   0.0030128,    0.003005,   0.0029973,   0.0029895,   0.0029818,   0.0029741,   0.0029663,   0.0029586,   0.0029508,   0.0029431,   0.0029353,\n",
      "          0.0029276,   0.0029198,   0.0029121,   0.0029043,   0.0028966,   0.0028889,   0.0028811,   0.0028734,   0.0028656,   0.0028579,   0.0028501,   0.0028424,   0.0028346,   0.0028269,   0.0028192,   0.0028114,   0.0028037,   0.0027959,   0.0027882,   0.0027804,   0.0027727,   0.0027649,   0.0027572,\n",
      "          0.0027494,   0.0027417,    0.002734,   0.0027262,   0.0027185,   0.0027107,    0.002703,   0.0026952,   0.0026875,   0.0026797,    0.002672,   0.0026643,   0.0026565,   0.0026488,    0.002641,   0.0026333,   0.0026255,   0.0026178,     0.00261,   0.0026023,   0.0025946,   0.0025868,   0.0025791,\n",
      "          0.0025713,   0.0025636,   0.0025558,   0.0025481,   0.0025403,   0.0025326,   0.0025248,   0.0025171,   0.0025094,   0.0025016,   0.0024939,   0.0024861,   0.0024784,   0.0024706,   0.0024629,   0.0024551,   0.0024474,   0.0024397,   0.0024319,   0.0024242,   0.0024164,   0.0024087,   0.0024009,\n",
      "          0.0023932,   0.0023854,   0.0023777,   0.0023699,   0.0023622,   0.0023545,   0.0023467,    0.002339,   0.0023312,   0.0023235,   0.0023157,    0.002308,   0.0023002,   0.0022925,   0.0022848,    0.002277,   0.0022693,   0.0022615,   0.0022538,    0.002246,   0.0022383,   0.0022305,   0.0022228,\n",
      "           0.002215,   0.0022073,   0.0021996,   0.0021918,   0.0021841,   0.0021763,   0.0021686,   0.0021608,   0.0021531,   0.0021453,   0.0021376,   0.0021299,   0.0021221,   0.0021144,   0.0021066,   0.0020989,   0.0020911,   0.0020834,   0.0020756,   0.0020679,   0.0020602,   0.0020524,   0.0020447,\n",
      "          0.0020369,   0.0020292,   0.0020214,   0.0020137,   0.0020059,   0.0019982,   0.0019904,   0.0019827,    0.001975,   0.0019672,   0.0019595,   0.0019517,    0.001944,   0.0019362,   0.0019285,   0.0019207,    0.001913,   0.0019053,   0.0018975,   0.0018898,    0.001882,   0.0018743,   0.0018665,\n",
      "          0.0018588,    0.001851,   0.0018433,   0.0018355,   0.0018278,   0.0018201,   0.0018123,   0.0018046,   0.0017968,   0.0017891,   0.0017813,   0.0017736,   0.0017658,   0.0017581,   0.0017504,   0.0017426,   0.0017349,   0.0017271,   0.0017194,   0.0017116,   0.0017039,   0.0016961,   0.0016884,\n",
      "          0.0016806,   0.0016729,   0.0016652,   0.0016574,   0.0016497,   0.0016419,   0.0016342,   0.0016264,   0.0016187,   0.0016109,   0.0016032,   0.0015955,   0.0015877,     0.00158,   0.0015722,   0.0015645,   0.0015567,    0.001549,   0.0015412,   0.0015335,   0.0015258,    0.001518,   0.0015103,\n",
      "          0.0015025,   0.0014948,    0.001487,   0.0014793,   0.0014715,   0.0014638,    0.001456,   0.0014483,   0.0014406,   0.0014328,   0.0014251,   0.0014173,   0.0014096,   0.0014018,   0.0013941,   0.0013863,   0.0013786,   0.0013709,   0.0013631,   0.0013554,   0.0013476,   0.0013399,   0.0013321,\n",
      "          0.0013244,   0.0013166,   0.0013089,   0.0013011,   0.0012934,   0.0012857,   0.0012779,   0.0012702,   0.0012624,   0.0012547,   0.0012469,   0.0012392,   0.0012314,   0.0012237,    0.001216,   0.0012082,   0.0012005,   0.0011927,    0.001185,   0.0011772,   0.0011695,   0.0011617,    0.001154,\n",
      "          0.0011462,   0.0011385,   0.0011308,    0.001123,   0.0011153,   0.0011075,   0.0010998,    0.001092,   0.0010843,   0.0010765,   0.0010688,   0.0010611,   0.0010533,   0.0010456,   0.0010378,   0.0010301,   0.0010223,   0.0010146,   0.0010068,   0.0009991,  0.00099135,  0.00098361,  0.00097586,\n",
      "         0.00096812,  0.00096037,  0.00095263,  0.00094488,  0.00093714,  0.00092939,  0.00092165,   0.0009139,  0.00090616,  0.00089841,  0.00089067,  0.00088292,  0.00087518,  0.00086743,  0.00085969,  0.00085194,   0.0008442,  0.00083645,  0.00082871,  0.00082096,  0.00081322,  0.00080547,  0.00079773,\n",
      "         0.00078998,  0.00078224,  0.00077449,  0.00076675,    0.000759,  0.00075126,  0.00074351,  0.00073577,  0.00072802,  0.00072028,  0.00071253,  0.00070479,  0.00069704,   0.0006893,  0.00068155,  0.00067381,  0.00066606,  0.00065832,  0.00065057,  0.00064283,  0.00063508,  0.00062734,  0.00061959,\n",
      "         0.00061185,   0.0006041,  0.00059636,  0.00058861,  0.00058087,  0.00057312,  0.00056538,  0.00055763,  0.00054989,  0.00054214,   0.0005344,  0.00052666,  0.00051891,  0.00051117,  0.00050342,  0.00049568,  0.00048793,  0.00048019,  0.00047244,   0.0004647,  0.00045695,  0.00044921,  0.00044146,\n",
      "         0.00043372,  0.00042597,  0.00041823,  0.00041048,  0.00040274,  0.00039499,  0.00038725,   0.0003795,  0.00037176,  0.00036401,  0.00035627,  0.00034852,  0.00034078,  0.00033303,  0.00032529,  0.00031754,   0.0003098,  0.00030205,  0.00029431,  0.00028656,  0.00027882,  0.00027107,  0.00026333,\n",
      "         0.00025558,  0.00024784,  0.00024009,  0.00023235,   0.0002246,  0.00021686,  0.00020911,  0.00020137,  0.00019362,  0.00018588,  0.00017813,  0.00017039,  0.00016264,   0.0001549,  0.00014715,  0.00013941,  0.00013166,  0.00012392,  0.00011617,  0.00010843,  0.00010068,  9.2939e-05,  8.5194e-05,\n",
      "         7.7449e-05,  6.9704e-05,  6.1959e-05,  5.4214e-05,   4.647e-05,  3.8725e-05,   3.098e-05,  2.3235e-05,   1.549e-05,  7.7449e-06,           0]]), 'Recall', 'Precision'], [array([          0,    0.001001,    0.002002,    0.003003,    0.004004,    0.005005,    0.006006,    0.007007,    0.008008,    0.009009,     0.01001,    0.011011,    0.012012,    0.013013,    0.014014,    0.015015,    0.016016,    0.017017,    0.018018,    0.019019,     0.02002,    0.021021,    0.022022,    0.023023,\n",
      "          0.024024,    0.025025,    0.026026,    0.027027,    0.028028,    0.029029,     0.03003,    0.031031,    0.032032,    0.033033,    0.034034,    0.035035,    0.036036,    0.037037,    0.038038,    0.039039,     0.04004,    0.041041,    0.042042,    0.043043,    0.044044,    0.045045,    0.046046,    0.047047,\n",
      "          0.048048,    0.049049,     0.05005,    0.051051,    0.052052,    0.053053,    0.054054,    0.055055,    0.056056,    0.057057,    0.058058,    0.059059,     0.06006,    0.061061,    0.062062,    0.063063,    0.064064,    0.065065,    0.066066,    0.067067,    0.068068,    0.069069,     0.07007,    0.071071,\n",
      "          0.072072,    0.073073,    0.074074,    0.075075,    0.076076,    0.077077,    0.078078,    0.079079,     0.08008,    0.081081,    0.082082,    0.083083,    0.084084,    0.085085,    0.086086,    0.087087,    0.088088,    0.089089,     0.09009,    0.091091,    0.092092,    0.093093,    0.094094,    0.095095,\n",
      "          0.096096,    0.097097,    0.098098,    0.099099,      0.1001,      0.1011,      0.1021,      0.1031,      0.1041,     0.10511,     0.10611,     0.10711,     0.10811,     0.10911,     0.11011,     0.11111,     0.11211,     0.11311,     0.11411,     0.11512,     0.11612,     0.11712,     0.11812,     0.11912,\n",
      "           0.12012,     0.12112,     0.12212,     0.12312,     0.12412,     0.12513,     0.12613,     0.12713,     0.12813,     0.12913,     0.13013,     0.13113,     0.13213,     0.13313,     0.13413,     0.13514,     0.13614,     0.13714,     0.13814,     0.13914,     0.14014,     0.14114,     0.14214,     0.14314,\n",
      "           0.14414,     0.14515,     0.14615,     0.14715,     0.14815,     0.14915,     0.15015,     0.15115,     0.15215,     0.15315,     0.15415,     0.15516,     0.15616,     0.15716,     0.15816,     0.15916,     0.16016,     0.16116,     0.16216,     0.16316,     0.16416,     0.16517,     0.16617,     0.16717,\n",
      "           0.16817,     0.16917,     0.17017,     0.17117,     0.17217,     0.17317,     0.17417,     0.17518,     0.17618,     0.17718,     0.17818,     0.17918,     0.18018,     0.18118,     0.18218,     0.18318,     0.18418,     0.18519,     0.18619,     0.18719,     0.18819,     0.18919,     0.19019,     0.19119,\n",
      "           0.19219,     0.19319,     0.19419,      0.1952,      0.1962,      0.1972,      0.1982,      0.1992,      0.2002,      0.2012,      0.2022,      0.2032,      0.2042,     0.20521,     0.20621,     0.20721,     0.20821,     0.20921,     0.21021,     0.21121,     0.21221,     0.21321,     0.21421,     0.21522,\n",
      "           0.21622,     0.21722,     0.21822,     0.21922,     0.22022,     0.22122,     0.22222,     0.22322,     0.22422,     0.22523,     0.22623,     0.22723,     0.22823,     0.22923,     0.23023,     0.23123,     0.23223,     0.23323,     0.23423,     0.23524,     0.23624,     0.23724,     0.23824,     0.23924,\n",
      "           0.24024,     0.24124,     0.24224,     0.24324,     0.24424,     0.24525,     0.24625,     0.24725,     0.24825,     0.24925,     0.25025,     0.25125,     0.25225,     0.25325,     0.25425,     0.25526,     0.25626,     0.25726,     0.25826,     0.25926,     0.26026,     0.26126,     0.26226,     0.26326,\n",
      "           0.26426,     0.26527,     0.26627,     0.26727,     0.26827,     0.26927,     0.27027,     0.27127,     0.27227,     0.27327,     0.27427,     0.27528,     0.27628,     0.27728,     0.27828,     0.27928,     0.28028,     0.28128,     0.28228,     0.28328,     0.28428,     0.28529,     0.28629,     0.28729,\n",
      "           0.28829,     0.28929,     0.29029,     0.29129,     0.29229,     0.29329,     0.29429,      0.2953,      0.2963,      0.2973,      0.2983,      0.2993,      0.3003,      0.3013,      0.3023,      0.3033,      0.3043,     0.30531,     0.30631,     0.30731,     0.30831,     0.30931,     0.31031,     0.31131,\n",
      "           0.31231,     0.31331,     0.31431,     0.31532,     0.31632,     0.31732,     0.31832,     0.31932,     0.32032,     0.32132,     0.32232,     0.32332,     0.32432,     0.32533,     0.32633,     0.32733,     0.32833,     0.32933,     0.33033,     0.33133,     0.33233,     0.33333,     0.33433,     0.33534,\n",
      "           0.33634,     0.33734,     0.33834,     0.33934,     0.34034,     0.34134,     0.34234,     0.34334,     0.34434,     0.34535,     0.34635,     0.34735,     0.34835,     0.34935,     0.35035,     0.35135,     0.35235,     0.35335,     0.35435,     0.35536,     0.35636,     0.35736,     0.35836,     0.35936,\n",
      "           0.36036,     0.36136,     0.36236,     0.36336,     0.36436,     0.36537,     0.36637,     0.36737,     0.36837,     0.36937,     0.37037,     0.37137,     0.37237,     0.37337,     0.37437,     0.37538,     0.37638,     0.37738,     0.37838,     0.37938,     0.38038,     0.38138,     0.38238,     0.38338,\n",
      "           0.38438,     0.38539,     0.38639,     0.38739,     0.38839,     0.38939,     0.39039,     0.39139,     0.39239,     0.39339,     0.39439,      0.3954,      0.3964,      0.3974,      0.3984,      0.3994,      0.4004,      0.4014,      0.4024,      0.4034,      0.4044,     0.40541,     0.40641,     0.40741,\n",
      "           0.40841,     0.40941,     0.41041,     0.41141,     0.41241,     0.41341,     0.41441,     0.41542,     0.41642,     0.41742,     0.41842,     0.41942,     0.42042,     0.42142,     0.42242,     0.42342,     0.42442,     0.42543,     0.42643,     0.42743,     0.42843,     0.42943,     0.43043,     0.43143,\n",
      "           0.43243,     0.43343,     0.43443,     0.43544,     0.43644,     0.43744,     0.43844,     0.43944,     0.44044,     0.44144,     0.44244,     0.44344,     0.44444,     0.44545,     0.44645,     0.44745,     0.44845,     0.44945,     0.45045,     0.45145,     0.45245,     0.45345,     0.45445,     0.45546,\n",
      "           0.45646,     0.45746,     0.45846,     0.45946,     0.46046,     0.46146,     0.46246,     0.46346,     0.46446,     0.46547,     0.46647,     0.46747,     0.46847,     0.46947,     0.47047,     0.47147,     0.47247,     0.47347,     0.47447,     0.47548,     0.47648,     0.47748,     0.47848,     0.47948,\n",
      "           0.48048,     0.48148,     0.48248,     0.48348,     0.48448,     0.48549,     0.48649,     0.48749,     0.48849,     0.48949,     0.49049,     0.49149,     0.49249,     0.49349,     0.49449,      0.4955,      0.4965,      0.4975,      0.4985,      0.4995,      0.5005,      0.5015,      0.5025,      0.5035,\n",
      "            0.5045,     0.50551,     0.50651,     0.50751,     0.50851,     0.50951,     0.51051,     0.51151,     0.51251,     0.51351,     0.51451,     0.51552,     0.51652,     0.51752,     0.51852,     0.51952,     0.52052,     0.52152,     0.52252,     0.52352,     0.52452,     0.52553,     0.52653,     0.52753,\n",
      "           0.52853,     0.52953,     0.53053,     0.53153,     0.53253,     0.53353,     0.53453,     0.53554,     0.53654,     0.53754,     0.53854,     0.53954,     0.54054,     0.54154,     0.54254,     0.54354,     0.54454,     0.54555,     0.54655,     0.54755,     0.54855,     0.54955,     0.55055,     0.55155,\n",
      "           0.55255,     0.55355,     0.55455,     0.55556,     0.55656,     0.55756,     0.55856,     0.55956,     0.56056,     0.56156,     0.56256,     0.56356,     0.56456,     0.56557,     0.56657,     0.56757,     0.56857,     0.56957,     0.57057,     0.57157,     0.57257,     0.57357,     0.57457,     0.57558,\n",
      "           0.57658,     0.57758,     0.57858,     0.57958,     0.58058,     0.58158,     0.58258,     0.58358,     0.58458,     0.58559,     0.58659,     0.58759,     0.58859,     0.58959,     0.59059,     0.59159,     0.59259,     0.59359,     0.59459,      0.5956,      0.5966,      0.5976,      0.5986,      0.5996,\n",
      "            0.6006,      0.6016,      0.6026,      0.6036,      0.6046,     0.60561,     0.60661,     0.60761,     0.60861,     0.60961,     0.61061,     0.61161,     0.61261,     0.61361,     0.61461,     0.61562,     0.61662,     0.61762,     0.61862,     0.61962,     0.62062,     0.62162,     0.62262,     0.62362,\n",
      "           0.62462,     0.62563,     0.62663,     0.62763,     0.62863,     0.62963,     0.63063,     0.63163,     0.63263,     0.63363,     0.63463,     0.63564,     0.63664,     0.63764,     0.63864,     0.63964,     0.64064,     0.64164,     0.64264,     0.64364,     0.64464,     0.64565,     0.64665,     0.64765,\n",
      "           0.64865,     0.64965,     0.65065,     0.65165,     0.65265,     0.65365,     0.65465,     0.65566,     0.65666,     0.65766,     0.65866,     0.65966,     0.66066,     0.66166,     0.66266,     0.66366,     0.66466,     0.66567,     0.66667,     0.66767,     0.66867,     0.66967,     0.67067,     0.67167,\n",
      "           0.67267,     0.67367,     0.67467,     0.67568,     0.67668,     0.67768,     0.67868,     0.67968,     0.68068,     0.68168,     0.68268,     0.68368,     0.68468,     0.68569,     0.68669,     0.68769,     0.68869,     0.68969,     0.69069,     0.69169,     0.69269,     0.69369,     0.69469,      0.6957,\n",
      "            0.6967,      0.6977,      0.6987,      0.6997,      0.7007,      0.7017,      0.7027,      0.7037,      0.7047,     0.70571,     0.70671,     0.70771,     0.70871,     0.70971,     0.71071,     0.71171,     0.71271,     0.71371,     0.71471,     0.71572,     0.71672,     0.71772,     0.71872,     0.71972,\n",
      "           0.72072,     0.72172,     0.72272,     0.72372,     0.72472,     0.72573,     0.72673,     0.72773,     0.72873,     0.72973,     0.73073,     0.73173,     0.73273,     0.73373,     0.73473,     0.73574,     0.73674,     0.73774,     0.73874,     0.73974,     0.74074,     0.74174,     0.74274,     0.74374,\n",
      "           0.74474,     0.74575,     0.74675,     0.74775,     0.74875,     0.74975,     0.75075,     0.75175,     0.75275,     0.75375,     0.75475,     0.75576,     0.75676,     0.75776,     0.75876,     0.75976,     0.76076,     0.76176,     0.76276,     0.76376,     0.76476,     0.76577,     0.76677,     0.76777,\n",
      "           0.76877,     0.76977,     0.77077,     0.77177,     0.77277,     0.77377,     0.77477,     0.77578,     0.77678,     0.77778,     0.77878,     0.77978,     0.78078,     0.78178,     0.78278,     0.78378,     0.78478,     0.78579,     0.78679,     0.78779,     0.78879,     0.78979,     0.79079,     0.79179,\n",
      "           0.79279,     0.79379,     0.79479,      0.7958,      0.7968,      0.7978,      0.7988,      0.7998,      0.8008,      0.8018,      0.8028,      0.8038,      0.8048,     0.80581,     0.80681,     0.80781,     0.80881,     0.80981,     0.81081,     0.81181,     0.81281,     0.81381,     0.81481,     0.81582,\n",
      "           0.81682,     0.81782,     0.81882,     0.81982,     0.82082,     0.82182,     0.82282,     0.82382,     0.82482,     0.82583,     0.82683,     0.82783,     0.82883,     0.82983,     0.83083,     0.83183,     0.83283,     0.83383,     0.83483,     0.83584,     0.83684,     0.83784,     0.83884,     0.83984,\n",
      "           0.84084,     0.84184,     0.84284,     0.84384,     0.84484,     0.84585,     0.84685,     0.84785,     0.84885,     0.84985,     0.85085,     0.85185,     0.85285,     0.85385,     0.85485,     0.85586,     0.85686,     0.85786,     0.85886,     0.85986,     0.86086,     0.86186,     0.86286,     0.86386,\n",
      "           0.86486,     0.86587,     0.86687,     0.86787,     0.86887,     0.86987,     0.87087,     0.87187,     0.87287,     0.87387,     0.87487,     0.87588,     0.87688,     0.87788,     0.87888,     0.87988,     0.88088,     0.88188,     0.88288,     0.88388,     0.88488,     0.88589,     0.88689,     0.88789,\n",
      "           0.88889,     0.88989,     0.89089,     0.89189,     0.89289,     0.89389,     0.89489,      0.8959,      0.8969,      0.8979,      0.8989,      0.8999,      0.9009,      0.9019,      0.9029,      0.9039,      0.9049,     0.90591,     0.90691,     0.90791,     0.90891,     0.90991,     0.91091,     0.91191,\n",
      "           0.91291,     0.91391,     0.91491,     0.91592,     0.91692,     0.91792,     0.91892,     0.91992,     0.92092,     0.92192,     0.92292,     0.92392,     0.92492,     0.92593,     0.92693,     0.92793,     0.92893,     0.92993,     0.93093,     0.93193,     0.93293,     0.93393,     0.93493,     0.93594,\n",
      "           0.93694,     0.93794,     0.93894,     0.93994,     0.94094,     0.94194,     0.94294,     0.94394,     0.94494,     0.94595,     0.94695,     0.94795,     0.94895,     0.94995,     0.95095,     0.95195,     0.95295,     0.95395,     0.95495,     0.95596,     0.95696,     0.95796,     0.95896,     0.95996,\n",
      "           0.96096,     0.96196,     0.96296,     0.96396,     0.96496,     0.96597,     0.96697,     0.96797,     0.96897,     0.96997,     0.97097,     0.97197,     0.97297,     0.97397,     0.97497,     0.97598,     0.97698,     0.97798,     0.97898,     0.97998,     0.98098,     0.98198,     0.98298,     0.98398,\n",
      "           0.98498,     0.98599,     0.98699,     0.98799,     0.98899,     0.98999,     0.99099,     0.99199,     0.99299,     0.99399,     0.99499,       0.996,       0.997,       0.998,       0.999,           1]), array([[   0.013061,    0.013067,    0.018644,    0.022307,    0.025398,    0.027965,    0.030311,     0.03147,    0.033046,    0.034246,    0.035332,    0.036499,    0.037657,    0.038439,    0.039191,    0.040116,    0.039998,    0.040764,    0.041571,     0.04243,    0.043137,    0.043676,    0.044042,\n",
      "           0.044428,    0.044199,    0.044361,    0.044789,    0.045218,    0.045694,    0.045924,    0.046377,    0.045922,      0.0464,    0.046837,    0.047247,    0.047656,    0.047743,    0.047852,    0.047892,     0.04819,    0.047513,    0.047464,    0.047802,    0.048056,    0.048012,    0.048208,\n",
      "           0.047785,    0.047765,    0.047982,     0.04763,    0.047375,    0.047311,    0.047273,    0.047161,    0.047314,    0.047521,    0.047405,    0.047234,    0.047415,    0.046881,    0.047038,    0.047201,    0.047384,    0.047235,    0.047414,    0.047668,     0.04785,    0.048039,    0.048167,\n",
      "           0.048322,    0.047751,    0.047912,    0.047707,    0.047849,    0.047977,    0.048138,    0.047884,    0.048058,    0.048172,    0.048347,    0.048517,    0.048246,    0.048421,    0.048555,     0.04864,    0.048444,    0.048249,    0.048292,    0.048036,    0.048174,    0.048284,    0.048392,\n",
      "           0.048498,    0.048651,    0.048779,    0.048853,    0.048939,    0.048983,    0.049102,    0.049209,    0.049364,    0.049469,    0.049548,    0.049253,    0.049337,    0.049448,    0.049523,    0.049602,    0.049656,    0.049726,    0.049438,     0.04953,    0.049636,     0.04934,    0.049425,\n",
      "           0.049554,     0.04962,    0.049583,    0.049369,    0.049434,    0.049493,    0.049556,    0.049653,     0.04971,    0.049796,    0.049864,    0.049929,     0.05002,    0.050057,    0.050091,    0.050154,    0.050196,    0.050294,    0.050347,    0.050402,    0.050433,     0.05048,     0.05055,\n",
      "           0.050641,    0.050712,    0.050757,    0.050805,    0.050908,    0.051004,    0.051049,    0.051081,    0.050717,     0.05078,    0.050872,    0.050972,       0.051,    0.051067,    0.051107,    0.051184,    0.050841,    0.050909,    0.050954,    0.050986,    0.051036,    0.051096,    0.051163,\n",
      "           0.051267,    0.051331,    0.051422,    0.051496,    0.051559,    0.051567,    0.051607,    0.051658,    0.051716,    0.051778,     0.05183,    0.051467,    0.051497,    0.051532,    0.051197,    0.051255,    0.051312,    0.051385,    0.051031,    0.051078,    0.051135,    0.051211,    0.051242,\n",
      "           0.050886,    0.050903,    0.050928,    0.050989,    0.050623,    0.050674,    0.050714,    0.050356,     0.05041,    0.050456,    0.050482,    0.050489,    0.050558,    0.050592,     0.05062,    0.050654,    0.050696,    0.050734,    0.050759,    0.050817,    0.050871,    0.050882,    0.050479,\n",
      "           0.050105,    0.050151,    0.050161,    0.050217,    0.050244,    0.050283,    0.050341,    0.050374,    0.049552,    0.049583,      0.0492,    0.049239,    0.049246,    0.049258,    0.049289,    0.049303,    0.049328,    0.049358,    0.049385,    0.049008,    0.049039,    0.049083,     0.04913,\n",
      "           0.048709,    0.048745,    0.048768,    0.048779,    0.048809,    0.048437,    0.048465,    0.048486,    0.048507,    0.048156,    0.047312,    0.047351,    0.047384,    0.047422,    0.047449,    0.047492,    0.047512,    0.047568,    0.047587,    0.047653,    0.047675,    0.047719,    0.047757,\n",
      "           0.047788,    0.047805,    0.047819,    0.047845,    0.047897,    0.047941,    0.047546,    0.047558,     0.04759,    0.047617,    0.047212,    0.047237,     0.04727,    0.047301,    0.047327,    0.047399,    0.047042,    0.047097,    0.047118,    0.047147,    0.047183,    0.047217,    0.047247,\n",
      "           0.047274,    0.047286,    0.047302,    0.046548,    0.046468,    0.046488,    0.046523,    0.046534,    0.046543,    0.046562,    0.046599,    0.046648,    0.046687,    0.046707,    0.046303,    0.046318,     0.04633,    0.046349,    0.046385,    0.046421,    0.046016,    0.046048,    0.045628,\n",
      "           0.045658,    0.045681,    0.045259,    0.045308,    0.045335,     0.04461,    0.044472,    0.044491,    0.044427,    0.044088,    0.044115,    0.044149,    0.044168,     0.04419,    0.044205,     0.04422,    0.044248,    0.044255,     0.04428,    0.044286,    0.044312,    0.043868,    0.043895,\n",
      "           0.043917,    0.043952,     0.04399,    0.044029,    0.044112,    0.044121,    0.044146,    0.044174,    0.044195,    0.044206,    0.044223,    0.043808,    0.043603,    0.043421,    0.042778,    0.042539,    0.042564,    0.042582,    0.042136,    0.042164,    0.042175,    0.042184,    0.042209,\n",
      "            0.04224,    0.042245,    0.042194,    0.041414,    0.040892,    0.040916,    0.040931,    0.040964,    0.040971,    0.041004,    0.041033,    0.041054,    0.041058,    0.041069,    0.040608,    0.040619,    0.040651,    0.040669,    0.040678,    0.040708,    0.040732,    0.040763,    0.040775,\n",
      "           0.040788,    0.040814,     0.04083,    0.040842,    0.040891,    0.040912,    0.040445,    0.040475,    0.040496,    0.040522,    0.040534,    0.040318,    0.040077,    0.040105,    0.040111,    0.040117,    0.040142,    0.040157,    0.040163,    0.040171,    0.040206,    0.040262,    0.040293,\n",
      "             0.0403,    0.040339,    0.040373,    0.040382,    0.040386,    0.040398,    0.040426,    0.040442,    0.040108,    0.040015,    0.040052,    0.039591,    0.039603,     0.03962,    0.039647,    0.039684,    0.039703,    0.039723,    0.039248,    0.039268,    0.039293,    0.039298,    0.039303,\n",
      "           0.039323,    0.039339,    0.039368,    0.038899,    0.038722,    0.038434,     0.03844,    0.038126,    0.037997,    0.037049,    0.037058,    0.037097,    0.036637,    0.036663,    0.036668,    0.036706,    0.036723,    0.036743,    0.036757,     0.03678,    0.036792,    0.036799,    0.036805,\n",
      "           0.036814,    0.036829,    0.036837,    0.036855,    0.036869,    0.036879,    0.036418,    0.035735,    0.035462,    0.035504,    0.035536,    0.035544,     0.03556,    0.035313,    0.035093,    0.035112,    0.035121,    0.035143,    0.034675,    0.034687,    0.034694,      0.0347,    0.034709,\n",
      "           0.034718,    0.034724,    0.034735,     0.03475,    0.034756,    0.034773,    0.034526,    0.034297,    0.034315,     0.03434,    0.034355,     0.03436,    0.034381,    0.034389,    0.034394,    0.034398,    0.034401,    0.034409,    0.034449,    0.033967,    0.033973,    0.033978,    0.033983,\n",
      "           0.034028,    0.034035,    0.034042,    0.034056,    0.034061,    0.034077,    0.033589,    0.033625,    0.033519,    0.033319,    0.033139,    0.033149,    0.033162,    0.033191,    0.033201,    0.033233,    0.033244,    0.032898,    0.032681,    0.032456,    0.032264,    0.031775,    0.031796,\n",
      "           0.031809,    0.031817,    0.031862,    0.031887,      0.0319,    0.031911,    0.031917,    0.031955,    0.031977,    0.031985,    0.031505,    0.031514,    0.031544,    0.031567,    0.031594,    0.031626,    0.031133,    0.030651,    0.030659,    0.029672,    0.029682,    0.029689,    0.029703,\n",
      "           0.029708,    0.029731,    0.029754,    0.029765,    0.029787,    0.029797,      0.0298,    0.029803,    0.029818,    0.029825,    0.029836,    0.029853,    0.029872,    0.029903,    0.029932,    0.029944,    0.029961,    0.029965,    0.029971,    0.030001,     0.03001,    0.030017,    0.030042,\n",
      "           0.030059,    0.030074,    0.030111,    0.030126,    0.030141,    0.030168,    0.030205,    0.030235,     0.03026,    0.030286,    0.029775,    0.029784,     0.02979,    0.029273,    0.029289,    0.029304,    0.029313,    0.029327,    0.029338,    0.028842,    0.028865,    0.028896,    0.028911,\n",
      "           0.028941,    0.028948,    0.028953,    0.028964,    0.028967,    0.028973,    0.028982,     0.02899,    0.028999,     0.02903,    0.029053,    0.029079,    0.029098,    0.029114,    0.029128,    0.029147,    0.029165,    0.029192,    0.029223,    0.029238,    0.029245,    0.029215,    0.028736,\n",
      "           0.028762,     0.02878,    0.028802,    0.028808,    0.028813,    0.028306,    0.028308,     0.02832,    0.028342,    0.028393,    0.028398,    0.027885,    0.027895,    0.027908,    0.027925,    0.027938,    0.027963,    0.027985,    0.027472,     0.02756,    0.027574,    0.027609,    0.027622,\n",
      "           0.027088,     0.02711,    0.027144,    0.027172,    0.027187,    0.027212,    0.027234,    0.027276,    0.027285,    0.027302,    0.027328,    0.027345,    0.027357,    0.027388,    0.027419,    0.027434,    0.027452,      0.0275,    0.027512,    0.027549,    0.027566,    0.027583,    0.027592,\n",
      "           0.027622,     0.02765,    0.027682,    0.027156,    0.027174,    0.027184,    0.027195,    0.027229,    0.027258,    0.027274,    0.027312,    0.027325,    0.027346,    0.027361,     0.02739,    0.027395,    0.027422,    0.027433,    0.027465,    0.027473,    0.027483,    0.027507,    0.027549,\n",
      "           0.027591,    0.027607,     0.02762,    0.027642,    0.027673,      0.0277,    0.027731,    0.027776,    0.027703,    0.027253,    0.027267,    0.027306,    0.027329,    0.027362,    0.027383,    0.027397,     0.02741,     0.02745,    0.027486,    0.027525,    0.027568,    0.027579,    0.027017,\n",
      "           0.027039,    0.026506,    0.026539,     0.02655,    0.026564,    0.026608,    0.026048,    0.025491,    0.025504,    0.025033,    0.024394,    0.024417,    0.024454,    0.024481,    0.023914,    0.023952,       0.024,    0.024043,    0.023644,      0.0235,    0.022932,    0.022779,    0.022389,\n",
      "           0.022419,    0.022477,    0.022485,    0.022519,    0.021948,    0.021963,    0.021578,    0.021423,    0.021442,    0.021462,     0.02091,    0.020963,    0.020996,    0.021014,    0.021034,    0.021088,    0.021122,    0.021169,    0.021194,    0.021209,     0.02126,    0.021287,    0.021317,\n",
      "           0.021338,    0.020759,    0.020782,    0.020796,     0.02084,    0.020887,    0.019657,    0.019674,      0.0197,    0.019712,    0.019725,     0.01976,    0.019793,    0.019178,    0.018603,    0.018626,    0.018647,    0.017966,    0.017409,    0.017453,    0.017471,    0.017525,    0.016912,\n",
      "           0.016925,    0.016956,     0.01697,    0.016992,    0.016387,    0.016426,    0.016452,    0.016474,    0.016496,    0.016522,    0.016577,     0.01662,    0.016648,    0.016693,    0.016093,    0.016133,    0.016167,    0.016214,    0.016238,    0.016289,    0.015642,     0.01567,    0.015716,\n",
      "           0.015747,    0.015773,    0.015804,    0.015823,    0.015851,    0.015878,     0.01591,    0.015935,    0.015964,    0.015994,    0.016029,    0.016076,    0.016111,    0.015448,    0.015482,     0.01552,    0.015565,    0.015592,    0.015636,    0.015664,    0.015709,    0.015721,    0.015752,\n",
      "           0.015082,    0.015091,    0.015107,    0.015134,    0.015162,    0.015204,    0.015253,    0.015309,    0.015356,    0.015388,    0.015454,    0.014976,    0.014778,    0.014821,    0.014849,    0.014865,    0.014899,    0.014918,    0.014987,    0.015027,    0.014843,    0.014327,    0.014389,\n",
      "           0.014429,    0.014468,    0.014516,    0.014573,    0.014603,    0.014637,    0.014698,    0.013975,    0.014014,    0.014031,    0.014076,    0.014102,    0.014133,    0.013377,    0.013395,    0.013027,     0.01107,    0.011093,    0.011073,   0.0095497,   0.0087741,   0.0087947,   0.0088115,\n",
      "          0.0080247,   0.0080423,   0.0072612,    0.006979,   0.0049645,   0.0048655,   0.0048797,   0.0040752,   0.0032735,   0.0032815,   0.0032838,   0.0032867,   0.0032931,   0.0032942,   0.0032958,   0.0032978,   0.0033052,   0.0033119,   0.0024897,    0.002495,   0.0024976,   0.0024993,   0.0016833,\n",
      "                  0,           0,           0,           0,           0,           0,           0,           0,           0,           0,           0,           0,           0,           0,           0,           0,           0,           0,           0,           0,           0,           0,           0,\n",
      "                  0,           0,           0,           0,           0,           0,           0,           0,           0,           0,           0,           0,           0,           0,           0,           0,           0,           0,           0,           0,           0,           0,           0,\n",
      "                  0,           0,           0,           0,           0,           0,           0,           0,           0,           0,           0,           0,           0,           0,           0,           0,           0,           0,           0,           0,           0,           0,           0,\n",
      "                  0,           0,           0,           0,           0,           0,           0,           0,           0,           0,           0,           0,           0,           0,           0,           0,           0,           0,           0,           0,           0,           0,           0,\n",
      "                  0,           0,           0,           0,           0,           0,           0,           0,           0,           0,           0,           0,           0,           0,           0,           0,           0,           0,           0,           0,           0,           0,           0,\n",
      "                  0,           0,           0,           0,           0,           0,           0,           0,           0,           0,           0]]), 'Confidence', 'F1'], [array([          0,    0.001001,    0.002002,    0.003003,    0.004004,    0.005005,    0.006006,    0.007007,    0.008008,    0.009009,     0.01001,    0.011011,    0.012012,    0.013013,    0.014014,    0.015015,    0.016016,    0.017017,    0.018018,    0.019019,     0.02002,    0.021021,    0.022022,    0.023023,\n",
      "          0.024024,    0.025025,    0.026026,    0.027027,    0.028028,    0.029029,     0.03003,    0.031031,    0.032032,    0.033033,    0.034034,    0.035035,    0.036036,    0.037037,    0.038038,    0.039039,     0.04004,    0.041041,    0.042042,    0.043043,    0.044044,    0.045045,    0.046046,    0.047047,\n",
      "          0.048048,    0.049049,     0.05005,    0.051051,    0.052052,    0.053053,    0.054054,    0.055055,    0.056056,    0.057057,    0.058058,    0.059059,     0.06006,    0.061061,    0.062062,    0.063063,    0.064064,    0.065065,    0.066066,    0.067067,    0.068068,    0.069069,     0.07007,    0.071071,\n",
      "          0.072072,    0.073073,    0.074074,    0.075075,    0.076076,    0.077077,    0.078078,    0.079079,     0.08008,    0.081081,    0.082082,    0.083083,    0.084084,    0.085085,    0.086086,    0.087087,    0.088088,    0.089089,     0.09009,    0.091091,    0.092092,    0.093093,    0.094094,    0.095095,\n",
      "          0.096096,    0.097097,    0.098098,    0.099099,      0.1001,      0.1011,      0.1021,      0.1031,      0.1041,     0.10511,     0.10611,     0.10711,     0.10811,     0.10911,     0.11011,     0.11111,     0.11211,     0.11311,     0.11411,     0.11512,     0.11612,     0.11712,     0.11812,     0.11912,\n",
      "           0.12012,     0.12112,     0.12212,     0.12312,     0.12412,     0.12513,     0.12613,     0.12713,     0.12813,     0.12913,     0.13013,     0.13113,     0.13213,     0.13313,     0.13413,     0.13514,     0.13614,     0.13714,     0.13814,     0.13914,     0.14014,     0.14114,     0.14214,     0.14314,\n",
      "           0.14414,     0.14515,     0.14615,     0.14715,     0.14815,     0.14915,     0.15015,     0.15115,     0.15215,     0.15315,     0.15415,     0.15516,     0.15616,     0.15716,     0.15816,     0.15916,     0.16016,     0.16116,     0.16216,     0.16316,     0.16416,     0.16517,     0.16617,     0.16717,\n",
      "           0.16817,     0.16917,     0.17017,     0.17117,     0.17217,     0.17317,     0.17417,     0.17518,     0.17618,     0.17718,     0.17818,     0.17918,     0.18018,     0.18118,     0.18218,     0.18318,     0.18418,     0.18519,     0.18619,     0.18719,     0.18819,     0.18919,     0.19019,     0.19119,\n",
      "           0.19219,     0.19319,     0.19419,      0.1952,      0.1962,      0.1972,      0.1982,      0.1992,      0.2002,      0.2012,      0.2022,      0.2032,      0.2042,     0.20521,     0.20621,     0.20721,     0.20821,     0.20921,     0.21021,     0.21121,     0.21221,     0.21321,     0.21421,     0.21522,\n",
      "           0.21622,     0.21722,     0.21822,     0.21922,     0.22022,     0.22122,     0.22222,     0.22322,     0.22422,     0.22523,     0.22623,     0.22723,     0.22823,     0.22923,     0.23023,     0.23123,     0.23223,     0.23323,     0.23423,     0.23524,     0.23624,     0.23724,     0.23824,     0.23924,\n",
      "           0.24024,     0.24124,     0.24224,     0.24324,     0.24424,     0.24525,     0.24625,     0.24725,     0.24825,     0.24925,     0.25025,     0.25125,     0.25225,     0.25325,     0.25425,     0.25526,     0.25626,     0.25726,     0.25826,     0.25926,     0.26026,     0.26126,     0.26226,     0.26326,\n",
      "           0.26426,     0.26527,     0.26627,     0.26727,     0.26827,     0.26927,     0.27027,     0.27127,     0.27227,     0.27327,     0.27427,     0.27528,     0.27628,     0.27728,     0.27828,     0.27928,     0.28028,     0.28128,     0.28228,     0.28328,     0.28428,     0.28529,     0.28629,     0.28729,\n",
      "           0.28829,     0.28929,     0.29029,     0.29129,     0.29229,     0.29329,     0.29429,      0.2953,      0.2963,      0.2973,      0.2983,      0.2993,      0.3003,      0.3013,      0.3023,      0.3033,      0.3043,     0.30531,     0.30631,     0.30731,     0.30831,     0.30931,     0.31031,     0.31131,\n",
      "           0.31231,     0.31331,     0.31431,     0.31532,     0.31632,     0.31732,     0.31832,     0.31932,     0.32032,     0.32132,     0.32232,     0.32332,     0.32432,     0.32533,     0.32633,     0.32733,     0.32833,     0.32933,     0.33033,     0.33133,     0.33233,     0.33333,     0.33433,     0.33534,\n",
      "           0.33634,     0.33734,     0.33834,     0.33934,     0.34034,     0.34134,     0.34234,     0.34334,     0.34434,     0.34535,     0.34635,     0.34735,     0.34835,     0.34935,     0.35035,     0.35135,     0.35235,     0.35335,     0.35435,     0.35536,     0.35636,     0.35736,     0.35836,     0.35936,\n",
      "           0.36036,     0.36136,     0.36236,     0.36336,     0.36436,     0.36537,     0.36637,     0.36737,     0.36837,     0.36937,     0.37037,     0.37137,     0.37237,     0.37337,     0.37437,     0.37538,     0.37638,     0.37738,     0.37838,     0.37938,     0.38038,     0.38138,     0.38238,     0.38338,\n",
      "           0.38438,     0.38539,     0.38639,     0.38739,     0.38839,     0.38939,     0.39039,     0.39139,     0.39239,     0.39339,     0.39439,      0.3954,      0.3964,      0.3974,      0.3984,      0.3994,      0.4004,      0.4014,      0.4024,      0.4034,      0.4044,     0.40541,     0.40641,     0.40741,\n",
      "           0.40841,     0.40941,     0.41041,     0.41141,     0.41241,     0.41341,     0.41441,     0.41542,     0.41642,     0.41742,     0.41842,     0.41942,     0.42042,     0.42142,     0.42242,     0.42342,     0.42442,     0.42543,     0.42643,     0.42743,     0.42843,     0.42943,     0.43043,     0.43143,\n",
      "           0.43243,     0.43343,     0.43443,     0.43544,     0.43644,     0.43744,     0.43844,     0.43944,     0.44044,     0.44144,     0.44244,     0.44344,     0.44444,     0.44545,     0.44645,     0.44745,     0.44845,     0.44945,     0.45045,     0.45145,     0.45245,     0.45345,     0.45445,     0.45546,\n",
      "           0.45646,     0.45746,     0.45846,     0.45946,     0.46046,     0.46146,     0.46246,     0.46346,     0.46446,     0.46547,     0.46647,     0.46747,     0.46847,     0.46947,     0.47047,     0.47147,     0.47247,     0.47347,     0.47447,     0.47548,     0.47648,     0.47748,     0.47848,     0.47948,\n",
      "           0.48048,     0.48148,     0.48248,     0.48348,     0.48448,     0.48549,     0.48649,     0.48749,     0.48849,     0.48949,     0.49049,     0.49149,     0.49249,     0.49349,     0.49449,      0.4955,      0.4965,      0.4975,      0.4985,      0.4995,      0.5005,      0.5015,      0.5025,      0.5035,\n",
      "            0.5045,     0.50551,     0.50651,     0.50751,     0.50851,     0.50951,     0.51051,     0.51151,     0.51251,     0.51351,     0.51451,     0.51552,     0.51652,     0.51752,     0.51852,     0.51952,     0.52052,     0.52152,     0.52252,     0.52352,     0.52452,     0.52553,     0.52653,     0.52753,\n",
      "           0.52853,     0.52953,     0.53053,     0.53153,     0.53253,     0.53353,     0.53453,     0.53554,     0.53654,     0.53754,     0.53854,     0.53954,     0.54054,     0.54154,     0.54254,     0.54354,     0.54454,     0.54555,     0.54655,     0.54755,     0.54855,     0.54955,     0.55055,     0.55155,\n",
      "           0.55255,     0.55355,     0.55455,     0.55556,     0.55656,     0.55756,     0.55856,     0.55956,     0.56056,     0.56156,     0.56256,     0.56356,     0.56456,     0.56557,     0.56657,     0.56757,     0.56857,     0.56957,     0.57057,     0.57157,     0.57257,     0.57357,     0.57457,     0.57558,\n",
      "           0.57658,     0.57758,     0.57858,     0.57958,     0.58058,     0.58158,     0.58258,     0.58358,     0.58458,     0.58559,     0.58659,     0.58759,     0.58859,     0.58959,     0.59059,     0.59159,     0.59259,     0.59359,     0.59459,      0.5956,      0.5966,      0.5976,      0.5986,      0.5996,\n",
      "            0.6006,      0.6016,      0.6026,      0.6036,      0.6046,     0.60561,     0.60661,     0.60761,     0.60861,     0.60961,     0.61061,     0.61161,     0.61261,     0.61361,     0.61461,     0.61562,     0.61662,     0.61762,     0.61862,     0.61962,     0.62062,     0.62162,     0.62262,     0.62362,\n",
      "           0.62462,     0.62563,     0.62663,     0.62763,     0.62863,     0.62963,     0.63063,     0.63163,     0.63263,     0.63363,     0.63463,     0.63564,     0.63664,     0.63764,     0.63864,     0.63964,     0.64064,     0.64164,     0.64264,     0.64364,     0.64464,     0.64565,     0.64665,     0.64765,\n",
      "           0.64865,     0.64965,     0.65065,     0.65165,     0.65265,     0.65365,     0.65465,     0.65566,     0.65666,     0.65766,     0.65866,     0.65966,     0.66066,     0.66166,     0.66266,     0.66366,     0.66466,     0.66567,     0.66667,     0.66767,     0.66867,     0.66967,     0.67067,     0.67167,\n",
      "           0.67267,     0.67367,     0.67467,     0.67568,     0.67668,     0.67768,     0.67868,     0.67968,     0.68068,     0.68168,     0.68268,     0.68368,     0.68468,     0.68569,     0.68669,     0.68769,     0.68869,     0.68969,     0.69069,     0.69169,     0.69269,     0.69369,     0.69469,      0.6957,\n",
      "            0.6967,      0.6977,      0.6987,      0.6997,      0.7007,      0.7017,      0.7027,      0.7037,      0.7047,     0.70571,     0.70671,     0.70771,     0.70871,     0.70971,     0.71071,     0.71171,     0.71271,     0.71371,     0.71471,     0.71572,     0.71672,     0.71772,     0.71872,     0.71972,\n",
      "           0.72072,     0.72172,     0.72272,     0.72372,     0.72472,     0.72573,     0.72673,     0.72773,     0.72873,     0.72973,     0.73073,     0.73173,     0.73273,     0.73373,     0.73473,     0.73574,     0.73674,     0.73774,     0.73874,     0.73974,     0.74074,     0.74174,     0.74274,     0.74374,\n",
      "           0.74474,     0.74575,     0.74675,     0.74775,     0.74875,     0.74975,     0.75075,     0.75175,     0.75275,     0.75375,     0.75475,     0.75576,     0.75676,     0.75776,     0.75876,     0.75976,     0.76076,     0.76176,     0.76276,     0.76376,     0.76476,     0.76577,     0.76677,     0.76777,\n",
      "           0.76877,     0.76977,     0.77077,     0.77177,     0.77277,     0.77377,     0.77477,     0.77578,     0.77678,     0.77778,     0.77878,     0.77978,     0.78078,     0.78178,     0.78278,     0.78378,     0.78478,     0.78579,     0.78679,     0.78779,     0.78879,     0.78979,     0.79079,     0.79179,\n",
      "           0.79279,     0.79379,     0.79479,      0.7958,      0.7968,      0.7978,      0.7988,      0.7998,      0.8008,      0.8018,      0.8028,      0.8038,      0.8048,     0.80581,     0.80681,     0.80781,     0.80881,     0.80981,     0.81081,     0.81181,     0.81281,     0.81381,     0.81481,     0.81582,\n",
      "           0.81682,     0.81782,     0.81882,     0.81982,     0.82082,     0.82182,     0.82282,     0.82382,     0.82482,     0.82583,     0.82683,     0.82783,     0.82883,     0.82983,     0.83083,     0.83183,     0.83283,     0.83383,     0.83483,     0.83584,     0.83684,     0.83784,     0.83884,     0.83984,\n",
      "           0.84084,     0.84184,     0.84284,     0.84384,     0.84484,     0.84585,     0.84685,     0.84785,     0.84885,     0.84985,     0.85085,     0.85185,     0.85285,     0.85385,     0.85485,     0.85586,     0.85686,     0.85786,     0.85886,     0.85986,     0.86086,     0.86186,     0.86286,     0.86386,\n",
      "           0.86486,     0.86587,     0.86687,     0.86787,     0.86887,     0.86987,     0.87087,     0.87187,     0.87287,     0.87387,     0.87487,     0.87588,     0.87688,     0.87788,     0.87888,     0.87988,     0.88088,     0.88188,     0.88288,     0.88388,     0.88488,     0.88589,     0.88689,     0.88789,\n",
      "           0.88889,     0.88989,     0.89089,     0.89189,     0.89289,     0.89389,     0.89489,      0.8959,      0.8969,      0.8979,      0.8989,      0.8999,      0.9009,      0.9019,      0.9029,      0.9039,      0.9049,     0.90591,     0.90691,     0.90791,     0.90891,     0.90991,     0.91091,     0.91191,\n",
      "           0.91291,     0.91391,     0.91491,     0.91592,     0.91692,     0.91792,     0.91892,     0.91992,     0.92092,     0.92192,     0.92292,     0.92392,     0.92492,     0.92593,     0.92693,     0.92793,     0.92893,     0.92993,     0.93093,     0.93193,     0.93293,     0.93393,     0.93493,     0.93594,\n",
      "           0.93694,     0.93794,     0.93894,     0.93994,     0.94094,     0.94194,     0.94294,     0.94394,     0.94494,     0.94595,     0.94695,     0.94795,     0.94895,     0.94995,     0.95095,     0.95195,     0.95295,     0.95395,     0.95495,     0.95596,     0.95696,     0.95796,     0.95896,     0.95996,\n",
      "           0.96096,     0.96196,     0.96296,     0.96396,     0.96496,     0.96597,     0.96697,     0.96797,     0.96897,     0.96997,     0.97097,     0.97197,     0.97297,     0.97397,     0.97497,     0.97598,     0.97698,     0.97798,     0.97898,     0.97998,     0.98098,     0.98198,     0.98298,     0.98398,\n",
      "           0.98498,     0.98599,     0.98699,     0.98799,     0.98899,     0.98999,     0.99099,     0.99199,     0.99299,     0.99399,     0.99499,       0.996,       0.997,       0.998,       0.999,           1]), array([[  0.0070452,   0.0070485,    0.010456,    0.012887,    0.015025,    0.016893,    0.018636,    0.019651,    0.020926,    0.021966,    0.022944,    0.023939,    0.024945,    0.025685,    0.026413,     0.02726,    0.027382,    0.028105,    0.028878,    0.029714,    0.030413,    0.030951,    0.031398,\n",
      "           0.031874,    0.031889,    0.032145,    0.032596,    0.033053,    0.033564,    0.033911,    0.034407,    0.034215,    0.034748,    0.035241,    0.035707,    0.036177,    0.036396,    0.036644,    0.036817,     0.03717,     0.03675,    0.036823,    0.037231,     0.03754,    0.037626,    0.037867,\n",
      "           0.037631,    0.037751,    0.038024,    0.037835,    0.037711,    0.037784,    0.037892,    0.037907,    0.038106,    0.038376,     0.03839,    0.038333,    0.038572,    0.038209,    0.038418,    0.038635,    0.038881,    0.038861,    0.039104,     0.03945,      0.0397,    0.039962,    0.040139,\n",
      "           0.040354,     0.03995,    0.040177,    0.040089,    0.040289,    0.040472,    0.040701,    0.040546,    0.040797,     0.04096,    0.041215,    0.041462,    0.041286,    0.041543,    0.041742,    0.041866,    0.041805,    0.041705,    0.041809,    0.041659,    0.041867,    0.042033,    0.042198,\n",
      "           0.042359,    0.042593,     0.04279,    0.042904,    0.043037,    0.043103,    0.043288,    0.043455,    0.043698,    0.043862,    0.043987,    0.043785,    0.043918,    0.044094,    0.044213,     0.04434,    0.044425,    0.044538,    0.044349,    0.044497,    0.044668,    0.044469,    0.044606,\n",
      "           0.044818,    0.044926,    0.044929,    0.044801,    0.044909,    0.045006,     0.04511,    0.045272,    0.045367,     0.04551,    0.045624,    0.045733,    0.045885,    0.045947,    0.046004,    0.046111,    0.046182,    0.046348,    0.046439,    0.046532,    0.046584,    0.046666,    0.046785,\n",
      "           0.046942,    0.047063,    0.047141,    0.047224,    0.047402,    0.047569,    0.047647,    0.047715,    0.047396,    0.047506,    0.047669,    0.047843,    0.047893,    0.048011,    0.048082,    0.048219,    0.047951,    0.048073,    0.048152,     0.04821,    0.048299,    0.048407,    0.048528,\n",
      "           0.048714,     0.04883,    0.048996,    0.049129,    0.049244,     0.04926,    0.049333,    0.049425,    0.049531,    0.049646,    0.049742,    0.049441,    0.049498,    0.049562,    0.049315,    0.049423,    0.049529,    0.049664,    0.049383,    0.049472,    0.049578,    0.049723,     0.04978,\n",
      "           0.049497,    0.049529,    0.049576,    0.049691,    0.049389,    0.049486,    0.049563,    0.049277,    0.049381,    0.049469,    0.049519,    0.049532,    0.049665,    0.049732,    0.049785,    0.049851,    0.049933,    0.050007,    0.050055,    0.050168,    0.050272,    0.050294,    0.049923,\n",
      "            0.04961,    0.049699,     0.04972,    0.049829,    0.049883,     0.04996,    0.050073,    0.050139,    0.049367,    0.049429,    0.049099,    0.049177,    0.049189,    0.049213,    0.049275,    0.049304,    0.049355,    0.049413,    0.049468,    0.049151,    0.049214,    0.049302,    0.049397,\n",
      "           0.048991,    0.049065,    0.049112,    0.049133,    0.049195,    0.048889,    0.048947,    0.048988,    0.049033,     0.04877,    0.047957,    0.048038,    0.048105,    0.048184,    0.048239,    0.048328,     0.04837,    0.048486,    0.048525,    0.048664,     0.04871,    0.048801,     0.04888,\n",
      "           0.048945,    0.048982,     0.04901,    0.049065,    0.049174,    0.049267,    0.048919,    0.048945,    0.049013,    0.049071,      0.0487,    0.048755,    0.048825,    0.048891,    0.048947,      0.0491,    0.048836,    0.048956,    0.049001,    0.049062,    0.049141,    0.049214,     0.04928,\n",
      "           0.049338,    0.049365,      0.0494,    0.048673,    0.048616,    0.048659,    0.048736,    0.048759,    0.048779,    0.048821,    0.048902,     0.04901,    0.049098,    0.049142,     0.04878,    0.048813,    0.048839,    0.048882,    0.048961,    0.049042,    0.048677,     0.04875,    0.048353,\n",
      "            0.04842,    0.048472,    0.048071,    0.048182,    0.048243,    0.047522,    0.047399,    0.047443,    0.047408,    0.047086,    0.047148,    0.047225,     0.04727,     0.04732,    0.047354,    0.047389,    0.047454,    0.047469,    0.047526,     0.04754,    0.047601,    0.047151,    0.047214,\n",
      "           0.047266,    0.047345,    0.047434,    0.047526,    0.047719,    0.047739,    0.047798,    0.047865,    0.047913,    0.047939,    0.047979,    0.047599,    0.047434,    0.047286,    0.046625,    0.046405,    0.046465,    0.046508,    0.046055,    0.046123,    0.046149,    0.046172,    0.046231,\n",
      "           0.046306,    0.046319,    0.046269,     0.04545,    0.044926,    0.044985,    0.045022,    0.045103,    0.045118,    0.045199,    0.045268,    0.045319,    0.045331,    0.045357,     0.04487,    0.044897,    0.044975,    0.045019,     0.04504,    0.045115,    0.045173,    0.045251,     0.04528,\n",
      "           0.045312,    0.045375,    0.045416,    0.045446,    0.045567,    0.045618,    0.045118,    0.045193,    0.045246,     0.04531,     0.04534,    0.045113,    0.044863,    0.044934,    0.044949,    0.044963,    0.045028,    0.045065,     0.04508,      0.0451,    0.045189,    0.045331,     0.04541,\n",
      "           0.045428,    0.045526,    0.045612,    0.045636,    0.045646,    0.045677,    0.045749,     0.04579,    0.045474,    0.045393,    0.045487,    0.045004,    0.045035,    0.045079,    0.045148,    0.045245,    0.045293,    0.045347,    0.044826,    0.044879,    0.044945,    0.044957,    0.044969,\n",
      "           0.045024,    0.045066,    0.045141,    0.044637,    0.044451,    0.044145,     0.04416,    0.043855,    0.043728,    0.042693,    0.042719,    0.042822,    0.042343,    0.042412,    0.042425,    0.042529,    0.042574,    0.042629,    0.042666,    0.042726,     0.04276,    0.042778,    0.042793,\n",
      "           0.042819,    0.042859,    0.042882,    0.042929,    0.042968,    0.042995,    0.042517,    0.041766,    0.041465,    0.041581,    0.041668,    0.041691,    0.041733,    0.041484,    0.041239,    0.041293,    0.041317,    0.041377,    0.040881,    0.040914,    0.040933,     0.04095,    0.040976,\n",
      "           0.041002,    0.041018,    0.041048,    0.041091,    0.041109,    0.041155,    0.040878,    0.040636,    0.040687,    0.040758,    0.040799,    0.040813,    0.040874,    0.040896,    0.040909,     0.04092,    0.040931,    0.040952,    0.041065,    0.040534,    0.040549,    0.040564,    0.040578,\n",
      "           0.040706,    0.040726,    0.040746,    0.040787,    0.040802,    0.040847,    0.040296,    0.040402,      0.0403,    0.040065,    0.039855,    0.039886,    0.039924,    0.040006,    0.040036,     0.04013,    0.040161,     0.03976,    0.039534,    0.039267,    0.039052,      0.0385,    0.038562,\n",
      "           0.038598,    0.038624,    0.038755,     0.03883,    0.038868,    0.038902,    0.038917,    0.039032,    0.039097,    0.039163,    0.038598,    0.038625,    0.038716,    0.038784,    0.038866,    0.038963,    0.038403,    0.037875,    0.037898,    0.036775,    0.036805,    0.036827,     0.03687,\n",
      "           0.036886,    0.036956,    0.037026,     0.03706,     0.03713,    0.037159,    0.037169,    0.037179,    0.037225,    0.037247,    0.037281,    0.037335,    0.037394,    0.037491,    0.037585,     0.03762,    0.037674,    0.037687,    0.037706,    0.037801,     0.03783,    0.037853,    0.037931,\n",
      "           0.037986,    0.038035,    0.038153,    0.038201,    0.038251,    0.038336,    0.038455,    0.038553,    0.038634,     0.03872,    0.038108,    0.038135,    0.038157,    0.037523,    0.037577,    0.037625,    0.037657,    0.037703,    0.037738,    0.037176,    0.037253,    0.037357,    0.037408,\n",
      "           0.037507,    0.037532,    0.037546,    0.037584,    0.037596,    0.037614,    0.037646,    0.037672,    0.037701,    0.037808,    0.037884,    0.037974,    0.038041,    0.038094,    0.038142,    0.038206,     0.03827,    0.038363,     0.03847,     0.03852,    0.038545,    0.038558,    0.037944,\n",
      "           0.038037,    0.038101,    0.038177,    0.038197,    0.038213,    0.037574,     0.03763,    0.037672,     0.03775,    0.037931,    0.037952,    0.037339,    0.037375,    0.037422,    0.037481,     0.03753,    0.037621,    0.037701,     0.03709,    0.037412,    0.037463,    0.037594,    0.037642,\n",
      "           0.036957,     0.03704,    0.037167,    0.037274,    0.037329,    0.037422,    0.037505,    0.037667,    0.037701,    0.037765,    0.037865,    0.037929,    0.037978,    0.038097,    0.038216,    0.038275,    0.038345,    0.038532,    0.038582,    0.038725,    0.038793,     0.03886,    0.038895,\n",
      "           0.039017,    0.039126,    0.039255,     0.03861,    0.038683,    0.038725,    0.038768,    0.038908,    0.039029,    0.039092,     0.03925,    0.039305,     0.03939,    0.039454,    0.039574,    0.039595,    0.039706,    0.039756,    0.039887,    0.039924,    0.039966,    0.040065,    0.040245,\n",
      "           0.040425,    0.040492,    0.040549,    0.040643,    0.040777,    0.040897,    0.041033,    0.041229,    0.041224,    0.040616,    0.040681,    0.040855,    0.040955,    0.041106,    0.041201,    0.041262,     0.04132,    0.041503,     0.04167,    0.041849,    0.042048,    0.042098,    0.041321,\n",
      "           0.041424,     0.04078,    0.040939,    0.040988,    0.041058,    0.041269,    0.040502,    0.039751,    0.039816,    0.039224,    0.038334,     0.03845,    0.038633,    0.038769,    0.037976,    0.038166,    0.038412,    0.038632,    0.038095,     0.03797,    0.037175,    0.037015,    0.036519,\n",
      "           0.036676,    0.036992,    0.037035,    0.037222,    0.036419,    0.036501,    0.035937,     0.03588,    0.035987,    0.036101,    0.035415,     0.03572,    0.035916,    0.036017,    0.036135,    0.036461,    0.036664,    0.036949,    0.037099,    0.037193,    0.037509,    0.037678,    0.037863,\n",
      "           0.037998,    0.037187,    0.037337,    0.037425,    0.037717,    0.038025,    0.035961,    0.036075,    0.036251,    0.036331,    0.036417,    0.036655,    0.036883,    0.035859,    0.035119,    0.035282,    0.035435,    0.034311,    0.033337,    0.033663,    0.033799,     0.03421,    0.033217,\n",
      "           0.033318,    0.033559,    0.033668,    0.033843,    0.032932,    0.033248,    0.033463,    0.033643,     0.03383,    0.034046,    0.034517,    0.034894,    0.035141,    0.035546,    0.034748,     0.03513,    0.035449,    0.035904,    0.036139,    0.036656,    0.035448,    0.035743,    0.036226,\n",
      "           0.036557,    0.036833,    0.037176,    0.037384,    0.037699,    0.038009,    0.038377,     0.03867,    0.039022,    0.039378,    0.039808,    0.040395,    0.040837,    0.039556,        0.04,    0.040514,    0.041139,    0.041514,    0.042151,    0.042555,     0.04323,    0.043409,    0.043883,\n",
      "           0.042616,    0.042761,    0.043019,    0.043452,    0.043924,    0.044636,    0.045496,    0.046522,    0.047388,    0.048017,    0.049333,    0.048319,    0.048227,    0.049165,    0.049779,    0.050145,    0.050926,    0.051377,    0.053044,    0.054073,     0.05393,    0.052729,    0.054458,\n",
      "           0.055636,    0.056808,    0.058314,    0.060204,     0.06125,    0.062465,    0.064758,    0.063387,    0.065005,    0.065757,    0.067785,    0.068987,    0.070522,    0.068082,    0.069018,    0.068072,    0.058956,      0.0603,     0.06195,    0.054255,    0.051072,    0.052507,    0.053726,\n",
      "           0.049924,     0.05132,    0.048146,    0.047275,    0.034239,     0.03441,    0.035893,    0.030889,    0.026336,    0.027417,    0.027736,    0.028163,    0.029122,    0.029297,    0.029557,    0.029883,    0.031147,    0.032376,    0.025445,    0.026587,    0.027186,    0.027618,    0.019386,\n",
      "                  0,           0,           0,           0,           0,           0,           0,           0,           0,           0,           0,           0,           0,           0,           0,           0,           0,           0,           0,           0,           0,           0,           0,\n",
      "                  0,           0,           0,           0,           0,           0,           0,           0,           0,           0,           0,           0,           0,           0,           0,           0,           0,           0,           0,           0,           0,           0,           0,\n",
      "                  0,           0,           0,           0,           0,           0,           0,           0,           0,           0,           0,           0,           0,           0,           0,           0,           0,           0,           0,           0,           0,           0,           0,\n",
      "                  0,           0,           0,           0,           0,           0,           0,           0,           0,           0,           0,           0,           0,           0,           0,           0,           0,           0,           0,           0,           0,           0,           0,\n",
      "                  0,           0,           0,           0,           0,           0,           1,           1,           1,           1,           1,           1,           1,           1,           1,           1,           1,           1,           1,           1,           1,           1,           1,\n",
      "                  1,           1,           1,           1,           1,           1,           1,           1,           1,           1,           1]]), 'Confidence', 'Precision'], [array([          0,    0.001001,    0.002002,    0.003003,    0.004004,    0.005005,    0.006006,    0.007007,    0.008008,    0.009009,     0.01001,    0.011011,    0.012012,    0.013013,    0.014014,    0.015015,    0.016016,    0.017017,    0.018018,    0.019019,     0.02002,    0.021021,    0.022022,    0.023023,\n",
      "          0.024024,    0.025025,    0.026026,    0.027027,    0.028028,    0.029029,     0.03003,    0.031031,    0.032032,    0.033033,    0.034034,    0.035035,    0.036036,    0.037037,    0.038038,    0.039039,     0.04004,    0.041041,    0.042042,    0.043043,    0.044044,    0.045045,    0.046046,    0.047047,\n",
      "          0.048048,    0.049049,     0.05005,    0.051051,    0.052052,    0.053053,    0.054054,    0.055055,    0.056056,    0.057057,    0.058058,    0.059059,     0.06006,    0.061061,    0.062062,    0.063063,    0.064064,    0.065065,    0.066066,    0.067067,    0.068068,    0.069069,     0.07007,    0.071071,\n",
      "          0.072072,    0.073073,    0.074074,    0.075075,    0.076076,    0.077077,    0.078078,    0.079079,     0.08008,    0.081081,    0.082082,    0.083083,    0.084084,    0.085085,    0.086086,    0.087087,    0.088088,    0.089089,     0.09009,    0.091091,    0.092092,    0.093093,    0.094094,    0.095095,\n",
      "          0.096096,    0.097097,    0.098098,    0.099099,      0.1001,      0.1011,      0.1021,      0.1031,      0.1041,     0.10511,     0.10611,     0.10711,     0.10811,     0.10911,     0.11011,     0.11111,     0.11211,     0.11311,     0.11411,     0.11512,     0.11612,     0.11712,     0.11812,     0.11912,\n",
      "           0.12012,     0.12112,     0.12212,     0.12312,     0.12412,     0.12513,     0.12613,     0.12713,     0.12813,     0.12913,     0.13013,     0.13113,     0.13213,     0.13313,     0.13413,     0.13514,     0.13614,     0.13714,     0.13814,     0.13914,     0.14014,     0.14114,     0.14214,     0.14314,\n",
      "           0.14414,     0.14515,     0.14615,     0.14715,     0.14815,     0.14915,     0.15015,     0.15115,     0.15215,     0.15315,     0.15415,     0.15516,     0.15616,     0.15716,     0.15816,     0.15916,     0.16016,     0.16116,     0.16216,     0.16316,     0.16416,     0.16517,     0.16617,     0.16717,\n",
      "           0.16817,     0.16917,     0.17017,     0.17117,     0.17217,     0.17317,     0.17417,     0.17518,     0.17618,     0.17718,     0.17818,     0.17918,     0.18018,     0.18118,     0.18218,     0.18318,     0.18418,     0.18519,     0.18619,     0.18719,     0.18819,     0.18919,     0.19019,     0.19119,\n",
      "           0.19219,     0.19319,     0.19419,      0.1952,      0.1962,      0.1972,      0.1982,      0.1992,      0.2002,      0.2012,      0.2022,      0.2032,      0.2042,     0.20521,     0.20621,     0.20721,     0.20821,     0.20921,     0.21021,     0.21121,     0.21221,     0.21321,     0.21421,     0.21522,\n",
      "           0.21622,     0.21722,     0.21822,     0.21922,     0.22022,     0.22122,     0.22222,     0.22322,     0.22422,     0.22523,     0.22623,     0.22723,     0.22823,     0.22923,     0.23023,     0.23123,     0.23223,     0.23323,     0.23423,     0.23524,     0.23624,     0.23724,     0.23824,     0.23924,\n",
      "           0.24024,     0.24124,     0.24224,     0.24324,     0.24424,     0.24525,     0.24625,     0.24725,     0.24825,     0.24925,     0.25025,     0.25125,     0.25225,     0.25325,     0.25425,     0.25526,     0.25626,     0.25726,     0.25826,     0.25926,     0.26026,     0.26126,     0.26226,     0.26326,\n",
      "           0.26426,     0.26527,     0.26627,     0.26727,     0.26827,     0.26927,     0.27027,     0.27127,     0.27227,     0.27327,     0.27427,     0.27528,     0.27628,     0.27728,     0.27828,     0.27928,     0.28028,     0.28128,     0.28228,     0.28328,     0.28428,     0.28529,     0.28629,     0.28729,\n",
      "           0.28829,     0.28929,     0.29029,     0.29129,     0.29229,     0.29329,     0.29429,      0.2953,      0.2963,      0.2973,      0.2983,      0.2993,      0.3003,      0.3013,      0.3023,      0.3033,      0.3043,     0.30531,     0.30631,     0.30731,     0.30831,     0.30931,     0.31031,     0.31131,\n",
      "           0.31231,     0.31331,     0.31431,     0.31532,     0.31632,     0.31732,     0.31832,     0.31932,     0.32032,     0.32132,     0.32232,     0.32332,     0.32432,     0.32533,     0.32633,     0.32733,     0.32833,     0.32933,     0.33033,     0.33133,     0.33233,     0.33333,     0.33433,     0.33534,\n",
      "           0.33634,     0.33734,     0.33834,     0.33934,     0.34034,     0.34134,     0.34234,     0.34334,     0.34434,     0.34535,     0.34635,     0.34735,     0.34835,     0.34935,     0.35035,     0.35135,     0.35235,     0.35335,     0.35435,     0.35536,     0.35636,     0.35736,     0.35836,     0.35936,\n",
      "           0.36036,     0.36136,     0.36236,     0.36336,     0.36436,     0.36537,     0.36637,     0.36737,     0.36837,     0.36937,     0.37037,     0.37137,     0.37237,     0.37337,     0.37437,     0.37538,     0.37638,     0.37738,     0.37838,     0.37938,     0.38038,     0.38138,     0.38238,     0.38338,\n",
      "           0.38438,     0.38539,     0.38639,     0.38739,     0.38839,     0.38939,     0.39039,     0.39139,     0.39239,     0.39339,     0.39439,      0.3954,      0.3964,      0.3974,      0.3984,      0.3994,      0.4004,      0.4014,      0.4024,      0.4034,      0.4044,     0.40541,     0.40641,     0.40741,\n",
      "           0.40841,     0.40941,     0.41041,     0.41141,     0.41241,     0.41341,     0.41441,     0.41542,     0.41642,     0.41742,     0.41842,     0.41942,     0.42042,     0.42142,     0.42242,     0.42342,     0.42442,     0.42543,     0.42643,     0.42743,     0.42843,     0.42943,     0.43043,     0.43143,\n",
      "           0.43243,     0.43343,     0.43443,     0.43544,     0.43644,     0.43744,     0.43844,     0.43944,     0.44044,     0.44144,     0.44244,     0.44344,     0.44444,     0.44545,     0.44645,     0.44745,     0.44845,     0.44945,     0.45045,     0.45145,     0.45245,     0.45345,     0.45445,     0.45546,\n",
      "           0.45646,     0.45746,     0.45846,     0.45946,     0.46046,     0.46146,     0.46246,     0.46346,     0.46446,     0.46547,     0.46647,     0.46747,     0.46847,     0.46947,     0.47047,     0.47147,     0.47247,     0.47347,     0.47447,     0.47548,     0.47648,     0.47748,     0.47848,     0.47948,\n",
      "           0.48048,     0.48148,     0.48248,     0.48348,     0.48448,     0.48549,     0.48649,     0.48749,     0.48849,     0.48949,     0.49049,     0.49149,     0.49249,     0.49349,     0.49449,      0.4955,      0.4965,      0.4975,      0.4985,      0.4995,      0.5005,      0.5015,      0.5025,      0.5035,\n",
      "            0.5045,     0.50551,     0.50651,     0.50751,     0.50851,     0.50951,     0.51051,     0.51151,     0.51251,     0.51351,     0.51451,     0.51552,     0.51652,     0.51752,     0.51852,     0.51952,     0.52052,     0.52152,     0.52252,     0.52352,     0.52452,     0.52553,     0.52653,     0.52753,\n",
      "           0.52853,     0.52953,     0.53053,     0.53153,     0.53253,     0.53353,     0.53453,     0.53554,     0.53654,     0.53754,     0.53854,     0.53954,     0.54054,     0.54154,     0.54254,     0.54354,     0.54454,     0.54555,     0.54655,     0.54755,     0.54855,     0.54955,     0.55055,     0.55155,\n",
      "           0.55255,     0.55355,     0.55455,     0.55556,     0.55656,     0.55756,     0.55856,     0.55956,     0.56056,     0.56156,     0.56256,     0.56356,     0.56456,     0.56557,     0.56657,     0.56757,     0.56857,     0.56957,     0.57057,     0.57157,     0.57257,     0.57357,     0.57457,     0.57558,\n",
      "           0.57658,     0.57758,     0.57858,     0.57958,     0.58058,     0.58158,     0.58258,     0.58358,     0.58458,     0.58559,     0.58659,     0.58759,     0.58859,     0.58959,     0.59059,     0.59159,     0.59259,     0.59359,     0.59459,      0.5956,      0.5966,      0.5976,      0.5986,      0.5996,\n",
      "            0.6006,      0.6016,      0.6026,      0.6036,      0.6046,     0.60561,     0.60661,     0.60761,     0.60861,     0.60961,     0.61061,     0.61161,     0.61261,     0.61361,     0.61461,     0.61562,     0.61662,     0.61762,     0.61862,     0.61962,     0.62062,     0.62162,     0.62262,     0.62362,\n",
      "           0.62462,     0.62563,     0.62663,     0.62763,     0.62863,     0.62963,     0.63063,     0.63163,     0.63263,     0.63363,     0.63463,     0.63564,     0.63664,     0.63764,     0.63864,     0.63964,     0.64064,     0.64164,     0.64264,     0.64364,     0.64464,     0.64565,     0.64665,     0.64765,\n",
      "           0.64865,     0.64965,     0.65065,     0.65165,     0.65265,     0.65365,     0.65465,     0.65566,     0.65666,     0.65766,     0.65866,     0.65966,     0.66066,     0.66166,     0.66266,     0.66366,     0.66466,     0.66567,     0.66667,     0.66767,     0.66867,     0.66967,     0.67067,     0.67167,\n",
      "           0.67267,     0.67367,     0.67467,     0.67568,     0.67668,     0.67768,     0.67868,     0.67968,     0.68068,     0.68168,     0.68268,     0.68368,     0.68468,     0.68569,     0.68669,     0.68769,     0.68869,     0.68969,     0.69069,     0.69169,     0.69269,     0.69369,     0.69469,      0.6957,\n",
      "            0.6967,      0.6977,      0.6987,      0.6997,      0.7007,      0.7017,      0.7027,      0.7037,      0.7047,     0.70571,     0.70671,     0.70771,     0.70871,     0.70971,     0.71071,     0.71171,     0.71271,     0.71371,     0.71471,     0.71572,     0.71672,     0.71772,     0.71872,     0.71972,\n",
      "           0.72072,     0.72172,     0.72272,     0.72372,     0.72472,     0.72573,     0.72673,     0.72773,     0.72873,     0.72973,     0.73073,     0.73173,     0.73273,     0.73373,     0.73473,     0.73574,     0.73674,     0.73774,     0.73874,     0.73974,     0.74074,     0.74174,     0.74274,     0.74374,\n",
      "           0.74474,     0.74575,     0.74675,     0.74775,     0.74875,     0.74975,     0.75075,     0.75175,     0.75275,     0.75375,     0.75475,     0.75576,     0.75676,     0.75776,     0.75876,     0.75976,     0.76076,     0.76176,     0.76276,     0.76376,     0.76476,     0.76577,     0.76677,     0.76777,\n",
      "           0.76877,     0.76977,     0.77077,     0.77177,     0.77277,     0.77377,     0.77477,     0.77578,     0.77678,     0.77778,     0.77878,     0.77978,     0.78078,     0.78178,     0.78278,     0.78378,     0.78478,     0.78579,     0.78679,     0.78779,     0.78879,     0.78979,     0.79079,     0.79179,\n",
      "           0.79279,     0.79379,     0.79479,      0.7958,      0.7968,      0.7978,      0.7988,      0.7998,      0.8008,      0.8018,      0.8028,      0.8038,      0.8048,     0.80581,     0.80681,     0.80781,     0.80881,     0.80981,     0.81081,     0.81181,     0.81281,     0.81381,     0.81481,     0.81582,\n",
      "           0.81682,     0.81782,     0.81882,     0.81982,     0.82082,     0.82182,     0.82282,     0.82382,     0.82482,     0.82583,     0.82683,     0.82783,     0.82883,     0.82983,     0.83083,     0.83183,     0.83283,     0.83383,     0.83483,     0.83584,     0.83684,     0.83784,     0.83884,     0.83984,\n",
      "           0.84084,     0.84184,     0.84284,     0.84384,     0.84484,     0.84585,     0.84685,     0.84785,     0.84885,     0.84985,     0.85085,     0.85185,     0.85285,     0.85385,     0.85485,     0.85586,     0.85686,     0.85786,     0.85886,     0.85986,     0.86086,     0.86186,     0.86286,     0.86386,\n",
      "           0.86486,     0.86587,     0.86687,     0.86787,     0.86887,     0.86987,     0.87087,     0.87187,     0.87287,     0.87387,     0.87487,     0.87588,     0.87688,     0.87788,     0.87888,     0.87988,     0.88088,     0.88188,     0.88288,     0.88388,     0.88488,     0.88589,     0.88689,     0.88789,\n",
      "           0.88889,     0.88989,     0.89089,     0.89189,     0.89289,     0.89389,     0.89489,      0.8959,      0.8969,      0.8979,      0.8989,      0.8999,      0.9009,      0.9019,      0.9029,      0.9039,      0.9049,     0.90591,     0.90691,     0.90791,     0.90891,     0.90991,     0.91091,     0.91191,\n",
      "           0.91291,     0.91391,     0.91491,     0.91592,     0.91692,     0.91792,     0.91892,     0.91992,     0.92092,     0.92192,     0.92292,     0.92392,     0.92492,     0.92593,     0.92693,     0.92793,     0.92893,     0.92993,     0.93093,     0.93193,     0.93293,     0.93393,     0.93493,     0.93594,\n",
      "           0.93694,     0.93794,     0.93894,     0.93994,     0.94094,     0.94194,     0.94294,     0.94394,     0.94494,     0.94595,     0.94695,     0.94795,     0.94895,     0.94995,     0.95095,     0.95195,     0.95295,     0.95395,     0.95495,     0.95596,     0.95696,     0.95796,     0.95896,     0.95996,\n",
      "           0.96096,     0.96196,     0.96296,     0.96396,     0.96496,     0.96597,     0.96697,     0.96797,     0.96897,     0.96997,     0.97097,     0.97197,     0.97297,     0.97397,     0.97497,     0.97598,     0.97698,     0.97798,     0.97898,     0.97998,     0.98098,     0.98198,     0.98298,     0.98398,\n",
      "           0.98498,     0.98599,     0.98699,     0.98799,     0.98899,     0.98999,     0.99099,     0.99199,     0.99299,     0.99399,     0.99499,       0.996,       0.997,       0.998,       0.999,           1]), array([[   0.089442,    0.089442,    0.085951,    0.082897,    0.082024,    0.081152,    0.081152,     0.07897,    0.078534,    0.077661,    0.076789,    0.076789,    0.076789,    0.076353,    0.075916,    0.075916,    0.074171,    0.074171,    0.074171,    0.074171,    0.074171,    0.074171,    0.073735,\n",
      "           0.073298,     0.07199,    0.071553,    0.071553,    0.071553,    0.071553,    0.071117,    0.071117,    0.069808,    0.069808,    0.069808,    0.069808,    0.069808,    0.069372,    0.068935,    0.068499,    0.068499,     0.06719,    0.066754,    0.066754,    0.066754,    0.066318,    0.066318,\n",
      "           0.065445,    0.065009,    0.065009,    0.064268,      0.0637,    0.063264,    0.062827,    0.062391,    0.062391,    0.062391,    0.061955,    0.061518,    0.061518,    0.060646,    0.060646,    0.060646,    0.060646,    0.060209,    0.060209,    0.060209,    0.060209,    0.060209,    0.060209,\n",
      "           0.060209,    0.059337,    0.059337,    0.058901,    0.058901,    0.058901,    0.058901,    0.058464,    0.058464,    0.058464,    0.058464,    0.058464,    0.058028,    0.058028,    0.058028,    0.058028,    0.057592,    0.057229,    0.057155,    0.056719,    0.056719,    0.056719,    0.056719,\n",
      "           0.056719,    0.056719,    0.056719,    0.056719,    0.056719,    0.056719,    0.056719,    0.056719,    0.056719,    0.056719,    0.056719,    0.056283,    0.056283,    0.056283,    0.056283,    0.056283,    0.056283,    0.056283,    0.055846,    0.055846,    0.055846,     0.05541,     0.05541,\n",
      "            0.05541,     0.05541,    0.055314,    0.054974,    0.054974,    0.054974,    0.054974,    0.054974,    0.054974,    0.054974,    0.054974,    0.054974,    0.054974,    0.054974,    0.054974,    0.054974,    0.054974,    0.054974,    0.054974,    0.054974,    0.054974,    0.054974,    0.054974,\n",
      "           0.054974,    0.054974,    0.054974,    0.054974,    0.054974,    0.054974,    0.054974,    0.054959,    0.054538,    0.054538,    0.054538,    0.054538,    0.054538,    0.054538,    0.054538,    0.054538,    0.054101,    0.054101,    0.054101,    0.054101,    0.054101,    0.054101,    0.054101,\n",
      "           0.054101,    0.054101,    0.054101,    0.054101,    0.054101,    0.054101,    0.054101,    0.054101,    0.054101,    0.054101,    0.054101,    0.053665,    0.053665,    0.053665,    0.053229,    0.053229,    0.053229,    0.053229,    0.052792,    0.052792,    0.052792,    0.052792,    0.052792,\n",
      "           0.052356,    0.052356,    0.052356,    0.052356,     0.05192,     0.05192,     0.05192,    0.051483,    0.051483,    0.051483,    0.051483,    0.051483,    0.051483,    0.051483,    0.051483,    0.051483,    0.051483,    0.051483,    0.051483,    0.051483,    0.051483,    0.051483,    0.051047,\n",
      "           0.050611,    0.050611,    0.050611,    0.050611,    0.050611,    0.050611,    0.050611,    0.050611,    0.049738,    0.049738,    0.049302,    0.049302,    0.049302,    0.049302,    0.049302,    0.049302,    0.049302,    0.049302,    0.049302,    0.048866,    0.048866,    0.048866,    0.048866,\n",
      "           0.048429,    0.048429,    0.048429,    0.048429,    0.048429,    0.047993,    0.047993,    0.047993,    0.047993,    0.047557,    0.046684,    0.046684,    0.046684,    0.046684,    0.046684,    0.046684,    0.046684,    0.046684,    0.046684,    0.046684,    0.046684,    0.046684,    0.046684,\n",
      "           0.046684,    0.046684,    0.046684,    0.046684,    0.046684,    0.046684,    0.046248,    0.046248,    0.046248,    0.046248,    0.045812,    0.045812,    0.045812,    0.045812,    0.045812,    0.045812,    0.045375,    0.045375,    0.045375,    0.045375,    0.045375,    0.045375,    0.045375,\n",
      "           0.045375,    0.045375,    0.045375,    0.044601,    0.044503,    0.044503,    0.044503,    0.044503,    0.044503,    0.044503,    0.044503,    0.044503,    0.044503,    0.044503,    0.044066,    0.044066,    0.044066,    0.044066,    0.044066,    0.044066,     0.04363,     0.04363,    0.043194,\n",
      "           0.043194,    0.043194,    0.042757,    0.042757,    0.042757,    0.042034,    0.041885,    0.041885,    0.041799,    0.041449,    0.041449,    0.041449,    0.041449,    0.041449,    0.041449,    0.041449,    0.041449,    0.041449,    0.041449,    0.041449,    0.041449,    0.041012,    0.041012,\n",
      "           0.041012,    0.041012,    0.041012,    0.041012,    0.041012,    0.041012,    0.041012,    0.041012,    0.041012,    0.041012,    0.041012,    0.040576,    0.040345,     0.04014,    0.039517,    0.039267,    0.039267,    0.039267,    0.038831,    0.038831,    0.038831,    0.038831,    0.038831,\n",
      "           0.038831,    0.038831,    0.038778,    0.038037,    0.037522,    0.037522,    0.037522,    0.037522,    0.037522,    0.037522,    0.037522,    0.037522,    0.037522,    0.037522,    0.037086,    0.037086,    0.037086,    0.037086,    0.037086,    0.037086,    0.037086,    0.037086,    0.037086,\n",
      "           0.037086,    0.037086,    0.037086,    0.037086,    0.037086,    0.037086,    0.036649,    0.036649,    0.036649,    0.036649,    0.036649,    0.036444,    0.036213,    0.036213,    0.036213,    0.036213,    0.036213,    0.036213,    0.036213,    0.036213,    0.036213,    0.036213,    0.036213,\n",
      "           0.036213,    0.036213,    0.036213,    0.036213,    0.036213,    0.036213,    0.036213,    0.036213,    0.035875,    0.035777,    0.035777,     0.03534,     0.03534,     0.03534,     0.03534,     0.03534,     0.03534,     0.03534,    0.034904,    0.034904,    0.034904,    0.034904,    0.034904,\n",
      "           0.034904,    0.034904,    0.034904,    0.034468,    0.034301,    0.034031,    0.034031,     0.03372,    0.033595,    0.032723,    0.032723,    0.032723,    0.032286,    0.032286,    0.032286,    0.032286,    0.032286,    0.032286,    0.032286,    0.032286,    0.032286,    0.032286,    0.032286,\n",
      "           0.032286,    0.032286,    0.032286,    0.032286,    0.032286,    0.032286,     0.03185,    0.031226,    0.030977,    0.030977,    0.030977,    0.030977,    0.030977,    0.030741,    0.030541,    0.030541,    0.030541,    0.030541,    0.030105,    0.030105,    0.030105,    0.030105,    0.030105,\n",
      "           0.030105,    0.030105,    0.030105,    0.030105,    0.030105,    0.030105,    0.029883,    0.029668,    0.029668,    0.029668,    0.029668,    0.029668,    0.029668,    0.029668,    0.029668,    0.029668,    0.029668,    0.029668,    0.029668,    0.029232,    0.029232,    0.029232,    0.029232,\n",
      "           0.029232,    0.029232,    0.029232,    0.029232,    0.029232,    0.029232,    0.028796,    0.028796,    0.028691,    0.028517,     0.02836,     0.02836,     0.02836,     0.02836,     0.02836,     0.02836,     0.02836,    0.028056,    0.027854,    0.027659,    0.027487,    0.027051,    0.027051,\n",
      "           0.027051,    0.027051,    0.027051,    0.027051,    0.027051,    0.027051,    0.027051,    0.027051,    0.027051,    0.027031,    0.026614,    0.026614,    0.026614,    0.026614,    0.026614,    0.026614,    0.026178,    0.025742,    0.025742,    0.024869,    0.024869,    0.024869,    0.024869,\n",
      "           0.024869,    0.024869,    0.024869,    0.024869,    0.024869,    0.024869,    0.024869,    0.024869,    0.024869,    0.024869,    0.024869,    0.024869,    0.024869,    0.024869,    0.024869,    0.024869,    0.024869,    0.024869,    0.024869,    0.024869,    0.024869,    0.024869,    0.024869,\n",
      "           0.024869,    0.024869,    0.024869,    0.024869,    0.024869,    0.024869,    0.024869,    0.024869,    0.024869,    0.024869,    0.024433,    0.024433,    0.024433,    0.023997,    0.023997,    0.023997,    0.023997,    0.023997,    0.023997,     0.02356,     0.02356,     0.02356,     0.02356,\n",
      "            0.02356,     0.02356,     0.02356,     0.02356,     0.02356,     0.02356,     0.02356,     0.02356,     0.02356,     0.02356,     0.02356,     0.02356,     0.02356,     0.02356,     0.02356,     0.02356,     0.02356,     0.02356,     0.02356,     0.02356,     0.02356,    0.023517,    0.023124,\n",
      "           0.023124,    0.023124,    0.023124,    0.023124,    0.023124,    0.022705,    0.022688,    0.022688,    0.022688,    0.022688,    0.022688,    0.022251,    0.022251,    0.022251,    0.022251,    0.022251,    0.022251,    0.022251,    0.021815,    0.021815,    0.021815,    0.021815,    0.021815,\n",
      "           0.021379,    0.021379,    0.021379,    0.021379,    0.021379,    0.021379,    0.021379,    0.021379,    0.021379,    0.021379,    0.021379,    0.021379,    0.021379,    0.021379,    0.021379,    0.021379,    0.021379,    0.021379,    0.021379,    0.021379,    0.021379,    0.021379,    0.021379,\n",
      "           0.021379,    0.021379,    0.021379,    0.020942,    0.020942,    0.020942,    0.020942,    0.020942,    0.020942,    0.020942,    0.020942,    0.020942,    0.020942,    0.020942,    0.020942,    0.020942,    0.020942,    0.020942,    0.020942,    0.020942,    0.020942,    0.020942,    0.020942,\n",
      "           0.020942,    0.020942,    0.020942,    0.020942,    0.020942,    0.020942,    0.020942,    0.020942,    0.020861,    0.020506,    0.020506,    0.020506,    0.020506,    0.020506,    0.020506,    0.020506,    0.020506,    0.020506,    0.020506,    0.020506,    0.020506,    0.020506,     0.02007,\n",
      "            0.02007,    0.019634,    0.019634,    0.019634,    0.019634,    0.019634,    0.019197,    0.018761,    0.018761,    0.018382,    0.017888,    0.017888,    0.017888,    0.017888,    0.017452,    0.017452,    0.017452,    0.017452,    0.017141,    0.017016,    0.016579,    0.016452,    0.016143,\n",
      "           0.016143,    0.016143,    0.016143,    0.016143,    0.015707,    0.015707,    0.015418,    0.015271,    0.015271,    0.015271,    0.014834,    0.014834,    0.014834,    0.014834,    0.014834,    0.014834,    0.014834,    0.014834,    0.014834,    0.014834,    0.014834,    0.014834,    0.014834,\n",
      "           0.014834,    0.014398,    0.014398,    0.014398,    0.014398,    0.014398,    0.013525,    0.013525,    0.013525,    0.013525,    0.013525,    0.013525,    0.013525,    0.013089,    0.012653,    0.012653,    0.012653,    0.012169,     0.01178,     0.01178,     0.01178,     0.01178,    0.011344,\n",
      "           0.011344,    0.011344,    0.011344,    0.011344,    0.010908,    0.010908,    0.010908,    0.010908,    0.010908,    0.010908,    0.010908,    0.010908,    0.010908,    0.010908,    0.010471,    0.010471,    0.010471,    0.010471,    0.010471,    0.010471,    0.010035,    0.010035,    0.010035,\n",
      "           0.010035,    0.010035,    0.010035,    0.010035,    0.010035,    0.010035,    0.010035,    0.010035,    0.010035,    0.010035,    0.010035,    0.010035,    0.010035,   0.0095986,   0.0095986,   0.0095986,   0.0095986,   0.0095986,   0.0095986,   0.0095986,   0.0095986,   0.0095986,   0.0095986,\n",
      "          0.0091623,   0.0091623,   0.0091623,   0.0091623,   0.0091623,   0.0091623,   0.0091623,   0.0091623,   0.0091623,   0.0091623,   0.0091623,    0.008861,    0.008726,    0.008726,    0.008726,    0.008726,    0.008726,    0.008726,    0.008726,    0.008726,   0.0086056,   0.0082897,   0.0082897,\n",
      "          0.0082897,   0.0082897,   0.0082897,   0.0082897,   0.0082897,   0.0082897,   0.0082897,   0.0078534,   0.0078534,   0.0078534,   0.0078534,   0.0078534,   0.0078534,   0.0074171,   0.0074171,   0.0072029,   0.0061082,   0.0061082,   0.0060798,   0.0052356,   0.0047993,   0.0047993,   0.0047993,\n",
      "           0.004363,    0.004363,   0.0039267,   0.0037676,   0.0026763,   0.0026178,   0.0026178,   0.0021815,   0.0017452,   0.0017452,   0.0017452,   0.0017452,   0.0017452,   0.0017452,   0.0017452,   0.0017452,   0.0017452,   0.0017452,   0.0013089,   0.0013089,   0.0013089,   0.0013089,  0.00087984,\n",
      "                  0,           0,           0,           0,           0,           0,           0,           0,           0,           0,           0,           0,           0,           0,           0,           0,           0,           0,           0,           0,           0,           0,           0,\n",
      "                  0,           0,           0,           0,           0,           0,           0,           0,           0,           0,           0,           0,           0,           0,           0,           0,           0,           0,           0,           0,           0,           0,           0,\n",
      "                  0,           0,           0,           0,           0,           0,           0,           0,           0,           0,           0,           0,           0,           0,           0,           0,           0,           0,           0,           0,           0,           0,           0,\n",
      "                  0,           0,           0,           0,           0,           0,           0,           0,           0,           0,           0,           0,           0,           0,           0,           0,           0,           0,           0,           0,           0,           0,           0,\n",
      "                  0,           0,           0,           0,           0,           0,           0,           0,           0,           0,           0,           0,           0,           0,           0,           0,           0,           0,           0,           0,           0,           0,           0,\n",
      "                  0,           0,           0,           0,           0,           0,           0,           0,           0,           0,           0]]), 'Confidence', 'Recall']]\n",
      "fitness: 0.003943921050949794\n",
      "keys: ['metrics/precision(B)', 'metrics/recall(B)', 'metrics/mAP50(B)', 'metrics/mAP50-95(B)']\n",
      "maps: array([  0.0035983])\n",
      "names: {0: 'gun'}\n",
      "plot: True\n",
      "results_dict: {'metrics/precision(B)': 0.04926040976573099, 'metrics/recall(B)': 0.05410122164048865, 'metrics/mAP50(B)': 0.007054458833042577, 'metrics/mAP50-95(B)': 0.003598305741828374, 'fitness': 0.003943921050949794}\n",
      "save_dir: WindowsPath('runs/detect/val2')\n",
      "speed: {'preprocess': 0.6580024274407965, 'inference': 10.618548812664505, 'loss': 0.0002721372010333139, 'postprocess': 1.5656439050156878}\n",
      "task: 'detect'\n"
     ]
    }
   ],
   "source": [
    "metrics = model.val(\n",
    "    data=r'C:\\Users\\dsy92\\OneDrive\\Desktop\\Weapon-Detection\\enhance_image\\weapon_data.yaml',\n",
    "    imgsz=640,\n",
    "    batch=32\n",
    ")\n",
    "\n",
    "print(metrics)  # mAP50, mAP50-95, precision, recall, etc.\n"
   ]
  },
  {
   "cell_type": "code",
   "execution_count": 37,
   "id": "dc887100",
   "metadata": {},
   "outputs": [
    {
     "name": "stdout",
     "output_type": "stream",
     "text": [
      "\n",
      "\n",
      "WARNING  inference results will accumulate in RAM unless `stream=True` is passed, causing potential out-of-memory\n",
      "errors for large sources or long-running streams and videos. See https://docs.ultralytics.com/modes/predict/ for help.\n",
      "\n",
      "Example:\n",
      "    results = model(source=..., stream=True)  # generator of Results objects\n",
      "    for r in results:\n",
      "        boxes = r.boxes  # Boxes object for bbox outputs\n",
      "        masks = r.masks  # Masks object for segment masks outputs\n",
      "        probs = r.probs  # Class probabilities for classification outputs\n",
      "\n",
      "video 1/1 (frame 1/117) C:\\Users\\dsy92\\OneDrive\\Desktop\\Weapon-Detection\\models\\vt2.mp4: 256x416 (no detections), 15.1ms\n",
      "video 1/1 (frame 2/117) C:\\Users\\dsy92\\OneDrive\\Desktop\\Weapon-Detection\\models\\vt2.mp4: 256x416 (no detections), 9.3ms\n",
      "video 1/1 (frame 3/117) C:\\Users\\dsy92\\OneDrive\\Desktop\\Weapon-Detection\\models\\vt2.mp4: 256x416 1 gun, 9.1ms\n",
      "video 1/1 (frame 4/117) C:\\Users\\dsy92\\OneDrive\\Desktop\\Weapon-Detection\\models\\vt2.mp4: 256x416 (no detections), 10.0ms\n",
      "video 1/1 (frame 5/117) C:\\Users\\dsy92\\OneDrive\\Desktop\\Weapon-Detection\\models\\vt2.mp4: 256x416 1 gun, 9.3ms\n",
      "video 1/1 (frame 6/117) C:\\Users\\dsy92\\OneDrive\\Desktop\\Weapon-Detection\\models\\vt2.mp4: 256x416 (no detections), 10.9ms\n",
      "video 1/1 (frame 7/117) C:\\Users\\dsy92\\OneDrive\\Desktop\\Weapon-Detection\\models\\vt2.mp4: 256x416 (no detections), 9.1ms\n",
      "video 1/1 (frame 8/117) C:\\Users\\dsy92\\OneDrive\\Desktop\\Weapon-Detection\\models\\vt2.mp4: 256x416 (no detections), 9.2ms\n",
      "video 1/1 (frame 9/117) C:\\Users\\dsy92\\OneDrive\\Desktop\\Weapon-Detection\\models\\vt2.mp4: 256x416 (no detections), 8.7ms\n",
      "video 1/1 (frame 10/117) C:\\Users\\dsy92\\OneDrive\\Desktop\\Weapon-Detection\\models\\vt2.mp4: 256x416 (no detections), 9.6ms\n",
      "video 1/1 (frame 11/117) C:\\Users\\dsy92\\OneDrive\\Desktop\\Weapon-Detection\\models\\vt2.mp4: 256x416 1 gun, 9.6ms\n",
      "video 1/1 (frame 12/117) C:\\Users\\dsy92\\OneDrive\\Desktop\\Weapon-Detection\\models\\vt2.mp4: 256x416 (no detections), 8.6ms\n",
      "video 1/1 (frame 13/117) C:\\Users\\dsy92\\OneDrive\\Desktop\\Weapon-Detection\\models\\vt2.mp4: 256x416 (no detections), 9.7ms\n",
      "video 1/1 (frame 14/117) C:\\Users\\dsy92\\OneDrive\\Desktop\\Weapon-Detection\\models\\vt2.mp4: 256x416 (no detections), 8.7ms\n",
      "video 1/1 (frame 15/117) C:\\Users\\dsy92\\OneDrive\\Desktop\\Weapon-Detection\\models\\vt2.mp4: 256x416 (no detections), 8.7ms\n",
      "video 1/1 (frame 16/117) C:\\Users\\dsy92\\OneDrive\\Desktop\\Weapon-Detection\\models\\vt2.mp4: 256x416 (no detections), 8.8ms\n",
      "video 1/1 (frame 17/117) C:\\Users\\dsy92\\OneDrive\\Desktop\\Weapon-Detection\\models\\vt2.mp4: 256x416 (no detections), 9.8ms\n",
      "video 1/1 (frame 18/117) C:\\Users\\dsy92\\OneDrive\\Desktop\\Weapon-Detection\\models\\vt2.mp4: 256x416 1 gun, 9.0ms\n",
      "video 1/1 (frame 19/117) C:\\Users\\dsy92\\OneDrive\\Desktop\\Weapon-Detection\\models\\vt2.mp4: 256x416 (no detections), 9.0ms\n",
      "video 1/1 (frame 20/117) C:\\Users\\dsy92\\OneDrive\\Desktop\\Weapon-Detection\\models\\vt2.mp4: 256x416 1 gun, 9.8ms\n",
      "video 1/1 (frame 21/117) C:\\Users\\dsy92\\OneDrive\\Desktop\\Weapon-Detection\\models\\vt2.mp4: 256x416 (no detections), 8.5ms\n",
      "video 1/1 (frame 22/117) C:\\Users\\dsy92\\OneDrive\\Desktop\\Weapon-Detection\\models\\vt2.mp4: 256x416 (no detections), 11.0ms\n",
      "video 1/1 (frame 23/117) C:\\Users\\dsy92\\OneDrive\\Desktop\\Weapon-Detection\\models\\vt2.mp4: 256x416 (no detections), 8.6ms\n",
      "video 1/1 (frame 24/117) C:\\Users\\dsy92\\OneDrive\\Desktop\\Weapon-Detection\\models\\vt2.mp4: 256x416 (no detections), 9.2ms\n",
      "video 1/1 (frame 25/117) C:\\Users\\dsy92\\OneDrive\\Desktop\\Weapon-Detection\\models\\vt2.mp4: 256x416 1 gun, 9.2ms\n",
      "video 1/1 (frame 26/117) C:\\Users\\dsy92\\OneDrive\\Desktop\\Weapon-Detection\\models\\vt2.mp4: 256x416 1 gun, 8.3ms\n",
      "video 1/1 (frame 27/117) C:\\Users\\dsy92\\OneDrive\\Desktop\\Weapon-Detection\\models\\vt2.mp4: 256x416 1 gun, 8.6ms\n",
      "video 1/1 (frame 28/117) C:\\Users\\dsy92\\OneDrive\\Desktop\\Weapon-Detection\\models\\vt2.mp4: 256x416 1 gun, 9.3ms\n",
      "video 1/1 (frame 29/117) C:\\Users\\dsy92\\OneDrive\\Desktop\\Weapon-Detection\\models\\vt2.mp4: 256x416 (no detections), 10.1ms\n",
      "video 1/1 (frame 30/117) C:\\Users\\dsy92\\OneDrive\\Desktop\\Weapon-Detection\\models\\vt2.mp4: 256x416 1 gun, 9.1ms\n",
      "video 1/1 (frame 31/117) C:\\Users\\dsy92\\OneDrive\\Desktop\\Weapon-Detection\\models\\vt2.mp4: 256x416 1 gun, 8.7ms\n",
      "video 1/1 (frame 32/117) C:\\Users\\dsy92\\OneDrive\\Desktop\\Weapon-Detection\\models\\vt2.mp4: 256x416 (no detections), 9.3ms\n",
      "video 1/1 (frame 33/117) C:\\Users\\dsy92\\OneDrive\\Desktop\\Weapon-Detection\\models\\vt2.mp4: 256x416 (no detections), 8.9ms\n",
      "video 1/1 (frame 34/117) C:\\Users\\dsy92\\OneDrive\\Desktop\\Weapon-Detection\\models\\vt2.mp4: 256x416 (no detections), 9.3ms\n",
      "video 1/1 (frame 35/117) C:\\Users\\dsy92\\OneDrive\\Desktop\\Weapon-Detection\\models\\vt2.mp4: 256x416 (no detections), 9.2ms\n",
      "video 1/1 (frame 36/117) C:\\Users\\dsy92\\OneDrive\\Desktop\\Weapon-Detection\\models\\vt2.mp4: 256x416 (no detections), 9.2ms\n",
      "video 1/1 (frame 37/117) C:\\Users\\dsy92\\OneDrive\\Desktop\\Weapon-Detection\\models\\vt2.mp4: 256x416 (no detections), 11.0ms\n",
      "video 1/1 (frame 38/117) C:\\Users\\dsy92\\OneDrive\\Desktop\\Weapon-Detection\\models\\vt2.mp4: 256x416 (no detections), 8.8ms\n",
      "video 1/1 (frame 39/117) C:\\Users\\dsy92\\OneDrive\\Desktop\\Weapon-Detection\\models\\vt2.mp4: 256x416 (no detections), 9.4ms\n",
      "video 1/1 (frame 40/117) C:\\Users\\dsy92\\OneDrive\\Desktop\\Weapon-Detection\\models\\vt2.mp4: 256x416 1 gun, 9.7ms\n",
      "video 1/1 (frame 41/117) C:\\Users\\dsy92\\OneDrive\\Desktop\\Weapon-Detection\\models\\vt2.mp4: 256x416 1 gun, 8.9ms\n",
      "video 1/1 (frame 42/117) C:\\Users\\dsy92\\OneDrive\\Desktop\\Weapon-Detection\\models\\vt2.mp4: 256x416 (no detections), 16.4ms\n",
      "video 1/1 (frame 43/117) C:\\Users\\dsy92\\OneDrive\\Desktop\\Weapon-Detection\\models\\vt2.mp4: 256x416 (no detections), 29.8ms\n",
      "video 1/1 (frame 44/117) C:\\Users\\dsy92\\OneDrive\\Desktop\\Weapon-Detection\\models\\vt2.mp4: 256x416 (no detections), 17.1ms\n",
      "video 1/1 (frame 45/117) C:\\Users\\dsy92\\OneDrive\\Desktop\\Weapon-Detection\\models\\vt2.mp4: 256x416 (no detections), 12.2ms\n",
      "video 1/1 (frame 46/117) C:\\Users\\dsy92\\OneDrive\\Desktop\\Weapon-Detection\\models\\vt2.mp4: 256x416 (no detections), 8.7ms\n",
      "video 1/1 (frame 47/117) C:\\Users\\dsy92\\OneDrive\\Desktop\\Weapon-Detection\\models\\vt2.mp4: 256x416 (no detections), 8.8ms\n",
      "video 1/1 (frame 48/117) C:\\Users\\dsy92\\OneDrive\\Desktop\\Weapon-Detection\\models\\vt2.mp4: 256x416 (no detections), 8.6ms\n",
      "video 1/1 (frame 49/117) C:\\Users\\dsy92\\OneDrive\\Desktop\\Weapon-Detection\\models\\vt2.mp4: 256x416 (no detections), 8.9ms\n",
      "video 1/1 (frame 50/117) C:\\Users\\dsy92\\OneDrive\\Desktop\\Weapon-Detection\\models\\vt2.mp4: 256x416 (no detections), 4287.1ms\n",
      "video 1/1 (frame 51/117) C:\\Users\\dsy92\\OneDrive\\Desktop\\Weapon-Detection\\models\\vt2.mp4: 256x416 (no detections), 12.2ms\n",
      "video 1/1 (frame 52/117) C:\\Users\\dsy92\\OneDrive\\Desktop\\Weapon-Detection\\models\\vt2.mp4: 256x416 (no detections), 14.4ms\n",
      "video 1/1 (frame 53/117) C:\\Users\\dsy92\\OneDrive\\Desktop\\Weapon-Detection\\models\\vt2.mp4: 256x416 (no detections), 11.3ms\n",
      "video 1/1 (frame 54/117) C:\\Users\\dsy92\\OneDrive\\Desktop\\Weapon-Detection\\models\\vt2.mp4: 256x416 (no detections), 19.3ms\n",
      "video 1/1 (frame 55/117) C:\\Users\\dsy92\\OneDrive\\Desktop\\Weapon-Detection\\models\\vt2.mp4: 256x416 (no detections), 11.6ms\n",
      "video 1/1 (frame 56/117) C:\\Users\\dsy92\\OneDrive\\Desktop\\Weapon-Detection\\models\\vt2.mp4: 256x416 (no detections), 12.4ms\n",
      "video 1/1 (frame 57/117) C:\\Users\\dsy92\\OneDrive\\Desktop\\Weapon-Detection\\models\\vt2.mp4: 256x416 (no detections), 12.7ms\n",
      "video 1/1 (frame 58/117) C:\\Users\\dsy92\\OneDrive\\Desktop\\Weapon-Detection\\models\\vt2.mp4: 256x416 (no detections), 13.1ms\n",
      "video 1/1 (frame 59/117) C:\\Users\\dsy92\\OneDrive\\Desktop\\Weapon-Detection\\models\\vt2.mp4: 256x416 (no detections), 17.6ms\n",
      "video 1/1 (frame 60/117) C:\\Users\\dsy92\\OneDrive\\Desktop\\Weapon-Detection\\models\\vt2.mp4: 256x416 (no detections), 10.9ms\n",
      "video 1/1 (frame 61/117) C:\\Users\\dsy92\\OneDrive\\Desktop\\Weapon-Detection\\models\\vt2.mp4: 256x416 (no detections), 13.2ms\n",
      "video 1/1 (frame 62/117) C:\\Users\\dsy92\\OneDrive\\Desktop\\Weapon-Detection\\models\\vt2.mp4: 256x416 (no detections), 13.0ms\n",
      "video 1/1 (frame 63/117) C:\\Users\\dsy92\\OneDrive\\Desktop\\Weapon-Detection\\models\\vt2.mp4: 256x416 (no detections), 13.6ms\n",
      "video 1/1 (frame 64/117) C:\\Users\\dsy92\\OneDrive\\Desktop\\Weapon-Detection\\models\\vt2.mp4: 256x416 (no detections), 11.8ms\n",
      "video 1/1 (frame 65/117) C:\\Users\\dsy92\\OneDrive\\Desktop\\Weapon-Detection\\models\\vt2.mp4: 256x416 (no detections), 14.9ms\n",
      "video 1/1 (frame 66/117) C:\\Users\\dsy92\\OneDrive\\Desktop\\Weapon-Detection\\models\\vt2.mp4: 256x416 (no detections), 11.3ms\n",
      "video 1/1 (frame 67/117) C:\\Users\\dsy92\\OneDrive\\Desktop\\Weapon-Detection\\models\\vt2.mp4: 256x416 (no detections), 22.8ms\n",
      "video 1/1 (frame 68/117) C:\\Users\\dsy92\\OneDrive\\Desktop\\Weapon-Detection\\models\\vt2.mp4: 256x416 (no detections), 11.8ms\n",
      "video 1/1 (frame 69/117) C:\\Users\\dsy92\\OneDrive\\Desktop\\Weapon-Detection\\models\\vt2.mp4: 256x416 (no detections), 14.8ms\n",
      "video 1/1 (frame 70/117) C:\\Users\\dsy92\\OneDrive\\Desktop\\Weapon-Detection\\models\\vt2.mp4: 256x416 (no detections), 15.8ms\n",
      "video 1/1 (frame 71/117) C:\\Users\\dsy92\\OneDrive\\Desktop\\Weapon-Detection\\models\\vt2.mp4: 256x416 (no detections), 11.7ms\n",
      "video 1/1 (frame 72/117) C:\\Users\\dsy92\\OneDrive\\Desktop\\Weapon-Detection\\models\\vt2.mp4: 256x416 (no detections), 12.4ms\n",
      "video 1/1 (frame 73/117) C:\\Users\\dsy92\\OneDrive\\Desktop\\Weapon-Detection\\models\\vt2.mp4: 256x416 (no detections), 14.2ms\n",
      "video 1/1 (frame 74/117) C:\\Users\\dsy92\\OneDrive\\Desktop\\Weapon-Detection\\models\\vt2.mp4: 256x416 (no detections), 13.6ms\n",
      "video 1/1 (frame 75/117) C:\\Users\\dsy92\\OneDrive\\Desktop\\Weapon-Detection\\models\\vt2.mp4: 256x416 (no detections), 15.6ms\n",
      "video 1/1 (frame 76/117) C:\\Users\\dsy92\\OneDrive\\Desktop\\Weapon-Detection\\models\\vt2.mp4: 256x416 (no detections), 12.8ms\n",
      "video 1/1 (frame 77/117) C:\\Users\\dsy92\\OneDrive\\Desktop\\Weapon-Detection\\models\\vt2.mp4: 256x416 (no detections), 12.3ms\n",
      "video 1/1 (frame 78/117) C:\\Users\\dsy92\\OneDrive\\Desktop\\Weapon-Detection\\models\\vt2.mp4: 256x416 (no detections), 15.5ms\n",
      "video 1/1 (frame 79/117) C:\\Users\\dsy92\\OneDrive\\Desktop\\Weapon-Detection\\models\\vt2.mp4: 256x416 (no detections), 11.6ms\n",
      "video 1/1 (frame 80/117) C:\\Users\\dsy92\\OneDrive\\Desktop\\Weapon-Detection\\models\\vt2.mp4: 256x416 (no detections), 13.3ms\n",
      "video 1/1 (frame 81/117) C:\\Users\\dsy92\\OneDrive\\Desktop\\Weapon-Detection\\models\\vt2.mp4: 256x416 (no detections), 10.4ms\n",
      "video 1/1 (frame 82/117) C:\\Users\\dsy92\\OneDrive\\Desktop\\Weapon-Detection\\models\\vt2.mp4: 256x416 (no detections), 11.3ms\n",
      "video 1/1 (frame 83/117) C:\\Users\\dsy92\\OneDrive\\Desktop\\Weapon-Detection\\models\\vt2.mp4: 256x416 (no detections), 12.6ms\n",
      "video 1/1 (frame 84/117) C:\\Users\\dsy92\\OneDrive\\Desktop\\Weapon-Detection\\models\\vt2.mp4: 256x416 (no detections), 11.6ms\n",
      "video 1/1 (frame 85/117) C:\\Users\\dsy92\\OneDrive\\Desktop\\Weapon-Detection\\models\\vt2.mp4: 256x416 (no detections), 10.1ms\n",
      "video 1/1 (frame 86/117) C:\\Users\\dsy92\\OneDrive\\Desktop\\Weapon-Detection\\models\\vt2.mp4: 256x416 (no detections), 13.1ms\n",
      "video 1/1 (frame 87/117) C:\\Users\\dsy92\\OneDrive\\Desktop\\Weapon-Detection\\models\\vt2.mp4: 256x416 (no detections), 14.1ms\n",
      "video 1/1 (frame 88/117) C:\\Users\\dsy92\\OneDrive\\Desktop\\Weapon-Detection\\models\\vt2.mp4: 256x416 (no detections), 12.7ms\n",
      "video 1/1 (frame 89/117) C:\\Users\\dsy92\\OneDrive\\Desktop\\Weapon-Detection\\models\\vt2.mp4: 256x416 (no detections), 25.7ms\n",
      "video 1/1 (frame 90/117) C:\\Users\\dsy92\\OneDrive\\Desktop\\Weapon-Detection\\models\\vt2.mp4: 256x416 (no detections), 12.3ms\n",
      "video 1/1 (frame 91/117) C:\\Users\\dsy92\\OneDrive\\Desktop\\Weapon-Detection\\models\\vt2.mp4: 256x416 (no detections), 13.8ms\n",
      "video 1/1 (frame 92/117) C:\\Users\\dsy92\\OneDrive\\Desktop\\Weapon-Detection\\models\\vt2.mp4: 256x416 (no detections), 15.0ms\n",
      "video 1/1 (frame 93/117) C:\\Users\\dsy92\\OneDrive\\Desktop\\Weapon-Detection\\models\\vt2.mp4: 256x416 (no detections), 10.9ms\n",
      "video 1/1 (frame 94/117) C:\\Users\\dsy92\\OneDrive\\Desktop\\Weapon-Detection\\models\\vt2.mp4: 256x416 (no detections), 12.4ms\n",
      "video 1/1 (frame 95/117) C:\\Users\\dsy92\\OneDrive\\Desktop\\Weapon-Detection\\models\\vt2.mp4: 256x416 (no detections), 14.1ms\n",
      "video 1/1 (frame 96/117) C:\\Users\\dsy92\\OneDrive\\Desktop\\Weapon-Detection\\models\\vt2.mp4: 256x416 (no detections), 11.7ms\n",
      "video 1/1 (frame 97/117) C:\\Users\\dsy92\\OneDrive\\Desktop\\Weapon-Detection\\models\\vt2.mp4: 256x416 (no detections), 12.5ms\n",
      "video 1/1 (frame 98/117) C:\\Users\\dsy92\\OneDrive\\Desktop\\Weapon-Detection\\models\\vt2.mp4: 256x416 (no detections), 21.3ms\n",
      "video 1/1 (frame 99/117) C:\\Users\\dsy92\\OneDrive\\Desktop\\Weapon-Detection\\models\\vt2.mp4: 256x416 (no detections), 10.5ms\n",
      "video 1/1 (frame 100/117) C:\\Users\\dsy92\\OneDrive\\Desktop\\Weapon-Detection\\models\\vt2.mp4: 256x416 (no detections), 18.3ms\n",
      "video 1/1 (frame 101/117) C:\\Users\\dsy92\\OneDrive\\Desktop\\Weapon-Detection\\models\\vt2.mp4: 256x416 (no detections), 12.6ms\n",
      "video 1/1 (frame 102/117) C:\\Users\\dsy92\\OneDrive\\Desktop\\Weapon-Detection\\models\\vt2.mp4: 256x416 (no detections), 9.9ms\n",
      "video 1/1 (frame 103/117) C:\\Users\\dsy92\\OneDrive\\Desktop\\Weapon-Detection\\models\\vt2.mp4: 256x416 (no detections), 13.0ms\n",
      "video 1/1 (frame 104/117) C:\\Users\\dsy92\\OneDrive\\Desktop\\Weapon-Detection\\models\\vt2.mp4: 256x416 (no detections), 9.9ms\n",
      "video 1/1 (frame 105/117) C:\\Users\\dsy92\\OneDrive\\Desktop\\Weapon-Detection\\models\\vt2.mp4: 256x416 (no detections), 11.5ms\n",
      "video 1/1 (frame 106/117) C:\\Users\\dsy92\\OneDrive\\Desktop\\Weapon-Detection\\models\\vt2.mp4: 256x416 (no detections), 8.8ms\n",
      "video 1/1 (frame 107/117) C:\\Users\\dsy92\\OneDrive\\Desktop\\Weapon-Detection\\models\\vt2.mp4: 256x416 (no detections), 9.2ms\n",
      "video 1/1 (frame 108/117) C:\\Users\\dsy92\\OneDrive\\Desktop\\Weapon-Detection\\models\\vt2.mp4: 256x416 (no detections), 10.5ms\n",
      "video 1/1 (frame 109/117) C:\\Users\\dsy92\\OneDrive\\Desktop\\Weapon-Detection\\models\\vt2.mp4: 256x416 (no detections), 26.0ms\n",
      "video 1/1 (frame 110/117) C:\\Users\\dsy92\\OneDrive\\Desktop\\Weapon-Detection\\models\\vt2.mp4: 256x416 (no detections), 12.4ms\n",
      "video 1/1 (frame 111/117) C:\\Users\\dsy92\\OneDrive\\Desktop\\Weapon-Detection\\models\\vt2.mp4: 256x416 (no detections), 11.7ms\n",
      "video 1/1 (frame 112/117) C:\\Users\\dsy92\\OneDrive\\Desktop\\Weapon-Detection\\models\\vt2.mp4: 256x416 (no detections), 15.0ms\n",
      "video 1/1 (frame 113/117) C:\\Users\\dsy92\\OneDrive\\Desktop\\Weapon-Detection\\models\\vt2.mp4: 256x416 (no detections), 17.6ms\n",
      "video 1/1 (frame 114/117) C:\\Users\\dsy92\\OneDrive\\Desktop\\Weapon-Detection\\models\\vt2.mp4: 256x416 (no detections), 11.5ms\n",
      "video 1/1 (frame 115/117) C:\\Users\\dsy92\\OneDrive\\Desktop\\Weapon-Detection\\models\\vt2.mp4: 256x416 (no detections), 13.9ms\n",
      "video 1/1 (frame 116/117) C:\\Users\\dsy92\\OneDrive\\Desktop\\Weapon-Detection\\models\\vt2.mp4: 256x416 (no detections), 11.1ms\n",
      "video 1/1 (frame 117/117) C:\\Users\\dsy92\\OneDrive\\Desktop\\Weapon-Detection\\models\\vt2.mp4: 256x416 (no detections), 12.3ms\n",
      "Speed: 27.6ms preprocess, 48.6ms inference, 1.0ms postprocess per image at shape (1, 3, 256, 416)\n"
     ]
    },
    {
     "ename": "UnidentifiedImageError",
     "evalue": "cannot identify image file 'C:\\\\Users\\\\dsy92\\\\OneDrive\\\\Desktop\\\\Weapon-Detection\\\\models\\\\vt2.mp4'",
     "output_type": "error",
     "traceback": [
      "\u001b[31m---------------------------------------------------------------------------\u001b[39m",
      "\u001b[31mUnidentifiedImageError\u001b[39m                    Traceback (most recent call last)",
      "\u001b[36mCell\u001b[39m\u001b[36m \u001b[39m\u001b[32mIn[37]\u001b[39m\u001b[32m, line 19\u001b[39m\n\u001b[32m     16\u001b[39m boxes = results[\u001b[32m0\u001b[39m].boxes\n\u001b[32m     18\u001b[39m \u001b[38;5;66;03m# Load original image for cropping\u001b[39;00m\n\u001b[32m---> \u001b[39m\u001b[32m19\u001b[39m image = \u001b[43mImage\u001b[49m\u001b[43m.\u001b[49m\u001b[43mopen\u001b[49m\u001b[43m(\u001b[49m\u001b[43mimg_path\u001b[49m\u001b[43m)\u001b[49m.convert(\u001b[33m\"\u001b[39m\u001b[33mRGB\u001b[39m\u001b[33m\"\u001b[39m)\n\u001b[32m     21\u001b[39m \u001b[38;5;66;03m# Check and handle detections\u001b[39;00m\n\u001b[32m     22\u001b[39m \u001b[38;5;28;01mif\u001b[39;00m boxes \u001b[38;5;129;01mis\u001b[39;00m \u001b[38;5;129;01mnot\u001b[39;00m \u001b[38;5;28;01mNone\u001b[39;00m \u001b[38;5;129;01mand\u001b[39;00m \u001b[38;5;28mlen\u001b[39m(boxes) > \u001b[32m0\u001b[39m:\n",
      "\u001b[36mFile \u001b[39m\u001b[32mc:\\Compiler\\Python\\Lib\\site-packages\\PIL\\Image.py:3532\u001b[39m, in \u001b[36mopen\u001b[39m\u001b[34m(fp, mode, formats)\u001b[39m\n\u001b[32m   3530\u001b[39m     warnings.warn(message)\n\u001b[32m   3531\u001b[39m msg = \u001b[33m\"\u001b[39m\u001b[33mcannot identify image file \u001b[39m\u001b[38;5;132;01m%r\u001b[39;00m\u001b[33m\"\u001b[39m % (filename \u001b[38;5;28;01mif\u001b[39;00m filename \u001b[38;5;28;01melse\u001b[39;00m fp)\n\u001b[32m-> \u001b[39m\u001b[32m3532\u001b[39m \u001b[38;5;28;01mraise\u001b[39;00m UnidentifiedImageError(msg)\n",
      "\u001b[31mUnidentifiedImageError\u001b[39m: cannot identify image file 'C:\\\\Users\\\\dsy92\\\\OneDrive\\\\Desktop\\\\Weapon-Detection\\\\models\\\\vt2.mp4'"
     ]
    }
   ],
   "source": [
    "from ultralytics import YOLO\n",
    "from PIL import Image\n",
    "import os\n",
    "\n",
    "# Paths\n",
    "model_path = r\"C:\\Users\\dsy92\\OneDrive\\Desktop\\Weapon-Detection\\model\\version3.pt\"\n",
    "img_path = r\"C:\\Users\\dsy92\\OneDrive\\Desktop\\Weapon-Detection\\models\\vt2.mp4\"\n",
    "output_path = \"predicted_output1.jpg\"\n",
    "crop_dir = \"detected_crops\"\n",
    "\n",
    "# Load YOLOv8 model\n",
    "model = YOLO(model_path)\n",
    "\n",
    "# Run inference\n",
    "results = model(img_path, conf=0.25)  # Lowered confidence threshold for more detections\n",
    "boxes = results[0].boxes\n",
    "\n",
    "# Load original image for cropping\n",
    "image = Image.open(img_path).convert(\"RGB\")\n",
    "\n",
    "# Check and handle detections\n",
    "if boxes is not None and len(boxes) > 0:\n",
    "    print(\"✅ Weapon detected in the image.\")\n",
    "    os.makedirs(crop_dir, exist_ok=True)\n",
    "\n",
    "    for i, box in enumerate(boxes):\n",
    "        cls_id = int(box.cls)\n",
    "        conf = float(box.conf)\n",
    "        xyxy = box.xyxy[0].cpu().numpy()  # [x1, y1, x2, y2]\n",
    "\n",
    "        print(f\"Detected: {model.names[cls_id]} with confidence {conf:.2f}\")\n",
    "\n",
    "        # Crop detected area and save\n",
    "        cropped = image.crop(xyxy)\n",
    "        cropped_filename = os.path.join(crop_dir, f\"weapon_crop_{i+1}.jpg\")\n",
    "        cropped.save(cropped_filename)\n",
    "        print(f\"🔍 Cropped image saved: {cropped_filename}\")\n",
    "else:\n",
    "    print(\"❌ No weapon detected in the image.\")\n",
    "\n",
    "# Show image with boxes\n",
    "results[0].show()\n",
    "\n",
    "# Save image with bounding boxes\n",
    "results[0].save(filename=output_path)\n",
    "print(f\"🖼️ Image with boxes saved to: {os.path.abspath(output_path)}\")\n"
   ]
  },
  {
   "cell_type": "code",
   "execution_count": 2,
   "id": "247cf562",
   "metadata": {},
   "outputs": [
    {
     "ename": "FileNotFoundError",
     "evalue": "❌ Video file not found: C:/Users/dsy92/OneDrive/Desktop/Weapon-Detection/models/test_video.mp4",
     "output_type": "error",
     "traceback": [
      "\u001b[31m---------------------------------------------------------------------------\u001b[39m",
      "\u001b[31mFileNotFoundError\u001b[39m                         Traceback (most recent call last)",
      "\u001b[36mCell\u001b[39m\u001b[36m \u001b[39m\u001b[32mIn[2]\u001b[39m\u001b[32m, line 14\u001b[39m\n\u001b[32m     12\u001b[39m     \u001b[38;5;28;01mraise\u001b[39;00m \u001b[38;5;167;01mFileNotFoundError\u001b[39;00m(\u001b[33mf\u001b[39m\u001b[33m\"\u001b[39m\u001b[33m❌ Model file not found: \u001b[39m\u001b[38;5;132;01m{\u001b[39;00mmodel_path\u001b[38;5;132;01m}\u001b[39;00m\u001b[33m\"\u001b[39m)\n\u001b[32m     13\u001b[39m \u001b[38;5;28;01mif\u001b[39;00m \u001b[38;5;129;01mnot\u001b[39;00m os.path.exists(video_path):\n\u001b[32m---> \u001b[39m\u001b[32m14\u001b[39m     \u001b[38;5;28;01mraise\u001b[39;00m \u001b[38;5;167;01mFileNotFoundError\u001b[39;00m(\u001b[33mf\u001b[39m\u001b[33m\"\u001b[39m\u001b[33m❌ Video file not found: \u001b[39m\u001b[38;5;132;01m{\u001b[39;00mvideo_path\u001b[38;5;132;01m}\u001b[39;00m\u001b[33m\"\u001b[39m)\n\u001b[32m     16\u001b[39m \u001b[38;5;66;03m# === Load model ===\u001b[39;00m\n\u001b[32m     17\u001b[39m model = YOLO(model_path)\n",
      "\u001b[31mFileNotFoundError\u001b[39m: ❌ Video file not found: C:/Users/dsy92/OneDrive/Desktop/Weapon-Detection/models/test_video.mp4"
     ]
    }
   ],
   "source": [
    "import cv2\n",
    "import os\n",
    "from ultralytics import YOLO\n",
    "\n",
    "# === Set paths ===\n",
    "model_path = r\"C:/Users/dsy92/OneDrive/Desktop/Weapon-Detection/model/version2.pt\"\n",
    "video_path = r\"C:/Users/dsy92/OneDrive/Desktop/Weapon-Detection/models/test_video.mp4\"\n",
    "output_path = r\"C:/Users/dsy92/OneDrive/Desktop/Weapon-Detection/models/output_video.mp4\"\n",
    "\n",
    "# === Check if paths are valid ===\n",
    "if not os.path.exists(model_path):\n",
    "    raise FileNotFoundError(f\"❌ Model file not found: {model_path}\")\n",
    "if not os.path.exists(video_path):\n",
    "    raise FileNotFoundError(f\"❌ Video file not found: {video_path}\")\n",
    "\n",
    "# === Load model ===\n",
    "model = YOLO(model_path)\n",
    "\n",
    "# === Load video ===\n",
    "cap = cv2.VideoCapture(video_path)\n",
    "if not cap.isOpened():\n",
    "    raise IOError(\"❌ Failed to open video file. Make sure the file exists and the codec is supported.\")\n",
    "\n",
    "# === Get video properties ===\n",
    "fps = cap.get(cv2.CAP_PROP_FPS)\n",
    "if fps == 0:\n",
    "    print(\"⚠️ FPS is 0. Setting fallback FPS to 30.\")\n",
    "    fps = 30\n",
    "\n",
    "width = int(cap.get(cv2.CAP_PROP_FRAME_WIDTH))\n",
    "height = int(cap.get(cv2.CAP_PROP_FRAME_HEIGHT))\n",
    "\n",
    "# === Output writer ===\n",
    "fourcc = cv2.VideoWriter_fourcc(*'mp4v')\n",
    "out = cv2.VideoWriter(output_path, fourcc, fps, (width, height))\n",
    "\n",
    "# === Optional: slow down video playback in display\n",
    "slow_factor = 2\n",
    "delay = int((1000 / fps) * slow_factor)\n",
    "\n",
    "# === Inference loop ===\n",
    "while True:\n",
    "    ret, frame = cap.read()\n",
    "    if not ret:\n",
    "        break\n",
    "\n",
    "    # Inference with confidence threshold\n",
    "    results = model(frame, conf=0.5)\n",
    "\n",
    "    # Annotate the frame\n",
    "    annotated_frame = results[0].plot()\n",
    "\n",
    "    # Write and display\n",
    "    out.write(annotated_frame)\n",
    "    cv2.imshow(\"Weapon Detection\", annotated_frame)\n",
    "\n",
    "    if cv2.waitKey(delay) & 0xFF == ord('q'):\n",
    "        break\n",
    "\n",
    "# === Cleanup ===\n",
    "cap.release()\n",
    "out.release()\n",
    "cv2.destroyAllWindows()\n",
    "\n",
    "print(f\"✅ Detection complete. Saved to: {output_path}\")\n"
   ]
  },
  {
   "cell_type": "code",
   "execution_count": 3,
   "id": "0ad706a5",
   "metadata": {},
   "outputs": [
    {
     "name": "stderr",
     "output_type": "stream",
     "text": [
      "C:\\Users\\dsy92\\AppData\\Local\\Temp\\ipykernel_15092\\437227526.py:4: FutureWarning: You are using `torch.load` with `weights_only=False` (the current default value), which uses the default pickle module implicitly. It is possible to construct malicious pickle data which will execute arbitrary code during unpickling (See https://github.com/pytorch/pytorch/blob/main/SECURITY.md#untrusted-models for more details). In a future release, the default value for `weights_only` will be flipped to `True`. This limits the functions that could be executed during unpickling. Arbitrary objects will no longer be allowed to be loaded via this mode unless they are explicitly allowlisted by the user via `torch.serialization.add_safe_globals`. We recommend you start setting `weights_only=True` for any use case where you don't have full control of the loaded file. Please open an issue on GitHub for any issues related to this experimental feature.\n",
      "  loaded = torch.load(model_path, map_location='cpu')\n"
     ]
    },
    {
     "name": "stdout",
     "output_type": "stream",
     "text": [
      "<class 'dict'>\n",
      "dict_keys(['date', 'version', 'license', 'docs', 'epoch', 'best_fitness', 'model', 'ema', 'updates', 'optimizer', 'train_args', 'train_metrics', 'train_results'])\n"
     ]
    }
   ],
   "source": [
    "import torch\n",
    "\n",
    "model_path = r\"C:\\Users\\dsy92\\OneDrive\\Desktop\\Weapon-Detection\\model\\version2.pt\"\n",
    "loaded = torch.load(model_path, map_location='cpu')\n",
    "\n",
    "print(type(loaded))         # Check the type of the loaded object\n",
    "print(loaded.keys() if isinstance(loaded, dict) else None)\n"
   ]
  },
  {
   "cell_type": "code",
   "execution_count": null,
   "id": "da4e66b8",
   "metadata": {},
   "outputs": [],
   "source": []
  }
 ],
 "metadata": {
  "kernelspec": {
   "display_name": "new_env",
   "language": "python",
   "name": "python3"
  },
  "language_info": {
   "codemirror_mode": {
    "name": "ipython",
    "version": 3
   },
   "file_extension": ".py",
   "mimetype": "text/x-python",
   "name": "python",
   "nbconvert_exporter": "python",
   "pygments_lexer": "ipython3",
   "version": "3.10.16"
  }
 },
 "nbformat": 4,
 "nbformat_minor": 5
}
